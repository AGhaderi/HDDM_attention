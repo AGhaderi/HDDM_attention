{
 "cells": [
  {
   "cell_type": "code",
   "execution_count": 2,
   "metadata": {},
   "outputs": [
    {
     "name": "stderr",
     "output_type": "stream",
     "text": [
      "C:\\Users\\amin\\Anaconda3\\lib\\site-packages\\statsmodels\\tools\\_testing.py:19: FutureWarning: pandas.util.testing is deprecated. Use the functions in the public API at pandas.testing instead.\n",
      "  import pandas.util.testing as tm\n"
     ]
    }
   ],
   "source": [
    "%matplotlib qt\n",
    "#inline\n",
    "import os\n",
    "import os.path as op\n",
    "import mne\n",
    "import numpy as np\n",
    "import pandas as pd\n",
    "from time import time\n",
    "import matplotlib.pyplot as plt\n",
    "from mne.time_frequency import (tfr_multitaper, tfr_stockwell, tfr_morlet,\n",
    "                                tfr_array_morlet)\n",
    "from mne.stats import f_threshold_mway_rm, f_mway_rm, fdr_correction,bonferroni_correction\n",
    "from mne.channels import find_ch_adjacency\n",
    "from mne.stats import spatio_temporal_cluster_test, permutation_t_test\n",
    "import scipy.stats as stats\n",
    "import statsmodels.api as sm\n",
    "import seaborn as sns"
   ]
  },
  {
   "cell_type": "code",
   "execution_count": 70,
   "metadata": {
    "scrolled": true
   },
   "outputs": [
    {
     "name": "stdout",
     "output_type": "stream",
     "text": [
      "Reading D:\\PhD\\PDM_data\\eeg_outside-MRT\\sub-001\\sourcedata-eeg_outside-MRT\\eeg\\sub-001_prerprocessed.fif ...\n"
     ]
    },
    {
     "name": "stderr",
     "output_type": "stream",
     "text": [
      "<ipython-input-70-207133ead15d>:13: RuntimeWarning: This filename (D:\\PhD\\PDM_data\\eeg_outside-MRT\\sub-001\\sourcedata-eeg_outside-MRT\\eeg\\sub-001_prerprocessed.fif) does not conform to MNE naming conventions. All epochs files should end with -epo.fif, -epo.fif.gz, _epo.fif or _epo.fif.gz\n",
      "  epochs = mne.read_epochs(examples_dir + \"\\\\\"+ i + \"_prerprocessed.fif\");\n"
     ]
    },
    {
     "name": "stdout",
     "output_type": "stream",
     "text": [
      "    Read a total of 1 projection items:\n",
      "        Average EEG reference (1 x 62) active\n",
      "    Found the data of interest:\n",
      "        t =    -101.56 ...    1601.56 ms\n",
      "        0 CTF compensation matrices available\n",
      "Not setting metadata\n",
      "Not setting metadata\n",
      "275 matching events found\n",
      "Applying baseline correction (mode: mean)\n",
      "Created an SSP operator (subspace dimension = 1)\n",
      "1 projection items activated\n",
      "Reading D:\\PhD\\PDM_data\\eeg_outside-MRT\\sub-003\\sourcedata-eeg_outside-MRT\\eeg\\sub-003_prerprocessed.fif ...\n"
     ]
    },
    {
     "name": "stderr",
     "output_type": "stream",
     "text": [
      "<ipython-input-70-207133ead15d>:13: RuntimeWarning: This filename (D:\\PhD\\PDM_data\\eeg_outside-MRT\\sub-003\\sourcedata-eeg_outside-MRT\\eeg\\sub-003_prerprocessed.fif) does not conform to MNE naming conventions. All epochs files should end with -epo.fif, -epo.fif.gz, _epo.fif or _epo.fif.gz\n",
      "  epochs = mne.read_epochs(examples_dir + \"\\\\\"+ i + \"_prerprocessed.fif\");\n"
     ]
    },
    {
     "name": "stdout",
     "output_type": "stream",
     "text": [
      "    Read a total of 1 projection items:\n",
      "        Average EEG reference (1 x 62) active\n",
      "    Found the data of interest:\n",
      "        t =    -101.56 ...    1601.56 ms\n",
      "        0 CTF compensation matrices available\n",
      "Not setting metadata\n",
      "Not setting metadata\n",
      "280 matching events found\n",
      "Applying baseline correction (mode: mean)\n",
      "Created an SSP operator (subspace dimension = 1)\n",
      "1 projection items activated\n",
      "Reading D:\\PhD\\PDM_data\\eeg_outside-MRT\\sub-004\\sourcedata-eeg_outside-MRT\\eeg\\sub-004_prerprocessed.fif ...\n"
     ]
    },
    {
     "name": "stderr",
     "output_type": "stream",
     "text": [
      "<ipython-input-70-207133ead15d>:13: RuntimeWarning: This filename (D:\\PhD\\PDM_data\\eeg_outside-MRT\\sub-004\\sourcedata-eeg_outside-MRT\\eeg\\sub-004_prerprocessed.fif) does not conform to MNE naming conventions. All epochs files should end with -epo.fif, -epo.fif.gz, _epo.fif or _epo.fif.gz\n",
      "  epochs = mne.read_epochs(examples_dir + \"\\\\\"+ i + \"_prerprocessed.fif\");\n"
     ]
    },
    {
     "name": "stdout",
     "output_type": "stream",
     "text": [
      "    Read a total of 1 projection items:\n",
      "        Average EEG reference (1 x 62) active\n",
      "    Found the data of interest:\n",
      "        t =    -101.56 ...    1601.56 ms\n",
      "        0 CTF compensation matrices available\n",
      "Not setting metadata\n",
      "Not setting metadata\n",
      "261 matching events found\n",
      "Applying baseline correction (mode: mean)\n",
      "Created an SSP operator (subspace dimension = 1)\n",
      "1 projection items activated\n",
      "Reading D:\\PhD\\PDM_data\\eeg_outside-MRT\\sub-005\\sourcedata-eeg_outside-MRT\\eeg\\sub-005_prerprocessed.fif ...\n"
     ]
    },
    {
     "name": "stderr",
     "output_type": "stream",
     "text": [
      "<ipython-input-70-207133ead15d>:13: RuntimeWarning: This filename (D:\\PhD\\PDM_data\\eeg_outside-MRT\\sub-005\\sourcedata-eeg_outside-MRT\\eeg\\sub-005_prerprocessed.fif) does not conform to MNE naming conventions. All epochs files should end with -epo.fif, -epo.fif.gz, _epo.fif or _epo.fif.gz\n",
      "  epochs = mne.read_epochs(examples_dir + \"\\\\\"+ i + \"_prerprocessed.fif\");\n"
     ]
    },
    {
     "name": "stdout",
     "output_type": "stream",
     "text": [
      "    Read a total of 1 projection items:\n",
      "        Average EEG reference (1 x 62) active\n",
      "    Found the data of interest:\n",
      "        t =    -101.56 ...    1601.56 ms\n",
      "        0 CTF compensation matrices available\n",
      "Not setting metadata\n",
      "Not setting metadata\n",
      "237 matching events found\n",
      "Applying baseline correction (mode: mean)\n",
      "Created an SSP operator (subspace dimension = 1)\n",
      "1 projection items activated\n",
      "Reading D:\\PhD\\PDM_data\\eeg_outside-MRT\\sub-006\\sourcedata-eeg_outside-MRT\\eeg\\sub-006_prerprocessed.fif ...\n"
     ]
    },
    {
     "name": "stderr",
     "output_type": "stream",
     "text": [
      "<ipython-input-70-207133ead15d>:13: RuntimeWarning: This filename (D:\\PhD\\PDM_data\\eeg_outside-MRT\\sub-006\\sourcedata-eeg_outside-MRT\\eeg\\sub-006_prerprocessed.fif) does not conform to MNE naming conventions. All epochs files should end with -epo.fif, -epo.fif.gz, _epo.fif or _epo.fif.gz\n",
      "  epochs = mne.read_epochs(examples_dir + \"\\\\\"+ i + \"_prerprocessed.fif\");\n"
     ]
    },
    {
     "name": "stdout",
     "output_type": "stream",
     "text": [
      "    Read a total of 1 projection items:\n",
      "        Average EEG reference (1 x 62) active\n",
      "    Found the data of interest:\n",
      "        t =    -101.56 ...    1601.56 ms\n",
      "        0 CTF compensation matrices available\n",
      "Not setting metadata\n",
      "Not setting metadata\n",
      "271 matching events found\n",
      "Applying baseline correction (mode: mean)\n",
      "Created an SSP operator (subspace dimension = 1)\n",
      "1 projection items activated\n",
      "Reading D:\\PhD\\PDM_data\\eeg_outside-MRT\\sub-008\\sourcedata-eeg_outside-MRT\\eeg\\sub-008_prerprocessed.fif ...\n",
      "    Read a total of 1 projection items:\n",
      "        Average EEG reference (1 x 62) active\n",
      "    Found the data of interest:\n",
      "        t =    -101.56 ...    1601.56 ms\n",
      "        0 CTF compensation matrices available\n",
      "Not setting metadata\n"
     ]
    },
    {
     "name": "stderr",
     "output_type": "stream",
     "text": [
      "<ipython-input-70-207133ead15d>:13: RuntimeWarning: This filename (D:\\PhD\\PDM_data\\eeg_outside-MRT\\sub-008\\sourcedata-eeg_outside-MRT\\eeg\\sub-008_prerprocessed.fif) does not conform to MNE naming conventions. All epochs files should end with -epo.fif, -epo.fif.gz, _epo.fif or _epo.fif.gz\n",
      "  epochs = mne.read_epochs(examples_dir + \"\\\\\"+ i + \"_prerprocessed.fif\");\n"
     ]
    },
    {
     "name": "stdout",
     "output_type": "stream",
     "text": [
      "Not setting metadata\n",
      "273 matching events found\n",
      "Applying baseline correction (mode: mean)\n",
      "Created an SSP operator (subspace dimension = 1)\n",
      "1 projection items activated\n",
      "Reading D:\\PhD\\PDM_data\\eeg_outside-MRT\\sub-009\\sourcedata-eeg_outside-MRT\\eeg\\sub-009_prerprocessed.fif ...\n",
      "    Read a total of 1 projection items:\n",
      "        Average EEG reference (1 x 62) active\n",
      "    Found the data of interest:\n",
      "        t =    -101.56 ...    1601.56 ms\n",
      "        0 CTF compensation matrices available\n",
      "Not setting metadata\n",
      "Not setting metadata\n",
      "251 matching events found\n",
      "Applying baseline correction (mode: mean)\n",
      "Created an SSP operator (subspace dimension = 1)\n",
      "1 projection items activated\n"
     ]
    },
    {
     "name": "stderr",
     "output_type": "stream",
     "text": [
      "<ipython-input-70-207133ead15d>:13: RuntimeWarning: This filename (D:\\PhD\\PDM_data\\eeg_outside-MRT\\sub-009\\sourcedata-eeg_outside-MRT\\eeg\\sub-009_prerprocessed.fif) does not conform to MNE naming conventions. All epochs files should end with -epo.fif, -epo.fif.gz, _epo.fif or _epo.fif.gz\n",
      "  epochs = mne.read_epochs(examples_dir + \"\\\\\"+ i + \"_prerprocessed.fif\");\n"
     ]
    },
    {
     "name": "stdout",
     "output_type": "stream",
     "text": [
      "Reading D:\\PhD\\PDM_data\\eeg_outside-MRT\\sub-010\\sourcedata-eeg_outside-MRT\\eeg\\sub-010_prerprocessed.fif ...\n",
      "    Read a total of 1 projection items:\n",
      "        Average EEG reference (1 x 62) active\n",
      "    Found the data of interest:\n",
      "        t =    -101.56 ...    1601.56 ms\n",
      "        0 CTF compensation matrices available\n",
      "Not setting metadata\n",
      "Not setting metadata\n",
      "275 matching events found\n",
      "Applying baseline correction (mode: mean)\n",
      "Created an SSP operator (subspace dimension = 1)\n"
     ]
    },
    {
     "name": "stderr",
     "output_type": "stream",
     "text": [
      "<ipython-input-70-207133ead15d>:13: RuntimeWarning: This filename (D:\\PhD\\PDM_data\\eeg_outside-MRT\\sub-010\\sourcedata-eeg_outside-MRT\\eeg\\sub-010_prerprocessed.fif) does not conform to MNE naming conventions. All epochs files should end with -epo.fif, -epo.fif.gz, _epo.fif or _epo.fif.gz\n",
      "  epochs = mne.read_epochs(examples_dir + \"\\\\\"+ i + \"_prerprocessed.fif\");\n"
     ]
    },
    {
     "name": "stdout",
     "output_type": "stream",
     "text": [
      "1 projection items activated\n",
      "Reading D:\\PhD\\PDM_data\\eeg_outside-MRT\\sub-012\\sourcedata-eeg_outside-MRT\\eeg\\sub-012_prerprocessed.fif ...\n",
      "    Read a total of 1 projection items:\n",
      "        Average EEG reference (1 x 62) active\n",
      "    Found the data of interest:\n",
      "        t =    -101.56 ...    1601.56 ms\n",
      "        0 CTF compensation matrices available\n"
     ]
    },
    {
     "name": "stderr",
     "output_type": "stream",
     "text": [
      "<ipython-input-70-207133ead15d>:13: RuntimeWarning: This filename (D:\\PhD\\PDM_data\\eeg_outside-MRT\\sub-012\\sourcedata-eeg_outside-MRT\\eeg\\sub-012_prerprocessed.fif) does not conform to MNE naming conventions. All epochs files should end with -epo.fif, -epo.fif.gz, _epo.fif or _epo.fif.gz\n",
      "  epochs = mne.read_epochs(examples_dir + \"\\\\\"+ i + \"_prerprocessed.fif\");\n"
     ]
    },
    {
     "name": "stdout",
     "output_type": "stream",
     "text": [
      "Not setting metadata\n",
      "Not setting metadata\n",
      "273 matching events found\n",
      "Applying baseline correction (mode: mean)\n",
      "Created an SSP operator (subspace dimension = 1)\n",
      "1 projection items activated\n",
      "Reading D:\\PhD\\PDM_data\\eeg_outside-MRT\\sub-013\\sourcedata-eeg_outside-MRT\\eeg\\sub-013_prerprocessed.fif ...\n",
      "    Read a total of 1 projection items:\n",
      "        Average EEG reference (1 x 62) active\n",
      "    Found the data of interest:\n",
      "        t =    -101.56 ...    1601.56 ms\n",
      "        0 CTF compensation matrices available\n",
      "Not setting metadata\n",
      "Not setting metadata\n",
      "244 matching events found\n",
      "Applying baseline correction (mode: mean)\n",
      "Created an SSP operator (subspace dimension = 1)\n",
      "1 projection items activated\n"
     ]
    },
    {
     "name": "stderr",
     "output_type": "stream",
     "text": [
      "<ipython-input-70-207133ead15d>:13: RuntimeWarning: This filename (D:\\PhD\\PDM_data\\eeg_outside-MRT\\sub-013\\sourcedata-eeg_outside-MRT\\eeg\\sub-013_prerprocessed.fif) does not conform to MNE naming conventions. All epochs files should end with -epo.fif, -epo.fif.gz, _epo.fif or _epo.fif.gz\n",
      "  epochs = mne.read_epochs(examples_dir + \"\\\\\"+ i + \"_prerprocessed.fif\");\n"
     ]
    },
    {
     "name": "stdout",
     "output_type": "stream",
     "text": [
      "Reading D:\\PhD\\PDM_data\\eeg_outside-MRT\\sub-014\\sourcedata-eeg_outside-MRT\\eeg\\sub-014_prerprocessed.fif ...\n",
      "    Read a total of 1 projection items:\n",
      "        Average EEG reference (1 x 62) active\n",
      "    Found the data of interest:\n",
      "        t =    -101.56 ...    1601.56 ms\n",
      "        0 CTF compensation matrices available\n",
      "Not setting metadata\n",
      "Not setting metadata\n"
     ]
    },
    {
     "name": "stderr",
     "output_type": "stream",
     "text": [
      "<ipython-input-70-207133ead15d>:13: RuntimeWarning: This filename (D:\\PhD\\PDM_data\\eeg_outside-MRT\\sub-014\\sourcedata-eeg_outside-MRT\\eeg\\sub-014_prerprocessed.fif) does not conform to MNE naming conventions. All epochs files should end with -epo.fif, -epo.fif.gz, _epo.fif or _epo.fif.gz\n",
      "  epochs = mne.read_epochs(examples_dir + \"\\\\\"+ i + \"_prerprocessed.fif\");\n"
     ]
    },
    {
     "name": "stdout",
     "output_type": "stream",
     "text": [
      "263 matching events found\n",
      "Applying baseline correction (mode: mean)\n",
      "Created an SSP operator (subspace dimension = 1)\n",
      "1 projection items activated\n",
      "Reading D:\\PhD\\PDM_data\\eeg_outside-MRT\\sub-015\\sourcedata-eeg_outside-MRT\\eeg\\sub-015_prerprocessed.fif ...\n",
      "    Read a total of 1 projection items:\n",
      "        Average EEG reference (1 x 62) active\n",
      "    Found the data of interest:\n",
      "        t =    -101.56 ...    1601.56 ms\n",
      "        0 CTF compensation matrices available\n",
      "Not setting metadata\n",
      "Not setting metadata\n",
      "257 matching events found\n",
      "Applying baseline correction (mode: mean)\n",
      "Created an SSP operator (subspace dimension = 1)\n",
      "1 projection items activated\n"
     ]
    },
    {
     "name": "stderr",
     "output_type": "stream",
     "text": [
      "<ipython-input-70-207133ead15d>:13: RuntimeWarning: This filename (D:\\PhD\\PDM_data\\eeg_outside-MRT\\sub-015\\sourcedata-eeg_outside-MRT\\eeg\\sub-015_prerprocessed.fif) does not conform to MNE naming conventions. All epochs files should end with -epo.fif, -epo.fif.gz, _epo.fif or _epo.fif.gz\n",
      "  epochs = mne.read_epochs(examples_dir + \"\\\\\"+ i + \"_prerprocessed.fif\");\n"
     ]
    },
    {
     "name": "stdout",
     "output_type": "stream",
     "text": [
      "Reading D:\\PhD\\PDM_data\\eeg_outside-MRT\\sub-016\\sourcedata-eeg_outside-MRT\\eeg\\sub-016_prerprocessed.fif ...\n",
      "    Read a total of 1 projection items:\n",
      "        Average EEG reference (1 x 62) active\n",
      "    Found the data of interest:\n",
      "        t =    -101.56 ...    1601.56 ms\n",
      "        0 CTF compensation matrices available\n",
      "Not setting metadata\n",
      "Not setting metadata\n",
      "245 matching events found\n",
      "Applying baseline correction (mode: mean)\n"
     ]
    },
    {
     "name": "stderr",
     "output_type": "stream",
     "text": [
      "<ipython-input-70-207133ead15d>:13: RuntimeWarning: This filename (D:\\PhD\\PDM_data\\eeg_outside-MRT\\sub-016\\sourcedata-eeg_outside-MRT\\eeg\\sub-016_prerprocessed.fif) does not conform to MNE naming conventions. All epochs files should end with -epo.fif, -epo.fif.gz, _epo.fif or _epo.fif.gz\n",
      "  epochs = mne.read_epochs(examples_dir + \"\\\\\"+ i + \"_prerprocessed.fif\");\n"
     ]
    },
    {
     "name": "stdout",
     "output_type": "stream",
     "text": [
      "Created an SSP operator (subspace dimension = 1)\n",
      "1 projection items activated\n",
      "Reading D:\\PhD\\PDM_data\\eeg_outside-MRT\\sub-017\\sourcedata-eeg_outside-MRT\\eeg\\sub-017_prerprocessed.fif ...\n",
      "    Read a total of 1 projection items:\n",
      "        Average EEG reference (1 x 62) active\n",
      "    Found the data of interest:\n",
      "        t =    -101.56 ...    1601.56 ms\n",
      "        0 CTF compensation matrices available\n"
     ]
    },
    {
     "name": "stderr",
     "output_type": "stream",
     "text": [
      "<ipython-input-70-207133ead15d>:13: RuntimeWarning: This filename (D:\\PhD\\PDM_data\\eeg_outside-MRT\\sub-017\\sourcedata-eeg_outside-MRT\\eeg\\sub-017_prerprocessed.fif) does not conform to MNE naming conventions. All epochs files should end with -epo.fif, -epo.fif.gz, _epo.fif or _epo.fif.gz\n",
      "  epochs = mne.read_epochs(examples_dir + \"\\\\\"+ i + \"_prerprocessed.fif\");\n"
     ]
    },
    {
     "name": "stdout",
     "output_type": "stream",
     "text": [
      "Not setting metadata\n",
      "Not setting metadata\n",
      "251 matching events found\n",
      "Applying baseline correction (mode: mean)\n",
      "Created an SSP operator (subspace dimension = 1)\n",
      "1 projection items activated\n"
     ]
    }
   ],
   "source": [
    "#loading preprocessed eeg\n",
    "list_subj = ['sub-001', 'sub-003', 'sub-004', 'sub-005', 'sub-006', 'sub-008', 'sub-009',\n",
    "             'sub-010', 'sub-012', 'sub-013', 'sub-014', 'sub-015', 'sub-016', 'sub-017']\n",
    "\n",
    "# define evoked for each condition\n",
    "# 437 points for 1700 ms\n",
    "evoked_74 = np.zeros((14,62,437))\n",
    "evoked_75 = np.zeros((14,62,437))\n",
    "evoked_76 = np.zeros((14,62,437))\n",
    "idx =  0\n",
    "for i in list_subj:\n",
    "    examples_dir = \"PDM_data\\\\\"+i+\"\\\\sourcedata-eeg_outside-MRT\\\\eeg\";\n",
    "    epochs = mne.read_epochs(examples_dir + \"\\\\\"+ i + \"_prerprocessed.fif\");\n",
    "    epochs.info['bads'] = []\n",
    "    #resample epochs.resample(128)\n",
    "    evoked_74[idx] = epochs['74'].average().data\n",
    "    evoked_75[idx] = epochs['75'].average().data\n",
    "    evoked_76[idx] = epochs['76'].average().data\n",
    "    \n",
    "    idx = idx + 1"
   ]
  },
  {
   "cell_type": "markdown",
   "metadata": {},
   "source": [
    "# Amplitude at Central electrods"
   ]
  },
  {
   "cell_type": "code",
   "execution_count": 91,
   "metadata": {},
   "outputs": [],
   "source": [
    "#selected channels from centrals sites\n",
    "ch_name_C1 ='C1'\n",
    "ch_name_C2 ='C2'\n",
    "channel_indices_C1 = mne.pick_channels(epochs.info['ch_names'], [ch_name_C1])[0]\n",
    "channel_indices_C2 = mne.pick_channels(epochs.info['ch_names'], [ch_name_C2])[0]\n",
    "\n",
    "ch_name_C3 ='C3'\n",
    "ch_name_C4 ='C4'\n",
    "channel_indices_C3 = mne.pick_channels(epochs.info['ch_names'], [ch_name_C3])[0]\n",
    "channel_indices_C4 = mne.pick_channels(epochs.info['ch_names'], [ch_name_C4])[0]\n",
    "\n",
    "\n",
    "# setting times\n",
    "times = epochs.times"
   ]
  },
  {
   "cell_type": "code",
   "execution_count": 93,
   "metadata": {},
   "outputs": [],
   "source": [
    "#define contralateral and neutral activity\n",
    "contralateral_amplitude = np.array((evoked_74[:,channel_indices_C2,:],evoked_75[:,channel_indices_C1,:],\n",
    "                                    evoked_74[:,channel_indices_C4,:],evoked_75[:,channel_indices_C3,:])).mean(axis = 0)\n",
    "\n",
    "neutral_amplitude       = np.array((evoked_76[:,channel_indices_C1,:],evoked_76[:,channel_indices_C2,:],\n",
    "                                    evoked_76[:,channel_indices_C3,:],evoked_76[:,channel_indices_C4,:])).mean(axis = 0)"
   ]
  },
  {
   "cell_type": "code",
   "execution_count": 135,
   "metadata": {},
   "outputs": [
    {
     "data": {
      "text/plain": [
       "<matplotlib.lines.Line2D at 0x1e443984108>"
      ]
     },
     "execution_count": 135,
     "metadata": {},
     "output_type": "execute_result"
    }
   ],
   "source": [
    "#plot contalateral and neutral\n",
    "plt.figure()\n",
    "\n",
    "plt.plot(times*1000,contralateral_amplitude.mean(axis=0),\n",
    "          label='Contra')\n",
    "error = contralateral_amplitude.std(axis=0)/np.sqrt(14)\n",
    "plt.fill_between(times*1000, contralateral_amplitude.mean(axis=0) -error, contralateral_amplitude.mean(axis=0) +error,\n",
    "    alpha=0.3)\n",
    "\n",
    "\n",
    "plt.plot(times*1000,neutral_amplitude.mean(axis=0),\n",
    "          label='Neut')\n",
    "error = neutral_amplitude.std(axis=0)/np.sqrt(14)\n",
    "\n",
    "plt.fill_between(times*1000, neutral_amplitude.mean(axis=0) -error, neutral_amplitude.mean(axis=0) +error,\n",
    "    alpha=0.3)\n",
    "\n",
    "\n",
    "plt.plot(times*1000, contralateral_amplitude.mean(axis=0) - neutral_amplitude.mean(axis=0),\n",
    "         'k--', label='Contra - Neut')\n",
    "\n",
    "plt.plot(times*1000,np.zeros(len(times)),'y') \n",
    "\n",
    "plt.legend()\n",
    "plt.show\n",
    "sns.despine(offset=10, trim=True)  # <-- only show the right spine\n",
    "\n",
    "plt.axvline(x=0, color='black')\n",
    "plt.axvline(x=1000, color='black')"
   ]
  },
  {
   "cell_type": "code",
   "execution_count": 97,
   "metadata": {},
   "outputs": [],
   "source": [
    "#setting time window\n",
    "win_low = int((100 + 1150)/3.9)\n",
    "win_up  = int((100 + 1500)/3.9)"
   ]
  },
  {
   "cell_type": "code",
   "execution_count": 98,
   "metadata": {},
   "outputs": [
    {
     "data": {
      "text/plain": [
       "(320, 410)"
      ]
     },
     "execution_count": 98,
     "metadata": {},
     "output_type": "execute_result"
    }
   ],
   "source": [
    "win_low,win_up"
   ]
  },
  {
   "cell_type": "code",
   "execution_count": 99,
   "metadata": {},
   "outputs": [],
   "source": [
    "#### ttest and fdr correction\n",
    "T, pval = stats.ttest_rel(contralateral_amplitude[:,win_low:win_up], neutral_amplitude[:,win_low:win_up])\n",
    "alpha = 0.05\n",
    "reject_fdr, pval_fdr = fdr_correction(pval, alpha=alpha, method='indep')"
   ]
  },
  {
   "cell_type": "code",
   "execution_count": 101,
   "metadata": {},
   "outputs": [
    {
     "data": {
      "text/plain": [
       "array([1190.9, 1194.8, 1198.7, 1202.6, 1206.5, 1210.4, 1214.3, 1218.2,\n",
       "       1222.1, 1226. , 1229.9, 1233.8, 1265. , 1268.9, 1272.8, 1276.7,\n",
       "       1280.6, 1284.5, 1288.4, 1292.3, 1296.2, 1300.1, 1304. , 1307.9,\n",
       "       1311.8, 1315.7, 1456.1, 1460. , 1463.9, 1467.8, 1471.7])"
      ]
     },
     "execution_count": 101,
     "metadata": {},
     "output_type": "execute_result"
    }
   ],
   "source": [
    "#time point in Ms which are significant based on \n",
    "3.9*np.arange(win_low,win_up)[pval_fdr<0.05]-100"
   ]
  },
  {
   "cell_type": "code",
   "execution_count": 104,
   "metadata": {},
   "outputs": [],
   "source": [
    "time_min1 = int((100 + 1190)/3.9)\n",
    "time_max1 = int((100 + 1235)/3.9)\n",
    "time_min2 = int((100 + 1260)/3.9)\n",
    "time_max2 = int((100 + 1315)/3.9)"
   ]
  },
  {
   "cell_type": "code",
   "execution_count": 105,
   "metadata": {},
   "outputs": [
    {
     "data": {
      "text/plain": [
       "(330, 342)"
      ]
     },
     "execution_count": 105,
     "metadata": {},
     "output_type": "execute_result"
    }
   ],
   "source": [
    "time_min1, time_max1"
   ]
  },
  {
   "cell_type": "code",
   "execution_count": 106,
   "metadata": {},
   "outputs": [
    {
     "data": {
      "text/plain": [
       "(1187.5, 1234.375)"
      ]
     },
     "execution_count": 106,
     "metadata": {},
     "output_type": "execute_result"
    }
   ],
   "source": [
    "times[time_min1]*1000, times[time_max1]*1000"
   ]
  },
  {
   "cell_type": "code",
   "execution_count": 107,
   "metadata": {},
   "outputs": [
    {
     "data": {
      "text/plain": [
       "<matplotlib.patches.Polygon at 0x1e40ba223c8>"
      ]
     },
     "execution_count": 107,
     "metadata": {},
     "output_type": "execute_result"
    }
   ],
   "source": [
    "#fill areas which are significant\n",
    "plt.axvspan(times[time_min1]*1000, times[time_max1]*1000, color=sns.xkcd_rgb['grey'], alpha=0.4, ymax= 0.62)\n",
    "plt.axvspan(times[time_min2]*1000, times[time_max2]*1000, color=sns.xkcd_rgb['grey'], alpha=0.4, ymax= 0.62)"
   ]
  },
  {
   "cell_type": "code",
   "execution_count": 108,
   "metadata": {},
   "outputs": [],
   "source": [
    "#average amplitude\n",
    "contralateral_amplitude_mean_2 = contralateral_amplitude[:,time_min2:time_max2].mean(axis = 1)\n",
    "neutral_amplitude_mean_2   = neutral_amplitude[:,time_min2:time_max2].mean(axis = 1)"
   ]
  },
  {
   "cell_type": "code",
   "execution_count": 116,
   "metadata": {},
   "outputs": [
    {
     "data": {
      "text/plain": [
       "Ttest_relResult(statistic=-4.2770375215131144, pvalue=0.0009008194842564153)"
      ]
     },
     "execution_count": 116,
     "metadata": {},
     "output_type": "execute_result"
    }
   ],
   "source": [
    "#t-test average amplitude\n",
    "stats.ttest_rel(contralateral_amplitude_mean_2,neutral_amplitude_mean_2)"
   ]
  },
  {
   "cell_type": "code",
   "execution_count": 117,
   "metadata": {},
   "outputs": [],
   "source": [
    "#difference contralaterl and neutral\n",
    "diff_amplitude_mean_2 = contralateral_amplitude_mean_2 - neutral_amplitude_mean_2 "
   ]
  },
  {
   "cell_type": "code",
   "execution_count": 165,
   "metadata": {},
   "outputs": [
    {
     "data": {
      "text/plain": [
       "array([-9.33221212e-07, -3.86123241e-07, -1.86157690e-07, -1.99383623e-07,\n",
       "       -6.01791879e-07, -2.19686348e-08, -4.17158844e-07, -2.59066254e-07,\n",
       "       -7.11467500e-07, -5.02057676e-07,  1.52118912e-07, -1.57699579e-07,\n",
       "       -1.32545872e-06, -6.02024507e-07])"
      ]
     },
     "execution_count": 165,
     "metadata": {},
     "output_type": "execute_result"
    }
   ],
   "source": [
    "diff_amplitude_mean_2"
   ]
  },
  {
   "cell_type": "code",
   "execution_count": 166,
   "metadata": {},
   "outputs": [],
   "source": [
    "#average amplitude\n",
    "contralateral_amplitude_mean_1 = contralateral_amplitude[:,time_min1:time_max1].mean(axis = 1)\n",
    "neutral_amplitude_mean_1   = neutral_amplitude[:,time_min1:time_max1].mean(axis = 1)"
   ]
  },
  {
   "cell_type": "code",
   "execution_count": 167,
   "metadata": {},
   "outputs": [
    {
     "data": {
      "text/plain": [
       "Ttest_relResult(statistic=-4.491330130716928, pvalue=0.0006068457165059738)"
      ]
     },
     "execution_count": 167,
     "metadata": {},
     "output_type": "execute_result"
    }
   ],
   "source": [
    "#t-test average amplitude\n",
    "stats.ttest_rel(contralateral_amplitude_mean_1,neutral_amplitude_mean_1)"
   ]
  },
  {
   "cell_type": "code",
   "execution_count": 168,
   "metadata": {},
   "outputs": [],
   "source": [
    "diff_amplitude_mean_1 = contralateral_amplitude_mean_1 - neutral_amplitude_mean_1"
   ]
  },
  {
   "cell_type": "code",
   "execution_count": 169,
   "metadata": {},
   "outputs": [
    {
     "data": {
      "text/plain": [
       "array([-2.88101123e-07, -1.14958129e-06, -1.22335297e-06,  9.81985479e-08,\n",
       "       -1.68824737e-07,  2.89877424e-07, -8.51661016e-07, -7.65384216e-07,\n",
       "       -4.70052506e-07, -6.91108397e-07, -4.72479414e-07, -7.32869114e-07,\n",
       "       -3.06161767e-07, -4.92220482e-07])"
      ]
     },
     "execution_count": 169,
     "metadata": {},
     "output_type": "execute_result"
    }
   ],
   "source": [
    "diff_amplitude_mean_1"
   ]
  },
  {
   "cell_type": "markdown",
   "metadata": {},
   "source": [
    "# Alpha Power at Central electrod"
   ]
  },
  {
   "cell_type": "code",
   "execution_count": 30,
   "metadata": {},
   "outputs": [],
   "source": [
    "#define frequencies of interest\n",
    "freqs = np.arange(4, 30, 1)  \n",
    "#n_cycles =freqs/2\n",
    "n_cycles =np.arange(3, 16, 0.5)\n",
    "n_freqs = len(freqs)"
   ]
  },
  {
   "cell_type": "code",
   "execution_count": 31,
   "metadata": {},
   "outputs": [],
   "source": [
    "#### selected channels from parietal-occiopital sites\n",
    "ch_name_PO3 ='PO3'\n",
    "ch_name_PO4 ='PO4'\n",
    "channel_indices_PO3 = mne.pick_channels(epochs.info['ch_names'], [ch_name_PO3])[0]\n",
    "channel_indices_PO4 = mne.pick_channels(epochs.info['ch_names'], [ch_name_PO4])[0]\n",
    "\n",
    "ch_name_PO7 ='PO7'\n",
    "ch_name_PO8 ='PO8'\n",
    "channel_indices_PO7 = mne.pick_channels(epochs.info['ch_names'], [ch_name_PO7])[0]\n",
    "channel_indices_PO8 = mne.pick_channels(epochs.info['ch_names'], [ch_name_PO8])[0]\n",
    "\n",
    "\n",
    "# setting times\n",
    "times = epochs.times"
   ]
  },
  {
   "cell_type": "code",
   "execution_count": 32,
   "metadata": {
    "scrolled": true
   },
   "outputs": [
    {
     "name": "stderr",
     "output_type": "stream",
     "text": [
      "<ipython-input-32-7c79711abf09>:25: RuntimeWarning: This filename (D:\\PhD\\PDM_data\\eeg_outside-MRT\\sub-001\\sourcedata-eeg_outside-MRT\\eeg\\sub-001_prerprocessed.fif) does not conform to MNE naming conventions. All epochs files should end with -epo.fif, -epo.fif.gz, _epo.fif or _epo.fif.gz\n",
      "  epochs = mne.read_epochs(examples_dir + \"\\\\\"+ i + \"_prerprocessed.fif\");\n"
     ]
    },
    {
     "name": "stdout",
     "output_type": "stream",
     "text": [
      "Reading D:\\PhD\\PDM_data\\eeg_outside-MRT\\sub-001\\sourcedata-eeg_outside-MRT\\eeg\\sub-001_prerprocessed.fif ...\n",
      "    Read a total of 1 projection items:\n",
      "        Average EEG reference (1 x 62) active\n",
      "    Found the data of interest:\n",
      "        t =    -101.56 ...    1601.56 ms\n",
      "        0 CTF compensation matrices available\n",
      "Not setting metadata\n",
      "Not setting metadata\n",
      "275 matching events found\n",
      "Applying baseline correction (mode: mean)\n",
      "Created an SSP operator (subspace dimension = 1)\n",
      "1 projection items activated\n",
      "Not setting metadata\n",
      "Not setting metadata\n",
      "Not setting metadata\n",
      "Reading D:\\PhD\\PDM_data\\eeg_outside-MRT\\sub-003\\sourcedata-eeg_outside-MRT\\eeg\\sub-003_prerprocessed.fif ...\n"
     ]
    },
    {
     "name": "stderr",
     "output_type": "stream",
     "text": [
      "<ipython-input-32-7c79711abf09>:25: RuntimeWarning: This filename (D:\\PhD\\PDM_data\\eeg_outside-MRT\\sub-003\\sourcedata-eeg_outside-MRT\\eeg\\sub-003_prerprocessed.fif) does not conform to MNE naming conventions. All epochs files should end with -epo.fif, -epo.fif.gz, _epo.fif or _epo.fif.gz\n",
      "  epochs = mne.read_epochs(examples_dir + \"\\\\\"+ i + \"_prerprocessed.fif\");\n"
     ]
    },
    {
     "name": "stdout",
     "output_type": "stream",
     "text": [
      "    Read a total of 1 projection items:\n",
      "        Average EEG reference (1 x 62) active\n",
      "    Found the data of interest:\n",
      "        t =    -101.56 ...    1601.56 ms\n",
      "        0 CTF compensation matrices available\n",
      "Not setting metadata\n",
      "Not setting metadata\n",
      "280 matching events found\n",
      "Applying baseline correction (mode: mean)\n",
      "Created an SSP operator (subspace dimension = 1)\n",
      "1 projection items activated\n",
      "Not setting metadata\n",
      "Not setting metadata\n",
      "Not setting metadata\n",
      "Reading D:\\PhD\\PDM_data\\eeg_outside-MRT\\sub-004\\sourcedata-eeg_outside-MRT\\eeg\\sub-004_prerprocessed.fif ...\n"
     ]
    },
    {
     "name": "stderr",
     "output_type": "stream",
     "text": [
      "<ipython-input-32-7c79711abf09>:25: RuntimeWarning: This filename (D:\\PhD\\PDM_data\\eeg_outside-MRT\\sub-004\\sourcedata-eeg_outside-MRT\\eeg\\sub-004_prerprocessed.fif) does not conform to MNE naming conventions. All epochs files should end with -epo.fif, -epo.fif.gz, _epo.fif or _epo.fif.gz\n",
      "  epochs = mne.read_epochs(examples_dir + \"\\\\\"+ i + \"_prerprocessed.fif\");\n"
     ]
    },
    {
     "name": "stdout",
     "output_type": "stream",
     "text": [
      "    Read a total of 1 projection items:\n",
      "        Average EEG reference (1 x 62) active\n",
      "    Found the data of interest:\n",
      "        t =    -101.56 ...    1601.56 ms\n",
      "        0 CTF compensation matrices available\n",
      "Not setting metadata\n",
      "Not setting metadata\n",
      "261 matching events found\n",
      "Applying baseline correction (mode: mean)\n",
      "Created an SSP operator (subspace dimension = 1)\n",
      "1 projection items activated\n",
      "Not setting metadata\n",
      "Not setting metadata\n",
      "Not setting metadata\n",
      "Reading D:\\PhD\\PDM_data\\eeg_outside-MRT\\sub-005\\sourcedata-eeg_outside-MRT\\eeg\\sub-005_prerprocessed.fif ...\n"
     ]
    },
    {
     "name": "stderr",
     "output_type": "stream",
     "text": [
      "<ipython-input-32-7c79711abf09>:25: RuntimeWarning: This filename (D:\\PhD\\PDM_data\\eeg_outside-MRT\\sub-005\\sourcedata-eeg_outside-MRT\\eeg\\sub-005_prerprocessed.fif) does not conform to MNE naming conventions. All epochs files should end with -epo.fif, -epo.fif.gz, _epo.fif or _epo.fif.gz\n",
      "  epochs = mne.read_epochs(examples_dir + \"\\\\\"+ i + \"_prerprocessed.fif\");\n"
     ]
    },
    {
     "name": "stdout",
     "output_type": "stream",
     "text": [
      "    Read a total of 1 projection items:\n",
      "        Average EEG reference (1 x 62) active\n",
      "    Found the data of interest:\n",
      "        t =    -101.56 ...    1601.56 ms\n",
      "        0 CTF compensation matrices available\n",
      "Not setting metadata\n",
      "Not setting metadata\n",
      "237 matching events found\n",
      "Applying baseline correction (mode: mean)\n",
      "Created an SSP operator (subspace dimension = 1)\n",
      "1 projection items activated\n",
      "Not setting metadata\n",
      "Not setting metadata\n",
      "Not setting metadata\n",
      "Reading D:\\PhD\\PDM_data\\eeg_outside-MRT\\sub-006\\sourcedata-eeg_outside-MRT\\eeg\\sub-006_prerprocessed.fif ...\n"
     ]
    },
    {
     "name": "stderr",
     "output_type": "stream",
     "text": [
      "<ipython-input-32-7c79711abf09>:25: RuntimeWarning: This filename (D:\\PhD\\PDM_data\\eeg_outside-MRT\\sub-006\\sourcedata-eeg_outside-MRT\\eeg\\sub-006_prerprocessed.fif) does not conform to MNE naming conventions. All epochs files should end with -epo.fif, -epo.fif.gz, _epo.fif or _epo.fif.gz\n",
      "  epochs = mne.read_epochs(examples_dir + \"\\\\\"+ i + \"_prerprocessed.fif\");\n"
     ]
    },
    {
     "name": "stdout",
     "output_type": "stream",
     "text": [
      "    Read a total of 1 projection items:\n",
      "        Average EEG reference (1 x 62) active\n",
      "    Found the data of interest:\n",
      "        t =    -101.56 ...    1601.56 ms\n",
      "        0 CTF compensation matrices available\n",
      "Not setting metadata\n",
      "Not setting metadata\n",
      "271 matching events found\n",
      "Applying baseline correction (mode: mean)\n",
      "Created an SSP operator (subspace dimension = 1)\n",
      "1 projection items activated\n",
      "Not setting metadata\n",
      "Not setting metadata\n",
      "Not setting metadata\n",
      "Reading D:\\PhD\\PDM_data\\eeg_outside-MRT\\sub-008\\sourcedata-eeg_outside-MRT\\eeg\\sub-008_prerprocessed.fif ...\n"
     ]
    },
    {
     "name": "stderr",
     "output_type": "stream",
     "text": [
      "<ipython-input-32-7c79711abf09>:25: RuntimeWarning: This filename (D:\\PhD\\PDM_data\\eeg_outside-MRT\\sub-008\\sourcedata-eeg_outside-MRT\\eeg\\sub-008_prerprocessed.fif) does not conform to MNE naming conventions. All epochs files should end with -epo.fif, -epo.fif.gz, _epo.fif or _epo.fif.gz\n",
      "  epochs = mne.read_epochs(examples_dir + \"\\\\\"+ i + \"_prerprocessed.fif\");\n"
     ]
    },
    {
     "name": "stdout",
     "output_type": "stream",
     "text": [
      "    Read a total of 1 projection items:\n",
      "        Average EEG reference (1 x 62) active\n",
      "    Found the data of interest:\n",
      "        t =    -101.56 ...    1601.56 ms\n",
      "        0 CTF compensation matrices available\n",
      "Not setting metadata\n",
      "Not setting metadata\n",
      "273 matching events found\n",
      "Applying baseline correction (mode: mean)\n",
      "Created an SSP operator (subspace dimension = 1)\n",
      "1 projection items activated\n",
      "Not setting metadata\n",
      "Not setting metadata\n",
      "Not setting metadata\n",
      "Reading D:\\PhD\\PDM_data\\eeg_outside-MRT\\sub-009\\sourcedata-eeg_outside-MRT\\eeg\\sub-009_prerprocessed.fif ...\n"
     ]
    },
    {
     "name": "stderr",
     "output_type": "stream",
     "text": [
      "<ipython-input-32-7c79711abf09>:25: RuntimeWarning: This filename (D:\\PhD\\PDM_data\\eeg_outside-MRT\\sub-009\\sourcedata-eeg_outside-MRT\\eeg\\sub-009_prerprocessed.fif) does not conform to MNE naming conventions. All epochs files should end with -epo.fif, -epo.fif.gz, _epo.fif or _epo.fif.gz\n",
      "  epochs = mne.read_epochs(examples_dir + \"\\\\\"+ i + \"_prerprocessed.fif\");\n"
     ]
    },
    {
     "name": "stdout",
     "output_type": "stream",
     "text": [
      "    Read a total of 1 projection items:\n",
      "        Average EEG reference (1 x 62) active\n",
      "    Found the data of interest:\n",
      "        t =    -101.56 ...    1601.56 ms\n",
      "        0 CTF compensation matrices available\n",
      "Not setting metadata\n",
      "Not setting metadata\n",
      "251 matching events found\n",
      "Applying baseline correction (mode: mean)\n",
      "Created an SSP operator (subspace dimension = 1)\n",
      "1 projection items activated\n",
      "Not setting metadata\n",
      "Not setting metadata\n",
      "Not setting metadata\n",
      "Reading D:\\PhD\\PDM_data\\eeg_outside-MRT\\sub-010\\sourcedata-eeg_outside-MRT\\eeg\\sub-010_prerprocessed.fif ...\n"
     ]
    },
    {
     "name": "stderr",
     "output_type": "stream",
     "text": [
      "<ipython-input-32-7c79711abf09>:25: RuntimeWarning: This filename (D:\\PhD\\PDM_data\\eeg_outside-MRT\\sub-010\\sourcedata-eeg_outside-MRT\\eeg\\sub-010_prerprocessed.fif) does not conform to MNE naming conventions. All epochs files should end with -epo.fif, -epo.fif.gz, _epo.fif or _epo.fif.gz\n",
      "  epochs = mne.read_epochs(examples_dir + \"\\\\\"+ i + \"_prerprocessed.fif\");\n"
     ]
    },
    {
     "name": "stdout",
     "output_type": "stream",
     "text": [
      "    Read a total of 1 projection items:\n",
      "        Average EEG reference (1 x 62) active\n",
      "    Found the data of interest:\n",
      "        t =    -101.56 ...    1601.56 ms\n",
      "        0 CTF compensation matrices available\n",
      "Not setting metadata\n",
      "Not setting metadata\n",
      "275 matching events found\n",
      "Applying baseline correction (mode: mean)\n",
      "Created an SSP operator (subspace dimension = 1)\n",
      "1 projection items activated\n",
      "Not setting metadata\n",
      "Not setting metadata\n",
      "Not setting metadata\n",
      "Reading D:\\PhD\\PDM_data\\eeg_outside-MRT\\sub-012\\sourcedata-eeg_outside-MRT\\eeg\\sub-012_prerprocessed.fif ...\n"
     ]
    },
    {
     "name": "stderr",
     "output_type": "stream",
     "text": [
      "<ipython-input-32-7c79711abf09>:25: RuntimeWarning: This filename (D:\\PhD\\PDM_data\\eeg_outside-MRT\\sub-012\\sourcedata-eeg_outside-MRT\\eeg\\sub-012_prerprocessed.fif) does not conform to MNE naming conventions. All epochs files should end with -epo.fif, -epo.fif.gz, _epo.fif or _epo.fif.gz\n",
      "  epochs = mne.read_epochs(examples_dir + \"\\\\\"+ i + \"_prerprocessed.fif\");\n"
     ]
    },
    {
     "name": "stdout",
     "output_type": "stream",
     "text": [
      "    Read a total of 1 projection items:\n",
      "        Average EEG reference (1 x 62) active\n",
      "    Found the data of interest:\n",
      "        t =    -101.56 ...    1601.56 ms\n",
      "        0 CTF compensation matrices available\n",
      "Not setting metadata\n",
      "Not setting metadata\n",
      "273 matching events found\n",
      "Applying baseline correction (mode: mean)\n",
      "Created an SSP operator (subspace dimension = 1)\n",
      "1 projection items activated\n",
      "Not setting metadata\n",
      "Not setting metadata\n",
      "Not setting metadata\n",
      "Reading D:\\PhD\\PDM_data\\eeg_outside-MRT\\sub-013\\sourcedata-eeg_outside-MRT\\eeg\\sub-013_prerprocessed.fif ...\n"
     ]
    },
    {
     "name": "stderr",
     "output_type": "stream",
     "text": [
      "<ipython-input-32-7c79711abf09>:25: RuntimeWarning: This filename (D:\\PhD\\PDM_data\\eeg_outside-MRT\\sub-013\\sourcedata-eeg_outside-MRT\\eeg\\sub-013_prerprocessed.fif) does not conform to MNE naming conventions. All epochs files should end with -epo.fif, -epo.fif.gz, _epo.fif or _epo.fif.gz\n",
      "  epochs = mne.read_epochs(examples_dir + \"\\\\\"+ i + \"_prerprocessed.fif\");\n"
     ]
    },
    {
     "name": "stdout",
     "output_type": "stream",
     "text": [
      "    Read a total of 1 projection items:\n",
      "        Average EEG reference (1 x 62) active\n",
      "    Found the data of interest:\n",
      "        t =    -101.56 ...    1601.56 ms\n",
      "        0 CTF compensation matrices available\n",
      "Not setting metadata\n",
      "Not setting metadata\n",
      "244 matching events found\n",
      "Applying baseline correction (mode: mean)\n",
      "Created an SSP operator (subspace dimension = 1)\n",
      "1 projection items activated\n",
      "Not setting metadata\n",
      "Not setting metadata\n",
      "Not setting metadata\n",
      "Reading D:\\PhD\\PDM_data\\eeg_outside-MRT\\sub-014\\sourcedata-eeg_outside-MRT\\eeg\\sub-014_prerprocessed.fif ...\n"
     ]
    },
    {
     "name": "stderr",
     "output_type": "stream",
     "text": [
      "<ipython-input-32-7c79711abf09>:25: RuntimeWarning: This filename (D:\\PhD\\PDM_data\\eeg_outside-MRT\\sub-014\\sourcedata-eeg_outside-MRT\\eeg\\sub-014_prerprocessed.fif) does not conform to MNE naming conventions. All epochs files should end with -epo.fif, -epo.fif.gz, _epo.fif or _epo.fif.gz\n",
      "  epochs = mne.read_epochs(examples_dir + \"\\\\\"+ i + \"_prerprocessed.fif\");\n"
     ]
    },
    {
     "name": "stdout",
     "output_type": "stream",
     "text": [
      "    Read a total of 1 projection items:\n",
      "        Average EEG reference (1 x 62) active\n",
      "    Found the data of interest:\n",
      "        t =    -101.56 ...    1601.56 ms\n",
      "        0 CTF compensation matrices available\n",
      "Not setting metadata\n",
      "Not setting metadata\n",
      "263 matching events found\n",
      "Applying baseline correction (mode: mean)\n",
      "Created an SSP operator (subspace dimension = 1)\n",
      "1 projection items activated\n",
      "Not setting metadata\n",
      "Not setting metadata\n",
      "Not setting metadata\n",
      "Reading D:\\PhD\\PDM_data\\eeg_outside-MRT\\sub-015\\sourcedata-eeg_outside-MRT\\eeg\\sub-015_prerprocessed.fif ...\n"
     ]
    },
    {
     "name": "stderr",
     "output_type": "stream",
     "text": [
      "<ipython-input-32-7c79711abf09>:25: RuntimeWarning: This filename (D:\\PhD\\PDM_data\\eeg_outside-MRT\\sub-015\\sourcedata-eeg_outside-MRT\\eeg\\sub-015_prerprocessed.fif) does not conform to MNE naming conventions. All epochs files should end with -epo.fif, -epo.fif.gz, _epo.fif or _epo.fif.gz\n",
      "  epochs = mne.read_epochs(examples_dir + \"\\\\\"+ i + \"_prerprocessed.fif\");\n"
     ]
    },
    {
     "name": "stdout",
     "output_type": "stream",
     "text": [
      "    Read a total of 1 projection items:\n",
      "        Average EEG reference (1 x 62) active\n",
      "    Found the data of interest:\n",
      "        t =    -101.56 ...    1601.56 ms\n",
      "        0 CTF compensation matrices available\n",
      "Not setting metadata\n",
      "Not setting metadata\n",
      "257 matching events found\n",
      "Applying baseline correction (mode: mean)\n",
      "Created an SSP operator (subspace dimension = 1)\n",
      "1 projection items activated\n",
      "Not setting metadata\n",
      "Not setting metadata\n",
      "Not setting metadata\n",
      "Reading D:\\PhD\\PDM_data\\eeg_outside-MRT\\sub-016\\sourcedata-eeg_outside-MRT\\eeg\\sub-016_prerprocessed.fif ...\n"
     ]
    },
    {
     "name": "stderr",
     "output_type": "stream",
     "text": [
      "<ipython-input-32-7c79711abf09>:25: RuntimeWarning: This filename (D:\\PhD\\PDM_data\\eeg_outside-MRT\\sub-016\\sourcedata-eeg_outside-MRT\\eeg\\sub-016_prerprocessed.fif) does not conform to MNE naming conventions. All epochs files should end with -epo.fif, -epo.fif.gz, _epo.fif or _epo.fif.gz\n",
      "  epochs = mne.read_epochs(examples_dir + \"\\\\\"+ i + \"_prerprocessed.fif\");\n"
     ]
    },
    {
     "name": "stdout",
     "output_type": "stream",
     "text": [
      "    Read a total of 1 projection items:\n",
      "        Average EEG reference (1 x 62) active\n",
      "    Found the data of interest:\n",
      "        t =    -101.56 ...    1601.56 ms\n",
      "        0 CTF compensation matrices available\n",
      "Not setting metadata\n",
      "Not setting metadata\n",
      "245 matching events found\n",
      "Applying baseline correction (mode: mean)\n",
      "Created an SSP operator (subspace dimension = 1)\n",
      "1 projection items activated\n",
      "Not setting metadata\n",
      "Not setting metadata\n",
      "Not setting metadata\n",
      "Reading D:\\PhD\\PDM_data\\eeg_outside-MRT\\sub-017\\sourcedata-eeg_outside-MRT\\eeg\\sub-017_prerprocessed.fif ...\n"
     ]
    },
    {
     "name": "stderr",
     "output_type": "stream",
     "text": [
      "<ipython-input-32-7c79711abf09>:25: RuntimeWarning: This filename (D:\\PhD\\PDM_data\\eeg_outside-MRT\\sub-017\\sourcedata-eeg_outside-MRT\\eeg\\sub-017_prerprocessed.fif) does not conform to MNE naming conventions. All epochs files should end with -epo.fif, -epo.fif.gz, _epo.fif or _epo.fif.gz\n",
      "  epochs = mne.read_epochs(examples_dir + \"\\\\\"+ i + \"_prerprocessed.fif\");\n"
     ]
    },
    {
     "name": "stdout",
     "output_type": "stream",
     "text": [
      "    Read a total of 1 projection items:\n",
      "        Average EEG reference (1 x 62) active\n",
      "    Found the data of interest:\n",
      "        t =    -101.56 ...    1601.56 ms\n",
      "        0 CTF compensation matrices available\n",
      "Not setting metadata\n",
      "Not setting metadata\n",
      "251 matching events found\n",
      "Applying baseline correction (mode: mean)\n",
      "Created an SSP operator (subspace dimension = 1)\n",
      "1 projection items activated\n",
      "Not setting metadata\n",
      "Not setting metadata\n",
      "Not setting metadata\n"
     ]
    }
   ],
   "source": [
    "list_subj = ['sub-001', 'sub-003', 'sub-004', 'sub-005', 'sub-006', 'sub-008', 'sub-009',\n",
    "             'sub-010', 'sub-012', 'sub-013', 'sub-014', 'sub-015', 'sub-016', 'sub-017']\n",
    "\n",
    "# define evoked for each condition\n",
    "# 437 points for 1700 ms\n",
    "vawelet_74_PO3 = np.zeros((14,n_freqs,437))\n",
    "vawelet_74_PO4 = np.zeros((14,n_freqs,437))\n",
    "vawelet_75_PO3 = np.zeros((14,n_freqs,437))\n",
    "vawelet_75_PO4 = np.zeros((14,n_freqs,437))\n",
    "vawelet_76_PO3 = np.zeros((14,n_freqs,437))\n",
    "vawelet_76_PO4 = np.zeros((14,n_freqs,437))\n",
    "\n",
    "\n",
    "\n",
    "vawelet_74_PO7 = np.zeros((14,n_freqs,437))\n",
    "vawelet_74_PO8 = np.zeros((14,n_freqs,437))\n",
    "vawelet_75_PO7 = np.zeros((14,n_freqs,437))\n",
    "vawelet_75_PO8 = np.zeros((14,n_freqs,437))\n",
    "vawelet_76_PO7 = np.zeros((14,n_freqs,437))\n",
    "vawelet_76_PO8 = np.zeros((14,n_freqs,437))\n",
    "\n",
    "idx =  0\n",
    "for i in list_subj:\n",
    "    examples_dir = \"PDM_data\\\\\"+i+\"\\\\sourcedata-eeg_outside-MRT\\\\eeg\";\n",
    "    epochs = mne.read_epochs(examples_dir + \"\\\\\"+ i + \"_prerprocessed.fif\");\n",
    "    #this code very important\n",
    "    epochs.info['bads'] = []\n",
    "\n",
    "    #define frequencies of interest\n",
    "    \n",
    "    #74\n",
    "    power = tfr_morlet(epochs['74'], freqs, n_cycles=n_cycles, average = False,\n",
    "                              return_itc=False)\n",
    "    power = power.average()\n",
    "    vawelet_74_PO3[idx] = power.data[channel_indices_PO3, :, :]\n",
    "    vawelet_74_PO4[idx] = power.data[channel_indices_PO4, :, :]\n",
    "    \n",
    "    vawelet_74_PO7[idx] = power.data[channel_indices_PO7, :, :]\n",
    "    vawelet_74_PO8[idx] = power.data[channel_indices_PO8, :, :]\n",
    "    \n",
    "    #75\n",
    "    power = tfr_morlet(epochs['75'], freqs, n_cycles=n_cycles, average = False,\n",
    "                              return_itc=False)\n",
    "    power = power.average()\n",
    "    vawelet_75_PO3[idx] = power.data[channel_indices_PO3, :, :]\n",
    "    vawelet_75_PO4[idx] = power.data[channel_indices_PO4, :, :]\n",
    "    \n",
    "    \n",
    "    vawelet_75_PO7[idx] = power.data[channel_indices_PO7, :, :]\n",
    "    vawelet_75_PO8[idx] = power.data[channel_indices_PO8, :, :]\n",
    "       \n",
    "    #76\n",
    "    power = tfr_morlet(epochs['76'], freqs, n_cycles=n_cycles, average = False,\n",
    "                              return_itc=False)\n",
    "    power = power.average()\n",
    "    vawelet_76_PO3[idx] = power.data[channel_indices_PO3, :, :]\n",
    "    vawelet_76_PO4[idx] = power.data[channel_indices_PO4, :, :]\n",
    "    \n",
    "    \n",
    "    vawelet_76_PO7[idx] = power.data[channel_indices_PO7, :, :]\n",
    "    vawelet_76_PO8[idx] = power.data[channel_indices_PO8, :, :]\n",
    "    \n",
    "    idx = idx + 1"
   ]
  },
  {
   "cell_type": "code",
   "execution_count": 33,
   "metadata": {},
   "outputs": [],
   "source": [
    "#make a mean of alpha power from 8 Hz to 13 Hz\n",
    "vawelet_74_PO3_alpha = vawelet_74_PO3[:,4:9,:].mean(axis = 1)\n",
    "vawelet_74_PO4_alpha = vawelet_74_PO4[:,4:9,:].mean(axis = 1)\n",
    "vawelet_75_PO3_alpha = vawelet_75_PO3[:,4:9,:].mean(axis = 1)\n",
    "vawelet_75_PO4_alpha = vawelet_75_PO4[:,4:9,:].mean(axis = 1)\n",
    "vawelet_76_PO3_alpha = vawelet_76_PO3[:,4:9,:].mean(axis = 1)\n",
    "vawelet_76_PO4_alpha = vawelet_76_PO4[:,4:9,:].mean(axis = 1)\n",
    "\n",
    "#make a mean of alpha power from 8 Hz to 13 Hz\n",
    "vawelet_74_PO7_alpha = vawelet_74_PO7[:,4:9,:].mean(axis = 1)\n",
    "vawelet_74_PO8_alpha = vawelet_74_PO8[:,4:9,:].mean(axis = 1)\n",
    "vawelet_75_PO7_alpha = vawelet_75_PO7[:,4:9,:].mean(axis = 1)\n",
    "vawelet_75_PO8_alpha = vawelet_75_PO8[:,4:9,:].mean(axis = 1)\n",
    "vawelet_76_PO7_alpha = vawelet_76_PO7[:,4:9,:].mean(axis = 1)\n",
    "vawelet_76_PO8_alpha = vawelet_76_PO8[:,4:9,:].mean(axis = 1)"
   ]
  },
  {
   "cell_type": "code",
   "execution_count": 34,
   "metadata": {},
   "outputs": [],
   "source": [
    "#define contralateral and neutral power\n",
    "contralateral_power = np.array((vawelet_74_PO4_alpha ,vawelet_75_PO3_alpha,\n",
    "                                vawelet_74_PO8_alpha ,vawelet_75_PO7_alpha)).mean(axis = 0)\n",
    "neutral_power       = np.array((vawelet_76_PO3_alpha ,vawelet_76_PO4_alpha,\n",
    "                                vawelet_76_PO7_alpha ,vawelet_76_PO8_alpha)).mean(axis = 0)"
   ]
  },
  {
   "cell_type": "code",
   "execution_count": 134,
   "metadata": {},
   "outputs": [],
   "source": [
    "#plot contalateral and neutral\n",
    "plt.figure()\n",
    "\n",
    "plt.plot(times*1000,contralateral_power.mean(axis=0),\n",
    "          label='Contra')\n",
    "error = contralateral_power.std(axis=0)/np.sqrt(14)\n",
    "plt.fill_between(times*1000, contralateral_power.mean(axis=0) -error, contralateral_power.mean(axis=0) +error,\n",
    "    alpha=0.2)\n",
    "\n",
    "\n",
    "\n",
    "plt.plot(times*1000,neutral_power.mean(axis=0),\n",
    "          label='Neut')\n",
    "error = neutral_power.std(axis=0)/np.sqrt(14)\n",
    "plt.fill_between(times*1000, neutral_power.mean(axis=0) -error, neutral_power.mean(axis=0) +error,\n",
    "    alpha=0.2)\n",
    "\n",
    "\n",
    "plt.plot(times*1000,contralateral_power.mean(axis=0) - neutral_power.mean(axis=0),\n",
    "         'k-.', label='Anc')\n",
    "\n",
    "plt.plot(times*1000,np.zeros(len(times)),'y') \n",
    "sns.despine(offset=10, trim=True)  # <-- only show the right spine\n",
    "\n",
    "plt.axvline(x=0, color='black')\n",
    "plt.axvline(x=1000, color='black')\n",
    "plt.show()"
   ]
  },
  {
   "cell_type": "code",
   "execution_count": 123,
   "metadata": {},
   "outputs": [],
   "source": [
    "#Calculating FAL from -100 to 600 of stimulus\n",
    "time_min1 = int((100 + 900)/3.9)\n",
    "time_max1 = int((100 + 1600)/3.9)\n",
    "half_area = (contralateral_power - neutral_power).mean(axis = 0)[time_min1:time_max1].sum()/2"
   ]
  },
  {
   "cell_type": "code",
   "execution_count": 124,
   "metadata": {},
   "outputs": [],
   "source": [
    "#50% of FAL\n",
    "time_min1 = int((100 + 900)/3.9)\n",
    "time_max1 = int((100 + 1287)/3.9)\n",
    "new_area = (contralateral_power - neutral_power).mean(axis = 0)[time_min1:time_max1].sum()"
   ]
  },
  {
   "cell_type": "code",
   "execution_count": 125,
   "metadata": {},
   "outputs": [
    {
     "data": {
      "text/plain": [
       "0.020753777807676066"
      ]
     },
     "execution_count": 125,
     "metadata": {},
     "output_type": "execute_result"
    }
   ],
   "source": [
    "1e9*half_area - 1e9*new_area"
   ]
  },
  {
   "cell_type": "code",
   "execution_count": 4,
   "metadata": {},
   "outputs": [],
   "source": [
    "#time measurement\n",
    "time_min1 = int((100 + 1287-50)/3.9)\n",
    "time_max1 = int((100 + 1287+50)/3.9)"
   ]
  },
  {
   "cell_type": "code",
   "execution_count": 5,
   "metadata": {},
   "outputs": [
    {
     "data": {
      "text/plain": [
       "(342, 368)"
      ]
     },
     "execution_count": 5,
     "metadata": {},
     "output_type": "execute_result"
    }
   ],
   "source": [
    "time_min1,time_max1"
   ]
  },
  {
   "cell_type": "code",
   "execution_count": 132,
   "metadata": {},
   "outputs": [
    {
     "data": {
      "text/plain": [
       "<matplotlib.patches.Polygon at 0x1e40815a508>"
      ]
     },
     "execution_count": 132,
     "metadata": {},
     "output_type": "execute_result"
    }
   ],
   "source": [
    "#\n",
    "plt.axvspan(times[time_min1]*1000, times[time_max1]*1000, color='gray', alpha=0.4)"
   ]
  },
  {
   "cell_type": "code",
   "execution_count": 115,
   "metadata": {},
   "outputs": [],
   "source": [
    "#averaging power from 1100 to 1200 ms\n",
    "contralateral_power_mean = contralateral_power[:,time_min1:time_max1].mean(axis = 1)\n",
    "neutral_power_mean       = neutral_power[:,time_min1:time_max1].mean(axis = 1)"
   ]
  },
  {
   "cell_type": "code",
   "execution_count": 69,
   "metadata": {},
   "outputs": [
    {
     "data": {
      "text/plain": [
       "Ttest_relResult(statistic=-2.592718750857038, pvalue=0.022312048981900607)"
      ]
     },
     "execution_count": 69,
     "metadata": {},
     "output_type": "execute_result"
    }
   ],
   "source": [
    "#t-test of averaging\n",
    "stats.ttest_rel(contralateral_power_mean,neutral_power_mean)"
   ]
  },
  {
   "cell_type": "code",
   "execution_count": 70,
   "metadata": {},
   "outputs": [],
   "source": [
    "#difference contralaterla and ipsilateral \n",
    "diff_power_mean = contralateral_power_mean - neutral_power_mean"
   ]
  },
  {
   "cell_type": "code",
   "execution_count": 71,
   "metadata": {},
   "outputs": [
    {
     "data": {
      "text/plain": [
       "array([-3.61950366e-11, -3.03019157e-11, -3.09058281e-11, -1.70358119e-10,\n",
       "       -1.59274416e-11, -6.98453893e-11, -1.58364188e-10,  1.40882713e-11,\n",
       "       -1.80336416e-11, -2.01092226e-12, -4.09249085e-11, -2.10558514e-11,\n",
       "       -3.38035774e-10, -7.32623125e-12])"
      ]
     },
     "execution_count": 71,
     "metadata": {},
     "output_type": "execute_result"
    }
   ],
   "source": [
    "diff_power_mean"
   ]
  },
  {
   "cell_type": "code",
   "execution_count": 119,
   "metadata": {},
   "outputs": [],
   "source": [
    "#plot time frequency \n",
    "contralateral_power_imshow = np.array((vawelet_74_PO4 ,vawelet_75_PO3,\n",
    "                                vawelet_74_PO8 ,vawelet_75_PO7)).mean(axis = 0)\n",
    "neutral_power_imshow       = np.array((vawelet_76_PO3 ,vawelet_76_PO4,\n",
    "                                vawelet_76_PO7 ,vawelet_76_PO8)).mean(axis = 0)\n",
    "\n",
    "plt.figure()\n",
    "diff = (contralateral_power_imshow-neutral_power_imshow).mean(axis = 0)\n",
    "vmax = np.max(diff)\n",
    "vmin = -vmax\n",
    "plt.imshow(diff, cmap=plt.cm.RdBu_r,\n",
    "           extent=[times[0]*1000, times[-1]*1000, freqs[0], freqs[-1]],\n",
    "           aspect='auto', origin='lower', vmin=vmin, vmax=vmax)\n",
    "plt.colorbar()\n",
    "\n",
    "plt.axvline(x=0, color='black')\n",
    "plt.axvline(x=1000, color='black')\n",
    "sns.despine(offset=10)   "
   ]
  },
  {
   "cell_type": "markdown",
   "metadata": {},
   "source": [
    "# DDM model"
   ]
  },
  {
   "cell_type": "code",
   "execution_count": 3,
   "metadata": {},
   "outputs": [],
   "source": [
    "#loading modelt csv(non-decision time)\n",
    "model = pd.read_csv('..\\\\modelts\\\\modelt.csv')"
   ]
  },
  {
   "cell_type": "code",
   "execution_count": 121,
   "metadata": {},
   "outputs": [],
   "source": [
    "# difference of prioritized minus non-prioritized non-decision time\n",
    "par_yes = model.filter(regex=(\"t_subj\\(Yes\\).*\")).to_numpy()[0]\n",
    "par_no  = model.filter(regex=(\"t_subj\\(No\\).*\")).to_numpy()[0]\n",
    "diff_t   = par_yes - par_no "
   ]
  },
  {
   "cell_type": "code",
   "execution_count": null,
   "metadata": {},
   "outputs": [],
   "source": [
    "# two different regressors\n",
    "reg_independent_diff_1   = pd.DataFrame({'erp'   : diff_amplitude_mean_1,\n",
    "                                       'alpha' : diff_power_mean})\n",
    "reg_independent_diff_2   = pd.DataFrame({'erp'   : diff_amplitude_mean_2,\n",
    "                                       'alpha' : diff_power_mean})"
   ]
  },
  {
   "cell_type": "code",
   "execution_count": 194,
   "metadata": {},
   "outputs": [
    {
     "name": "stderr",
     "output_type": "stream",
     "text": [
      "C:\\Users\\amin\\Anaconda3\\lib\\site-packages\\numpy\\core\\fromnumeric.py:2389: FutureWarning: Method .ptp is deprecated and will be removed in a future version. Use numpy.ptp instead.\n",
      "  return ptp(axis=axis, out=out, **kwargs)\n",
      "C:\\Users\\amin\\Anaconda3\\lib\\site-packages\\scipy\\stats\\stats.py:1450: UserWarning: kurtosistest only valid for n>=20 ... continuing anyway, n=14\n",
      "  \"anyway, n=%i\" % int(n))\n"
     ]
    },
    {
     "data": {
      "text/html": [
       "<table class=\"simpletable\">\n",
       "<caption>OLS Regression Results</caption>\n",
       "<tr>\n",
       "  <th>Dep. Variable:</th>            <td>y</td>        <th>  R-squared:         </th> <td>   0.050</td>\n",
       "</tr>\n",
       "<tr>\n",
       "  <th>Model:</th>                   <td>OLS</td>       <th>  Adj. R-squared:    </th> <td>  -0.122</td>\n",
       "</tr>\n",
       "<tr>\n",
       "  <th>Method:</th>             <td>Least Squares</td>  <th>  F-statistic:       </th> <td>  0.2923</td>\n",
       "</tr>\n",
       "<tr>\n",
       "  <th>Date:</th>             <td>Sun, 14 Mar 2021</td> <th>  Prob (F-statistic):</th>  <td> 0.752</td> \n",
       "</tr>\n",
       "<tr>\n",
       "  <th>Time:</th>                 <td>08:04:50</td>     <th>  Log-Likelihood:    </th> <td>  32.224</td>\n",
       "</tr>\n",
       "<tr>\n",
       "  <th>No. Observations:</th>      <td>    14</td>      <th>  AIC:               </th> <td>  -58.45</td>\n",
       "</tr>\n",
       "<tr>\n",
       "  <th>Df Residuals:</th>          <td>    11</td>      <th>  BIC:               </th> <td>  -56.53</td>\n",
       "</tr>\n",
       "<tr>\n",
       "  <th>Df Model:</th>              <td>     2</td>      <th>                     </th>     <td> </td>   \n",
       "</tr>\n",
       "<tr>\n",
       "  <th>Covariance Type:</th>      <td>nonrobust</td>    <th>                     </th>     <td> </td>   \n",
       "</tr>\n",
       "</table>\n",
       "<table class=\"simpletable\">\n",
       "<tr>\n",
       "    <td></td>       <th>coef</th>     <th>std err</th>      <th>t</th>      <th>P>|t|</th>  <th>[0.025</th>    <th>0.975]</th>  \n",
       "</tr>\n",
       "<tr>\n",
       "  <th>const</th> <td>   -0.0151</td> <td>    0.014</td> <td>   -1.058</td> <td> 0.313</td> <td>   -0.046</td> <td>    0.016</td>\n",
       "</tr>\n",
       "<tr>\n",
       "  <th>erp</th>   <td> 7618.9189</td> <td> 1.84e+04</td> <td>    0.414</td> <td> 0.687</td> <td>-3.29e+04</td> <td> 4.81e+04</td>\n",
       "</tr>\n",
       "<tr>\n",
       "  <th>alpha</th> <td> 6.091e+07</td> <td> 8.29e+07</td> <td>    0.734</td> <td> 0.478</td> <td>-1.22e+08</td> <td> 2.43e+08</td>\n",
       "</tr>\n",
       "</table>\n",
       "<table class=\"simpletable\">\n",
       "<tr>\n",
       "  <th>Omnibus:</th>       <td> 0.264</td> <th>  Durbin-Watson:     </th> <td>   2.410</td>\n",
       "</tr>\n",
       "<tr>\n",
       "  <th>Prob(Omnibus):</th> <td> 0.876</td> <th>  Jarque-Bera (JB):  </th> <td>   0.330</td>\n",
       "</tr>\n",
       "<tr>\n",
       "  <th>Skew:</th>          <td> 0.260</td> <th>  Prob(JB):          </th> <td>   0.848</td>\n",
       "</tr>\n",
       "<tr>\n",
       "  <th>Kurtosis:</th>      <td> 2.456</td> <th>  Cond. No.          </th> <td>1.14e+10</td>\n",
       "</tr>\n",
       "</table><br/><br/>Warnings:<br/>[1] Standard Errors assume that the covariance matrix of the errors is correctly specified.<br/>[2] The smallest eigenvalue is 1.09e-19. This might indicate that there are<br/>strong multicollinearity problems or that the design matrix is singular."
      ],
      "text/plain": [
       "<class 'statsmodels.iolib.summary.Summary'>\n",
       "\"\"\"\n",
       "                            OLS Regression Results                            \n",
       "==============================================================================\n",
       "Dep. Variable:                      y   R-squared:                       0.050\n",
       "Model:                            OLS   Adj. R-squared:                 -0.122\n",
       "Method:                 Least Squares   F-statistic:                    0.2923\n",
       "Date:                Sun, 14 Mar 2021   Prob (F-statistic):              0.752\n",
       "Time:                        08:04:50   Log-Likelihood:                 32.224\n",
       "No. Observations:                  14   AIC:                            -58.45\n",
       "Df Residuals:                      11   BIC:                            -56.53\n",
       "Df Model:                           2                                         \n",
       "Covariance Type:            nonrobust                                         \n",
       "==============================================================================\n",
       "                 coef    std err          t      P>|t|      [0.025      0.975]\n",
       "------------------------------------------------------------------------------\n",
       "const         -0.0151      0.014     -1.058      0.313      -0.046       0.016\n",
       "erp         7618.9189   1.84e+04      0.414      0.687   -3.29e+04    4.81e+04\n",
       "alpha       6.091e+07   8.29e+07      0.734      0.478   -1.22e+08    2.43e+08\n",
       "==============================================================================\n",
       "Omnibus:                        0.264   Durbin-Watson:                   2.410\n",
       "Prob(Omnibus):                  0.876   Jarque-Bera (JB):                0.330\n",
       "Skew:                           0.260   Prob(JB):                        0.848\n",
       "Kurtosis:                       2.456   Cond. No.                     1.14e+10\n",
       "==============================================================================\n",
       "\n",
       "Warnings:\n",
       "[1] Standard Errors assume that the covariance matrix of the errors is correctly specified.\n",
       "[2] The smallest eigenvalue is 1.09e-19. This might indicate that there are\n",
       "strong multicollinearity problems or that the design matrix is singular.\n",
       "\"\"\""
      ]
     },
     "execution_count": 194,
     "metadata": {},
     "output_type": "execute_result"
    }
   ],
   "source": [
    "# linear regression non-decision time\n",
    "y = diff_t\n",
    "X = reg_independent_diff_1\n",
    "X = sm.add_constant(X)\n",
    "# Note the difference in argument order\n",
    "model_ddm_1 = sm.OLS(y, X).fit()\n",
    "predictions = model_ddm_1.predict(X) # make the predictions by the model\n",
    "# Print out the statistics\n",
    "model_ddm_1.summary()"
   ]
  },
  {
   "cell_type": "code",
   "execution_count": 27,
   "metadata": {},
   "outputs": [
    {
     "data": {
      "text/html": [
       "<table class=\"simpletable\">\n",
       "<caption>OLS Regression Results</caption>\n",
       "<tr>\n",
       "  <th>Dep. Variable:</th>            <td>y</td>        <th>  R-squared:         </th> <td>   0.415</td>\n",
       "</tr>\n",
       "<tr>\n",
       "  <th>Model:</th>                   <td>OLS</td>       <th>  Adj. R-squared:    </th> <td>   0.366</td>\n",
       "</tr>\n",
       "<tr>\n",
       "  <th>Method:</th>             <td>Least Squares</td>  <th>  F-statistic:       </th> <td>   8.502</td>\n",
       "</tr>\n",
       "<tr>\n",
       "  <th>Date:</th>             <td>Wed, 17 Mar 2021</td> <th>  Prob (F-statistic):</th>  <td>0.0129</td> \n",
       "</tr>\n",
       "<tr>\n",
       "  <th>Time:</th>                 <td>00:14:59</td>     <th>  Log-Likelihood:    </th> <td>  35.611</td>\n",
       "</tr>\n",
       "<tr>\n",
       "  <th>No. Observations:</th>      <td>    14</td>      <th>  AIC:               </th> <td>  -67.22</td>\n",
       "</tr>\n",
       "<tr>\n",
       "  <th>Df Residuals:</th>          <td>    12</td>      <th>  BIC:               </th> <td>  -65.94</td>\n",
       "</tr>\n",
       "<tr>\n",
       "  <th>Df Model:</th>              <td>     1</td>      <th>                     </th>     <td> </td>   \n",
       "</tr>\n",
       "<tr>\n",
       "  <th>Covariance Type:</th>      <td>nonrobust</td>    <th>                     </th>     <td> </td>   \n",
       "</tr>\n",
       "</table>\n",
       "<table class=\"simpletable\">\n",
       "<tr>\n",
       "    <td></td>       <th>coef</th>     <th>std err</th>      <th>t</th>      <th>P>|t|</th>  <th>[0.025</th>    <th>0.975]</th>  \n",
       "</tr>\n",
       "<tr>\n",
       "  <th>const</th> <td>   -0.0041</td> <td>    0.009</td> <td>   -0.476</td> <td> 0.643</td> <td>   -0.023</td> <td>    0.015</td>\n",
       "</tr>\n",
       "<tr>\n",
       "  <th>x1</th>    <td> 4.321e+04</td> <td> 1.48e+04</td> <td>    2.916</td> <td> 0.013</td> <td> 1.09e+04</td> <td> 7.55e+04</td>\n",
       "</tr>\n",
       "</table>\n",
       "<table class=\"simpletable\">\n",
       "<tr>\n",
       "  <th>Omnibus:</th>       <td> 0.058</td> <th>  Durbin-Watson:     </th> <td>   2.682</td>\n",
       "</tr>\n",
       "<tr>\n",
       "  <th>Prob(Omnibus):</th> <td> 0.971</td> <th>  Jarque-Bera (JB):  </th> <td>   0.289</td>\n",
       "</tr>\n",
       "<tr>\n",
       "  <th>Skew:</th>          <td>-0.002</td> <th>  Prob(JB):          </th> <td>   0.865</td>\n",
       "</tr>\n",
       "<tr>\n",
       "  <th>Kurtosis:</th>      <td> 2.296</td> <th>  Cond. No.          </th> <td>2.70e+06</td>\n",
       "</tr>\n",
       "</table><br/><br/>Warnings:<br/>[1] Standard Errors assume that the covariance matrix of the errors is correctly specified.<br/>[2] The smallest eigenvalue is 1.92e-12. This might indicate that there are<br/>strong multicollinearity problems or that the design matrix is singular."
      ],
      "text/plain": [
       "<class 'statsmodels.iolib.summary.Summary'>\n",
       "\"\"\"\n",
       "                            OLS Regression Results                            \n",
       "==============================================================================\n",
       "Dep. Variable:                      y   R-squared:                       0.415\n",
       "Model:                            OLS   Adj. R-squared:                  0.366\n",
       "Method:                 Least Squares   F-statistic:                     8.502\n",
       "Date:                Wed, 17 Mar 2021   Prob (F-statistic):             0.0129\n",
       "Time:                        00:14:59   Log-Likelihood:                 35.611\n",
       "No. Observations:                  14   AIC:                            -67.22\n",
       "Df Residuals:                      12   BIC:                            -65.94\n",
       "Df Model:                           1                                         \n",
       "Covariance Type:            nonrobust                                         \n",
       "==============================================================================\n",
       "                 coef    std err          t      P>|t|      [0.025      0.975]\n",
       "------------------------------------------------------------------------------\n",
       "const         -0.0041      0.009     -0.476      0.643      -0.023       0.015\n",
       "x1          4.321e+04   1.48e+04      2.916      0.013    1.09e+04    7.55e+04\n",
       "==============================================================================\n",
       "Omnibus:                        0.058   Durbin-Watson:                   2.682\n",
       "Prob(Omnibus):                  0.971   Jarque-Bera (JB):                0.289\n",
       "Skew:                          -0.002   Prob(JB):                        0.865\n",
       "Kurtosis:                       2.296   Cond. No.                     2.70e+06\n",
       "==============================================================================\n",
       "\n",
       "Warnings:\n",
       "[1] Standard Errors assume that the covariance matrix of the errors is correctly specified.\n",
       "[2] The smallest eigenvalue is 1.92e-12. This might indicate that there are\n",
       "strong multicollinearity problems or that the design matrix is singular.\n",
       "\"\"\""
      ]
     },
     "execution_count": 27,
     "metadata": {},
     "output_type": "execute_result"
    }
   ],
   "source": [
    "# linear regression\n",
    "y = diff_t\n",
    "X = reg_independent_diff_2\n",
    "X = sm.add_constant(X)\n",
    "# Note the difference in argument order\n",
    "model_t_2 = sm.OLS(y, X).fit()\n",
    "predictions = model_t_2.predict(X) # make the predictions by the model\n",
    "# Print out the statistics\n",
    "model_t_2.summary()"
   ]
  },
  {
   "cell_type": "code",
   "execution_count": 216,
   "metadata": {},
   "outputs": [
    {
     "name": "stderr",
     "output_type": "stream",
     "text": [
      "No handles with labels found to put in legend.\n"
     ]
    }
   ],
   "source": [
    "#plot main effect, ccp\n",
    "fig = sm.graphics.plot_ccpr(model_t_2, \"erp\")\n",
    "fig.tight_layout(pad=1.0)"
   ]
  },
  {
   "cell_type": "code",
   "execution_count": 217,
   "metadata": {},
   "outputs": [
    {
     "name": "stderr",
     "output_type": "stream",
     "text": [
      "No handles with labels found to put in legend.\n",
      "No handles with labels found to put in legend.\n",
      "No handles with labels found to put in legend.\n",
      "No handles with labels found to put in legend.\n"
     ]
    }
   ],
   "source": [
    "fig = sm.graphics.plot_ccpr(model_t_2, \"alpha\")\n",
    "fig.tight_layout(pad=1.0)"
   ]
  },
  {
   "cell_type": "code",
   "execution_count": 159,
   "metadata": {},
   "outputs": [],
   "source": [
    "#defference reaction time and accuracy of prioritized minus non-prioritized\n",
    "diff_acc = np.array([ 0.02428127,  2.28873239, -0.91701287,  0.03399378,  0.70921986,\n",
    "         1.43307397, -0.63936064,  8.36698513,  2.13729932, -0.85513078,\n",
    "        -2.2713258 , -2.77777778,  3.54082537,  4.38426821])\n",
    "diff_rt = np.array([ -19.75610227,  -24.30786221,   17.97791128,  -15.82163545,\n",
    "         -36.99108643,  -25.74826506,  -34.93650585,  -17.63462144,\n",
    "         -20.26893915,   -8.51105231,  -28.80825474,  -16.5348064 ,\n",
    "        -103.9004591 ,   -7.49084192])"
   ]
  },
  {
   "cell_type": "code",
   "execution_count": 209,
   "metadata": {},
   "outputs": [
    {
     "name": "stderr",
     "output_type": "stream",
     "text": [
      "C:\\Users\\amin\\Anaconda3\\lib\\site-packages\\numpy\\core\\fromnumeric.py:2389: FutureWarning: Method .ptp is deprecated and will be removed in a future version. Use numpy.ptp instead.\n",
      "  return ptp(axis=axis, out=out, **kwargs)\n",
      "C:\\Users\\amin\\Anaconda3\\lib\\site-packages\\scipy\\stats\\stats.py:1450: UserWarning: kurtosistest only valid for n>=20 ... continuing anyway, n=14\n",
      "  \"anyway, n=%i\" % int(n))\n"
     ]
    },
    {
     "data": {
      "text/html": [
       "<table class=\"simpletable\">\n",
       "<caption>OLS Regression Results</caption>\n",
       "<tr>\n",
       "  <th>Dep. Variable:</th>            <td>y</td>        <th>  R-squared:         </th> <td>   0.679</td>\n",
       "</tr>\n",
       "<tr>\n",
       "  <th>Model:</th>                   <td>OLS</td>       <th>  Adj. R-squared:    </th> <td>   0.621</td>\n",
       "</tr>\n",
       "<tr>\n",
       "  <th>Method:</th>             <td>Least Squares</td>  <th>  F-statistic:       </th> <td>   11.66</td>\n",
       "</tr>\n",
       "<tr>\n",
       "  <th>Date:</th>             <td>Sun, 14 Mar 2021</td> <th>  Prob (F-statistic):</th>  <td>0.00192</td>\n",
       "</tr>\n",
       "<tr>\n",
       "  <th>Time:</th>                 <td>09:56:53</td>     <th>  Log-Likelihood:    </th> <td> -57.291</td>\n",
       "</tr>\n",
       "<tr>\n",
       "  <th>No. Observations:</th>      <td>    14</td>      <th>  AIC:               </th> <td>   120.6</td>\n",
       "</tr>\n",
       "<tr>\n",
       "  <th>Df Residuals:</th>          <td>    11</td>      <th>  BIC:               </th> <td>   122.5</td>\n",
       "</tr>\n",
       "<tr>\n",
       "  <th>Df Model:</th>              <td>     2</td>      <th>                     </th>     <td> </td>   \n",
       "</tr>\n",
       "<tr>\n",
       "  <th>Covariance Type:</th>      <td>nonrobust</td>    <th>                     </th>     <td> </td>   \n",
       "</tr>\n",
       "</table>\n",
       "<table class=\"simpletable\">\n",
       "<tr>\n",
       "    <td></td>       <th>coef</th>     <th>std err</th>      <th>t</th>      <th>P>|t|</th>  <th>[0.025</th>    <th>0.975]</th>  \n",
       "</tr>\n",
       "<tr>\n",
       "  <th>const</th> <td>   -3.5859</td> <td>    6.836</td> <td>   -0.525</td> <td> 0.610</td> <td>  -18.631</td> <td>   11.459</td>\n",
       "</tr>\n",
       "<tr>\n",
       "  <th>erp</th>   <td> 2.048e+07</td> <td> 1.32e+07</td> <td>    1.549</td> <td> 0.150</td> <td>-8.62e+06</td> <td> 4.96e+07</td>\n",
       "</tr>\n",
       "<tr>\n",
       "  <th>alpha</th> <td>   1.8e+11</td> <td> 5.33e+10</td> <td>    3.377</td> <td> 0.006</td> <td> 6.27e+10</td> <td> 2.97e+11</td>\n",
       "</tr>\n",
       "</table>\n",
       "<table class=\"simpletable\">\n",
       "<tr>\n",
       "  <th>Omnibus:</th>       <td> 1.138</td> <th>  Durbin-Watson:     </th> <td>   1.944</td>\n",
       "</tr>\n",
       "<tr>\n",
       "  <th>Prob(Omnibus):</th> <td> 0.566</td> <th>  Jarque-Bera (JB):  </th> <td>   0.837</td>\n",
       "</tr>\n",
       "<tr>\n",
       "  <th>Skew:</th>          <td> 0.546</td> <th>  Prob(JB):          </th> <td>   0.658</td>\n",
       "</tr>\n",
       "<tr>\n",
       "  <th>Kurtosis:</th>      <td> 2.507</td> <th>  Cond. No.          </th> <td>1.22e+10</td>\n",
       "</tr>\n",
       "</table><br/><br/>Warnings:<br/>[1] Standard Errors assume that the covariance matrix of the errors is correctly specified.<br/>[2] The smallest eigenvalue is 9.4e-20. This might indicate that there are<br/>strong multicollinearity problems or that the design matrix is singular."
      ],
      "text/plain": [
       "<class 'statsmodels.iolib.summary.Summary'>\n",
       "\"\"\"\n",
       "                            OLS Regression Results                            \n",
       "==============================================================================\n",
       "Dep. Variable:                      y   R-squared:                       0.679\n",
       "Model:                            OLS   Adj. R-squared:                  0.621\n",
       "Method:                 Least Squares   F-statistic:                     11.66\n",
       "Date:                Sun, 14 Mar 2021   Prob (F-statistic):            0.00192\n",
       "Time:                        09:56:53   Log-Likelihood:                -57.291\n",
       "No. Observations:                  14   AIC:                             120.6\n",
       "Df Residuals:                      11   BIC:                             122.5\n",
       "Df Model:                           2                                         \n",
       "Covariance Type:            nonrobust                                         \n",
       "==============================================================================\n",
       "                 coef    std err          t      P>|t|      [0.025      0.975]\n",
       "------------------------------------------------------------------------------\n",
       "const         -3.5859      6.836     -0.525      0.610     -18.631      11.459\n",
       "erp         2.048e+07   1.32e+07      1.549      0.150   -8.62e+06    4.96e+07\n",
       "alpha         1.8e+11   5.33e+10      3.377      0.006    6.27e+10    2.97e+11\n",
       "==============================================================================\n",
       "Omnibus:                        1.138   Durbin-Watson:                   1.944\n",
       "Prob(Omnibus):                  0.566   Jarque-Bera (JB):                0.837\n",
       "Skew:                           0.546   Prob(JB):                        0.658\n",
       "Kurtosis:                       2.507   Cond. No.                     1.22e+10\n",
       "==============================================================================\n",
       "\n",
       "Warnings:\n",
       "[1] Standard Errors assume that the covariance matrix of the errors is correctly specified.\n",
       "[2] The smallest eigenvalue is 9.4e-20. This might indicate that there are\n",
       "strong multicollinearity problems or that the design matrix is singular.\n",
       "\"\"\""
      ]
     },
     "execution_count": 209,
     "metadata": {},
     "output_type": "execute_result"
    }
   ],
   "source": [
    "#response time regression response time \n",
    "y = diff_rt\n",
    "X = reg_independent_diff_2\n",
    "X = sm.add_constant(X)\n",
    "# Note the difference in argument order\n",
    "model_rt = sm.OLS(y, X).fit()\n",
    "predictions = model_rt.predict(X) # make the predictions by the model\n",
    "# Print out the statistics\n",
    "model_rt.summary()"
   ]
  },
  {
   "cell_type": "code",
   "execution_count": 218,
   "metadata": {},
   "outputs": [],
   "source": [
    "fig = sm.graphics.plot_ccpr(model_rt, \"erp\")\n",
    "fig.tight_layout(pad=1.0)"
   ]
  },
  {
   "cell_type": "code",
   "execution_count": 219,
   "metadata": {
    "scrolled": true
   },
   "outputs": [
    {
     "name": "stderr",
     "output_type": "stream",
     "text": [
      "No handles with labels found to put in legend.\n",
      "No handles with labels found to put in legend.\n",
      "No handles with labels found to put in legend.\n",
      "No handles with labels found to put in legend.\n",
      "No handles with labels found to put in legend.\n"
     ]
    }
   ],
   "source": [
    "fig = sm.graphics.plot_ccpr(model_rt, \"alpha\")\n",
    "fig.tight_layout(pad=1.0)"
   ]
  },
  {
   "cell_type": "code",
   "execution_count": 25,
   "metadata": {
    "scrolled": true
   },
   "outputs": [
    {
     "data": {
      "text/plain": [
       "(0.6439631328050062, 0.012940834238376123)"
      ]
     },
     "execution_count": 25,
     "metadata": {},
     "output_type": "execute_result"
    }
   ],
   "source": [
    "stats.pearsonr(diff_rt, diff_power_mean)"
   ]
  },
  {
   "cell_type": "code",
   "execution_count": 203,
   "metadata": {
    "scrolled": false
   },
   "outputs": [
    {
     "data": {
      "text/html": [
       "<table class=\"simpletable\">\n",
       "<caption>OLS Regression Results</caption>\n",
       "<tr>\n",
       "  <th>Dep. Variable:</th>            <td>y</td>        <th>  R-squared:         </th> <td>   0.123</td>\n",
       "</tr>\n",
       "<tr>\n",
       "  <th>Model:</th>                   <td>OLS</td>       <th>  Adj. R-squared:    </th> <td>  -0.037</td>\n",
       "</tr>\n",
       "<tr>\n",
       "  <th>Method:</th>             <td>Least Squares</td>  <th>  F-statistic:       </th> <td>  0.7701</td>\n",
       "</tr>\n",
       "<tr>\n",
       "  <th>Date:</th>             <td>Sun, 14 Mar 2021</td> <th>  Prob (F-statistic):</th>  <td> 0.486</td> \n",
       "</tr>\n",
       "<tr>\n",
       "  <th>Time:</th>                 <td>09:48:38</td>     <th>  Log-Likelihood:    </th> <td> -33.499</td>\n",
       "</tr>\n",
       "<tr>\n",
       "  <th>No. Observations:</th>      <td>    14</td>      <th>  AIC:               </th> <td>   73.00</td>\n",
       "</tr>\n",
       "<tr>\n",
       "  <th>Df Residuals:</th>          <td>    11</td>      <th>  BIC:               </th> <td>   74.91</td>\n",
       "</tr>\n",
       "<tr>\n",
       "  <th>Df Model:</th>              <td>     2</td>      <th>                     </th>     <td> </td>   \n",
       "</tr>\n",
       "<tr>\n",
       "  <th>Covariance Type:</th>      <td>nonrobust</td>    <th>                     </th>     <td> </td>   \n",
       "</tr>\n",
       "</table>\n",
       "<table class=\"simpletable\">\n",
       "<tr>\n",
       "    <td></td>       <th>coef</th>     <th>std err</th>      <th>t</th>      <th>P>|t|</th>  <th>[0.025</th>    <th>0.975]</th>  \n",
       "</tr>\n",
       "<tr>\n",
       "  <th>const</th> <td>    0.1295</td> <td>    1.249</td> <td>    0.104</td> <td> 0.919</td> <td>   -2.621</td> <td>    2.880</td>\n",
       "</tr>\n",
       "<tr>\n",
       "  <th>erp</th>   <td>-2.999e+06</td> <td> 2.42e+06</td> <td>   -1.241</td> <td> 0.241</td> <td>-8.32e+06</td> <td> 2.32e+06</td>\n",
       "</tr>\n",
       "<tr>\n",
       "  <th>alpha</th> <td>  5.19e+09</td> <td> 9.74e+09</td> <td>    0.533</td> <td> 0.605</td> <td>-1.63e+10</td> <td> 2.66e+10</td>\n",
       "</tr>\n",
       "</table>\n",
       "<table class=\"simpletable\">\n",
       "<tr>\n",
       "  <th>Omnibus:</th>       <td> 9.931</td> <th>  Durbin-Watson:     </th> <td>   2.046</td>\n",
       "</tr>\n",
       "<tr>\n",
       "  <th>Prob(Omnibus):</th> <td> 0.007</td> <th>  Jarque-Bera (JB):  </th> <td>   5.821</td>\n",
       "</tr>\n",
       "<tr>\n",
       "  <th>Skew:</th>          <td> 1.324</td> <th>  Prob(JB):          </th> <td>  0.0545</td>\n",
       "</tr>\n",
       "<tr>\n",
       "  <th>Kurtosis:</th>      <td> 4.722</td> <th>  Cond. No.          </th> <td>1.22e+10</td>\n",
       "</tr>\n",
       "</table><br/><br/>Warnings:<br/>[1] Standard Errors assume that the covariance matrix of the errors is correctly specified.<br/>[2] The smallest eigenvalue is 9.4e-20. This might indicate that there are<br/>strong multicollinearity problems or that the design matrix is singular."
      ],
      "text/plain": [
       "<class 'statsmodels.iolib.summary.Summary'>\n",
       "\"\"\"\n",
       "                            OLS Regression Results                            \n",
       "==============================================================================\n",
       "Dep. Variable:                      y   R-squared:                       0.123\n",
       "Model:                            OLS   Adj. R-squared:                 -0.037\n",
       "Method:                 Least Squares   F-statistic:                    0.7701\n",
       "Date:                Sun, 14 Mar 2021   Prob (F-statistic):              0.486\n",
       "Time:                        09:48:38   Log-Likelihood:                -33.499\n",
       "No. Observations:                  14   AIC:                             73.00\n",
       "Df Residuals:                      11   BIC:                             74.91\n",
       "Df Model:                           2                                         \n",
       "Covariance Type:            nonrobust                                         \n",
       "==============================================================================\n",
       "                 coef    std err          t      P>|t|      [0.025      0.975]\n",
       "------------------------------------------------------------------------------\n",
       "const          0.1295      1.249      0.104      0.919      -2.621       2.880\n",
       "erp        -2.999e+06   2.42e+06     -1.241      0.241   -8.32e+06    2.32e+06\n",
       "alpha        5.19e+09   9.74e+09      0.533      0.605   -1.63e+10    2.66e+10\n",
       "==============================================================================\n",
       "Omnibus:                        9.931   Durbin-Watson:                   2.046\n",
       "Prob(Omnibus):                  0.007   Jarque-Bera (JB):                5.821\n",
       "Skew:                           1.324   Prob(JB):                       0.0545\n",
       "Kurtosis:                       4.722   Cond. No.                     1.22e+10\n",
       "==============================================================================\n",
       "\n",
       "Warnings:\n",
       "[1] Standard Errors assume that the covariance matrix of the errors is correctly specified.\n",
       "[2] The smallest eigenvalue is 9.4e-20. This might indicate that there are\n",
       "strong multicollinearity problems or that the design matrix is singular.\n",
       "\"\"\""
      ]
     },
     "execution_count": 203,
     "metadata": {},
     "output_type": "execute_result"
    }
   ],
   "source": [
    "y = diff_acc\n",
    "X = reg_independent_diff_2\n",
    "X = sm.add_constant(X)\n",
    "# Note the difference in argument order\n",
    "model_per = sm.OLS(y, X).fit()\n",
    "predictions = model_per.predict(X) # make the predictions by the model\n",
    "# Print out the statistics\n",
    "model_per.summary()"
   ]
  },
  {
   "cell_type": "code",
   "execution_count": 85,
   "metadata": {},
   "outputs": [],
   "source": [
    "fig = sm.graphics.plot_ccpr(model_per, \"erp\")\n",
    "fig.tight_layout(pad=1.0)"
   ]
  },
  {
   "cell_type": "code",
   "execution_count": 86,
   "metadata": {},
   "outputs": [],
   "source": [
    "fig = sm.graphics.plot_ccpr(model_per, \"alpha\")\n",
    "fig.tight_layout(pad=1.0)"
   ]
  },
  {
   "cell_type": "code",
   "execution_count": null,
   "metadata": {},
   "outputs": [],
   "source": []
  }
 ],
 "metadata": {
  "kernelspec": {
   "display_name": "Python 3",
   "language": "python",
   "name": "python3"
  },
  "language_info": {
   "codemirror_mode": {
    "name": "ipython",
    "version": 3
   },
   "file_extension": ".py",
   "mimetype": "text/x-python",
   "name": "python",
   "nbconvert_exporter": "python",
   "pygments_lexer": "ipython3",
   "version": "3.7.4"
  }
 },
 "nbformat": 4,
 "nbformat_minor": 2
}
