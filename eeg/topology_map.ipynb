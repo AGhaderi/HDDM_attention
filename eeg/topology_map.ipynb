{
 "cells": [
  {
   "cell_type": "code",
   "execution_count": 2,
   "metadata": {},
   "outputs": [
    {
     "name": "stderr",
     "output_type": "stream",
     "text": [
      "C:\\Users\\amin\\Anaconda3\\lib\\site-packages\\statsmodels\\tools\\_testing.py:19: FutureWarning: pandas.util.testing is deprecated. Use the functions in the public API at pandas.testing instead.\n",
      "  import pandas.util.testing as tm\n"
     ]
    }
   ],
   "source": [
    "%matplotlib qt\n",
    "#inline\n",
    "import os\n",
    "import os.path as op\n",
    "import mne\n",
    "import numpy as np\n",
    "import pandas as pd\n",
    "from time import time\n",
    "import matplotlib.pyplot as plt\n",
    "from mne.time_frequency import (tfr_multitaper, tfr_stockwell, tfr_morlet,\n",
    "                                tfr_array_morlet)\n",
    "from mne.stats import f_threshold_mway_rm, f_mway_rm, fdr_correction,bonferroni_correction\n",
    "from mne.channels import find_ch_adjacency\n",
    "from mne.stats import spatio_temporal_cluster_test, permutation_t_test\n",
    "import scipy.stats as stats\n",
    "import statsmodels.api as sm\n",
    "import seaborn as sns"
   ]
  },
  {
   "cell_type": "code",
   "execution_count": 3,
   "metadata": {
    "scrolled": true
   },
   "outputs": [
    {
     "name": "stdout",
     "output_type": "stream",
     "text": [
      "Reading D:\\PhD\\PDM_data\\eeg_outside-MRT\\sub-001\\sourcedata-eeg_outside-MRT\\eeg\\sub-001_prerprocessed.fif ...\n",
      "    Read a total of 1 projection items:\n",
      "        Average EEG reference (1 x 62) active\n",
      "    Found the data of interest:\n",
      "        t =    -101.56 ...    1601.56 ms\n",
      "        0 CTF compensation matrices available\n"
     ]
    },
    {
     "name": "stderr",
     "output_type": "stream",
     "text": [
      "<ipython-input-3-207133ead15d>:13: RuntimeWarning: This filename (D:\\PhD\\PDM_data\\eeg_outside-MRT\\sub-001\\sourcedata-eeg_outside-MRT\\eeg\\sub-001_prerprocessed.fif) does not conform to MNE naming conventions. All epochs files should end with -epo.fif, -epo.fif.gz, _epo.fif or _epo.fif.gz\n",
      "  epochs = mne.read_epochs(examples_dir + \"\\\\\"+ i + \"_prerprocessed.fif\");\n"
     ]
    },
    {
     "name": "stdout",
     "output_type": "stream",
     "text": [
      "Not setting metadata\n",
      "Not setting metadata\n",
      "275 matching events found\n",
      "Applying baseline correction (mode: mean)\n",
      "Created an SSP operator (subspace dimension = 1)\n",
      "1 projection items activated\n",
      "Reading D:\\PhD\\PDM_data\\eeg_outside-MRT\\sub-003\\sourcedata-eeg_outside-MRT\\eeg\\sub-003_prerprocessed.fif ...\n",
      "    Read a total of 1 projection items:\n",
      "        Average EEG reference (1 x 62) active\n",
      "    Found the data of interest:\n",
      "        t =    -101.56 ...    1601.56 ms\n",
      "        0 CTF compensation matrices available\n"
     ]
    },
    {
     "name": "stderr",
     "output_type": "stream",
     "text": [
      "<ipython-input-3-207133ead15d>:13: RuntimeWarning: This filename (D:\\PhD\\PDM_data\\eeg_outside-MRT\\sub-003\\sourcedata-eeg_outside-MRT\\eeg\\sub-003_prerprocessed.fif) does not conform to MNE naming conventions. All epochs files should end with -epo.fif, -epo.fif.gz, _epo.fif or _epo.fif.gz\n",
      "  epochs = mne.read_epochs(examples_dir + \"\\\\\"+ i + \"_prerprocessed.fif\");\n"
     ]
    },
    {
     "name": "stdout",
     "output_type": "stream",
     "text": [
      "Not setting metadata\n",
      "Not setting metadata\n",
      "280 matching events found\n",
      "Applying baseline correction (mode: mean)\n",
      "Created an SSP operator (subspace dimension = 1)\n",
      "1 projection items activated\n",
      "Reading D:\\PhD\\PDM_data\\eeg_outside-MRT\\sub-004\\sourcedata-eeg_outside-MRT\\eeg\\sub-004_prerprocessed.fif ...\n",
      "    Read a total of 1 projection items:\n",
      "        Average EEG reference (1 x 62) active\n",
      "    Found the data of interest:\n",
      "        t =    -101.56 ...    1601.56 ms\n",
      "        0 CTF compensation matrices available\n",
      "Not setting metadata\n"
     ]
    },
    {
     "name": "stderr",
     "output_type": "stream",
     "text": [
      "<ipython-input-3-207133ead15d>:13: RuntimeWarning: This filename (D:\\PhD\\PDM_data\\eeg_outside-MRT\\sub-004\\sourcedata-eeg_outside-MRT\\eeg\\sub-004_prerprocessed.fif) does not conform to MNE naming conventions. All epochs files should end with -epo.fif, -epo.fif.gz, _epo.fif or _epo.fif.gz\n",
      "  epochs = mne.read_epochs(examples_dir + \"\\\\\"+ i + \"_prerprocessed.fif\");\n"
     ]
    },
    {
     "name": "stdout",
     "output_type": "stream",
     "text": [
      "Not setting metadata\n",
      "261 matching events found\n",
      "Applying baseline correction (mode: mean)\n",
      "Created an SSP operator (subspace dimension = 1)\n",
      "1 projection items activated\n",
      "Reading D:\\PhD\\PDM_data\\eeg_outside-MRT\\sub-005\\sourcedata-eeg_outside-MRT\\eeg\\sub-005_prerprocessed.fif ...\n",
      "    Read a total of 1 projection items:\n",
      "        Average EEG reference (1 x 62) active\n",
      "    Found the data of interest:\n",
      "        t =    -101.56 ...    1601.56 ms\n",
      "        0 CTF compensation matrices available\n",
      "Not setting metadata\n"
     ]
    },
    {
     "name": "stderr",
     "output_type": "stream",
     "text": [
      "<ipython-input-3-207133ead15d>:13: RuntimeWarning: This filename (D:\\PhD\\PDM_data\\eeg_outside-MRT\\sub-005\\sourcedata-eeg_outside-MRT\\eeg\\sub-005_prerprocessed.fif) does not conform to MNE naming conventions. All epochs files should end with -epo.fif, -epo.fif.gz, _epo.fif or _epo.fif.gz\n",
      "  epochs = mne.read_epochs(examples_dir + \"\\\\\"+ i + \"_prerprocessed.fif\");\n"
     ]
    },
    {
     "name": "stdout",
     "output_type": "stream",
     "text": [
      "Not setting metadata\n",
      "237 matching events found\n",
      "Applying baseline correction (mode: mean)\n",
      "Created an SSP operator (subspace dimension = 1)\n",
      "1 projection items activated\n",
      "Reading D:\\PhD\\PDM_data\\eeg_outside-MRT\\sub-006\\sourcedata-eeg_outside-MRT\\eeg\\sub-006_prerprocessed.fif ...\n",
      "    Read a total of 1 projection items:\n",
      "        Average EEG reference (1 x 62) active\n",
      "    Found the data of interest:\n",
      "        t =    -101.56 ...    1601.56 ms\n",
      "        0 CTF compensation matrices available\n",
      "Not setting metadata\n"
     ]
    },
    {
     "name": "stderr",
     "output_type": "stream",
     "text": [
      "<ipython-input-3-207133ead15d>:13: RuntimeWarning: This filename (D:\\PhD\\PDM_data\\eeg_outside-MRT\\sub-006\\sourcedata-eeg_outside-MRT\\eeg\\sub-006_prerprocessed.fif) does not conform to MNE naming conventions. All epochs files should end with -epo.fif, -epo.fif.gz, _epo.fif or _epo.fif.gz\n",
      "  epochs = mne.read_epochs(examples_dir + \"\\\\\"+ i + \"_prerprocessed.fif\");\n"
     ]
    },
    {
     "name": "stdout",
     "output_type": "stream",
     "text": [
      "Not setting metadata\n",
      "271 matching events found\n",
      "Applying baseline correction (mode: mean)\n",
      "Created an SSP operator (subspace dimension = 1)\n",
      "1 projection items activated\n",
      "Reading D:\\PhD\\PDM_data\\eeg_outside-MRT\\sub-008\\sourcedata-eeg_outside-MRT\\eeg\\sub-008_prerprocessed.fif ...\n",
      "    Read a total of 1 projection items:\n",
      "        Average EEG reference (1 x 62) active\n",
      "    Found the data of interest:\n",
      "        t =    -101.56 ...    1601.56 ms\n",
      "        0 CTF compensation matrices available\n"
     ]
    },
    {
     "name": "stderr",
     "output_type": "stream",
     "text": [
      "<ipython-input-3-207133ead15d>:13: RuntimeWarning: This filename (D:\\PhD\\PDM_data\\eeg_outside-MRT\\sub-008\\sourcedata-eeg_outside-MRT\\eeg\\sub-008_prerprocessed.fif) does not conform to MNE naming conventions. All epochs files should end with -epo.fif, -epo.fif.gz, _epo.fif or _epo.fif.gz\n",
      "  epochs = mne.read_epochs(examples_dir + \"\\\\\"+ i + \"_prerprocessed.fif\");\n"
     ]
    },
    {
     "name": "stdout",
     "output_type": "stream",
     "text": [
      "Not setting metadata\n",
      "Not setting metadata\n",
      "273 matching events found\n",
      "Applying baseline correction (mode: mean)\n",
      "Created an SSP operator (subspace dimension = 1)\n",
      "1 projection items activated\n",
      "Reading D:\\PhD\\PDM_data\\eeg_outside-MRT\\sub-009\\sourcedata-eeg_outside-MRT\\eeg\\sub-009_prerprocessed.fif ...\n",
      "    Read a total of 1 projection items:\n",
      "        Average EEG reference (1 x 62) active\n",
      "    Found the data of interest:\n",
      "        t =    -101.56 ...    1601.56 ms\n",
      "        0 CTF compensation matrices available\n",
      "Not setting metadata\n"
     ]
    },
    {
     "name": "stderr",
     "output_type": "stream",
     "text": [
      "<ipython-input-3-207133ead15d>:13: RuntimeWarning: This filename (D:\\PhD\\PDM_data\\eeg_outside-MRT\\sub-009\\sourcedata-eeg_outside-MRT\\eeg\\sub-009_prerprocessed.fif) does not conform to MNE naming conventions. All epochs files should end with -epo.fif, -epo.fif.gz, _epo.fif or _epo.fif.gz\n",
      "  epochs = mne.read_epochs(examples_dir + \"\\\\\"+ i + \"_prerprocessed.fif\");\n"
     ]
    },
    {
     "name": "stdout",
     "output_type": "stream",
     "text": [
      "Not setting metadata\n",
      "251 matching events found\n",
      "Applying baseline correction (mode: mean)\n",
      "Created an SSP operator (subspace dimension = 1)\n",
      "1 projection items activated\n",
      "Reading D:\\PhD\\PDM_data\\eeg_outside-MRT\\sub-010\\sourcedata-eeg_outside-MRT\\eeg\\sub-010_prerprocessed.fif ...\n",
      "    Read a total of 1 projection items:\n",
      "        Average EEG reference (1 x 62) active\n",
      "    Found the data of interest:\n",
      "        t =    -101.56 ...    1601.56 ms\n",
      "        0 CTF compensation matrices available\n"
     ]
    },
    {
     "name": "stderr",
     "output_type": "stream",
     "text": [
      "<ipython-input-3-207133ead15d>:13: RuntimeWarning: This filename (D:\\PhD\\PDM_data\\eeg_outside-MRT\\sub-010\\sourcedata-eeg_outside-MRT\\eeg\\sub-010_prerprocessed.fif) does not conform to MNE naming conventions. All epochs files should end with -epo.fif, -epo.fif.gz, _epo.fif or _epo.fif.gz\n",
      "  epochs = mne.read_epochs(examples_dir + \"\\\\\"+ i + \"_prerprocessed.fif\");\n"
     ]
    },
    {
     "name": "stdout",
     "output_type": "stream",
     "text": [
      "Not setting metadata\n",
      "Not setting metadata\n",
      "275 matching events found\n",
      "Applying baseline correction (mode: mean)\n",
      "Created an SSP operator (subspace dimension = 1)\n",
      "1 projection items activated\n",
      "Reading D:\\PhD\\PDM_data\\eeg_outside-MRT\\sub-012\\sourcedata-eeg_outside-MRT\\eeg\\sub-012_prerprocessed.fif ...\n",
      "    Read a total of 1 projection items:\n",
      "        Average EEG reference (1 x 62) active\n",
      "    Found the data of interest:\n",
      "        t =    -101.56 ...    1601.56 ms\n",
      "        0 CTF compensation matrices available\n",
      "Not setting metadata\n"
     ]
    },
    {
     "name": "stderr",
     "output_type": "stream",
     "text": [
      "<ipython-input-3-207133ead15d>:13: RuntimeWarning: This filename (D:\\PhD\\PDM_data\\eeg_outside-MRT\\sub-012\\sourcedata-eeg_outside-MRT\\eeg\\sub-012_prerprocessed.fif) does not conform to MNE naming conventions. All epochs files should end with -epo.fif, -epo.fif.gz, _epo.fif or _epo.fif.gz\n",
      "  epochs = mne.read_epochs(examples_dir + \"\\\\\"+ i + \"_prerprocessed.fif\");\n"
     ]
    },
    {
     "name": "stdout",
     "output_type": "stream",
     "text": [
      "Not setting metadata\n",
      "273 matching events found\n",
      "Applying baseline correction (mode: mean)\n",
      "Created an SSP operator (subspace dimension = 1)\n",
      "1 projection items activated\n",
      "Reading D:\\PhD\\PDM_data\\eeg_outside-MRT\\sub-013\\sourcedata-eeg_outside-MRT\\eeg\\sub-013_prerprocessed.fif ...\n",
      "    Read a total of 1 projection items:\n",
      "        Average EEG reference (1 x 62) active\n",
      "    Found the data of interest:\n",
      "        t =    -101.56 ...    1601.56 ms\n",
      "        0 CTF compensation matrices available\n",
      "Not setting metadata\n"
     ]
    },
    {
     "name": "stderr",
     "output_type": "stream",
     "text": [
      "<ipython-input-3-207133ead15d>:13: RuntimeWarning: This filename (D:\\PhD\\PDM_data\\eeg_outside-MRT\\sub-013\\sourcedata-eeg_outside-MRT\\eeg\\sub-013_prerprocessed.fif) does not conform to MNE naming conventions. All epochs files should end with -epo.fif, -epo.fif.gz, _epo.fif or _epo.fif.gz\n",
      "  epochs = mne.read_epochs(examples_dir + \"\\\\\"+ i + \"_prerprocessed.fif\");\n"
     ]
    },
    {
     "name": "stdout",
     "output_type": "stream",
     "text": [
      "Not setting metadata\n",
      "244 matching events found\n",
      "Applying baseline correction (mode: mean)\n",
      "Created an SSP operator (subspace dimension = 1)\n",
      "1 projection items activated\n",
      "Reading D:\\PhD\\PDM_data\\eeg_outside-MRT\\sub-014\\sourcedata-eeg_outside-MRT\\eeg\\sub-014_prerprocessed.fif ...\n",
      "    Read a total of 1 projection items:\n",
      "        Average EEG reference (1 x 62) active\n",
      "    Found the data of interest:\n",
      "        t =    -101.56 ...    1601.56 ms\n",
      "        0 CTF compensation matrices available\n",
      "Not setting metadata\n",
      "Not setting metadata\n",
      "263 matching events found\n"
     ]
    },
    {
     "name": "stderr",
     "output_type": "stream",
     "text": [
      "<ipython-input-3-207133ead15d>:13: RuntimeWarning: This filename (D:\\PhD\\PDM_data\\eeg_outside-MRT\\sub-014\\sourcedata-eeg_outside-MRT\\eeg\\sub-014_prerprocessed.fif) does not conform to MNE naming conventions. All epochs files should end with -epo.fif, -epo.fif.gz, _epo.fif or _epo.fif.gz\n",
      "  epochs = mne.read_epochs(examples_dir + \"\\\\\"+ i + \"_prerprocessed.fif\");\n"
     ]
    },
    {
     "name": "stdout",
     "output_type": "stream",
     "text": [
      "Applying baseline correction (mode: mean)\n",
      "Created an SSP operator (subspace dimension = 1)\n",
      "1 projection items activated\n",
      "Reading D:\\PhD\\PDM_data\\eeg_outside-MRT\\sub-015\\sourcedata-eeg_outside-MRT\\eeg\\sub-015_prerprocessed.fif ...\n",
      "    Read a total of 1 projection items:\n",
      "        Average EEG reference (1 x 62) active\n",
      "    Found the data of interest:\n",
      "        t =    -101.56 ...    1601.56 ms\n",
      "        0 CTF compensation matrices available\n",
      "Not setting metadata\n",
      "Not setting metadata\n"
     ]
    },
    {
     "name": "stderr",
     "output_type": "stream",
     "text": [
      "<ipython-input-3-207133ead15d>:13: RuntimeWarning: This filename (D:\\PhD\\PDM_data\\eeg_outside-MRT\\sub-015\\sourcedata-eeg_outside-MRT\\eeg\\sub-015_prerprocessed.fif) does not conform to MNE naming conventions. All epochs files should end with -epo.fif, -epo.fif.gz, _epo.fif or _epo.fif.gz\n",
      "  epochs = mne.read_epochs(examples_dir + \"\\\\\"+ i + \"_prerprocessed.fif\");\n"
     ]
    },
    {
     "name": "stdout",
     "output_type": "stream",
     "text": [
      "257 matching events found\n",
      "Applying baseline correction (mode: mean)\n",
      "Created an SSP operator (subspace dimension = 1)\n",
      "1 projection items activated\n",
      "Reading D:\\PhD\\PDM_data\\eeg_outside-MRT\\sub-016\\sourcedata-eeg_outside-MRT\\eeg\\sub-016_prerprocessed.fif ...\n",
      "    Read a total of 1 projection items:\n",
      "        Average EEG reference (1 x 62) active\n",
      "    Found the data of interest:\n",
      "        t =    -101.56 ...    1601.56 ms\n",
      "        0 CTF compensation matrices available\n",
      "Not setting metadata\n",
      "Not setting metadata\n",
      "245 matching events found\n",
      "Applying baseline correction (mode: mean)\n",
      "Created an SSP operator (subspace dimension = 1)\n",
      "1 projection items activated\n"
     ]
    },
    {
     "name": "stderr",
     "output_type": "stream",
     "text": [
      "<ipython-input-3-207133ead15d>:13: RuntimeWarning: This filename (D:\\PhD\\PDM_data\\eeg_outside-MRT\\sub-016\\sourcedata-eeg_outside-MRT\\eeg\\sub-016_prerprocessed.fif) does not conform to MNE naming conventions. All epochs files should end with -epo.fif, -epo.fif.gz, _epo.fif or _epo.fif.gz\n",
      "  epochs = mne.read_epochs(examples_dir + \"\\\\\"+ i + \"_prerprocessed.fif\");\n"
     ]
    },
    {
     "name": "stdout",
     "output_type": "stream",
     "text": [
      "Reading D:\\PhD\\PDM_data\\eeg_outside-MRT\\sub-017\\sourcedata-eeg_outside-MRT\\eeg\\sub-017_prerprocessed.fif ...\n",
      "    Read a total of 1 projection items:\n",
      "        Average EEG reference (1 x 62) active\n",
      "    Found the data of interest:\n",
      "        t =    -101.56 ...    1601.56 ms\n",
      "        0 CTF compensation matrices available\n"
     ]
    },
    {
     "name": "stderr",
     "output_type": "stream",
     "text": [
      "<ipython-input-3-207133ead15d>:13: RuntimeWarning: This filename (D:\\PhD\\PDM_data\\eeg_outside-MRT\\sub-017\\sourcedata-eeg_outside-MRT\\eeg\\sub-017_prerprocessed.fif) does not conform to MNE naming conventions. All epochs files should end with -epo.fif, -epo.fif.gz, _epo.fif or _epo.fif.gz\n",
      "  epochs = mne.read_epochs(examples_dir + \"\\\\\"+ i + \"_prerprocessed.fif\");\n"
     ]
    },
    {
     "name": "stdout",
     "output_type": "stream",
     "text": [
      "Not setting metadata\n",
      "Not setting metadata\n",
      "251 matching events found\n",
      "Applying baseline correction (mode: mean)\n",
      "Created an SSP operator (subspace dimension = 1)\n",
      "1 projection items activated\n"
     ]
    }
   ],
   "source": [
    "#leading preprocessed eeg\n",
    "list_subj = ['sub-001', 'sub-003', 'sub-004', 'sub-005', 'sub-006', 'sub-008', 'sub-009',\n",
    "             'sub-010', 'sub-012', 'sub-013', 'sub-014', 'sub-015', 'sub-016', 'sub-017']\n",
    "\n",
    "# define evoked for each condition\n",
    "# 437 points for 1700 ms\n",
    "evoked_74 = np.zeros((14,62,437))\n",
    "evoked_75 = np.zeros((14,62,437))\n",
    "evoked_76 = np.zeros((14,62,437))\n",
    "idx =  0\n",
    "for i in list_subj:\n",
    "    examples_dir = \"PDM_data\\\\\"+i+\"\\\\sourcedata-eeg_outside-MRT\\\\eeg\";\n",
    "    epochs = mne.read_epochs(examples_dir + \"\\\\\"+ i + \"_prerprocessed.fif\");\n",
    "    epochs.info['bads'] = []\n",
    "    #resample epochs.resample(128)\n",
    "    evoked_74[idx] = epochs['74'].average().data\n",
    "    evoked_75[idx] = epochs['75'].average().data\n",
    "    evoked_76[idx] = epochs['76'].average().data\n",
    "    \n",
    "    idx = idx + 1"
   ]
  },
  {
   "cell_type": "markdown",
   "metadata": {},
   "source": [
    "## topology map power"
   ]
  },
  {
   "cell_type": "code",
   "execution_count": 120,
   "metadata": {},
   "outputs": [],
   "source": [
    "#define frequencies of interest\n",
    "freqs = np.arange(4, 30, 1)  \n",
    "#n_cycles =freqs/2\n",
    "n_cycles =np.arange(3, 16, 0.5)\n",
    "n_freqs = len(freqs)"
   ]
  },
  {
   "cell_type": "code",
   "execution_count": 148,
   "metadata": {
    "scrolled": true
   },
   "outputs": [
    {
     "name": "stdout",
     "output_type": "stream",
     "text": [
      "Reading D:\\PhD\\PDM_data\\eeg_outside-MRT\\sub-001\\sourcedata-eeg_outside-MRT\\eeg\\sub-001_prerprocessed.fif ...\n",
      "    Read a total of 1 projection items:\n",
      "        Average EEG reference (1 x 62) active\n",
      "    Found the data of interest:\n",
      "        t =    -101.56 ...    1601.56 ms\n",
      "        0 CTF compensation matrices available\n"
     ]
    },
    {
     "name": "stderr",
     "output_type": "stream",
     "text": [
      "<ipython-input-148-cf799d4369f9>:13: RuntimeWarning: This filename (D:\\PhD\\PDM_data\\eeg_outside-MRT\\sub-001\\sourcedata-eeg_outside-MRT\\eeg\\sub-001_prerprocessed.fif) does not conform to MNE naming conventions. All epochs files should end with -epo.fif, -epo.fif.gz, _epo.fif or _epo.fif.gz\n",
      "  epochs = mne.read_epochs(examples_dir + \"\\\\\"+ i + \"_prerprocessed.fif\");\n"
     ]
    },
    {
     "name": "stdout",
     "output_type": "stream",
     "text": [
      "Not setting metadata\n",
      "Not setting metadata\n",
      "275 matching events found\n",
      "Applying baseline correction (mode: mean)\n",
      "Created an SSP operator (subspace dimension = 1)\n",
      "1 projection items activated\n",
      "Not setting metadata\n",
      "Not setting metadata\n",
      "Not setting metadata\n",
      "Reading D:\\PhD\\PDM_data\\eeg_outside-MRT\\sub-003\\sourcedata-eeg_outside-MRT\\eeg\\sub-003_prerprocessed.fif ...\n",
      "    Read a total of 1 projection items:\n",
      "        Average EEG reference (1 x 62) active\n",
      "    Found the data of interest:\n",
      "        t =    -101.56 ...    1601.56 ms\n",
      "        0 CTF compensation matrices available\n"
     ]
    },
    {
     "name": "stderr",
     "output_type": "stream",
     "text": [
      "<ipython-input-148-cf799d4369f9>:13: RuntimeWarning: This filename (D:\\PhD\\PDM_data\\eeg_outside-MRT\\sub-003\\sourcedata-eeg_outside-MRT\\eeg\\sub-003_prerprocessed.fif) does not conform to MNE naming conventions. All epochs files should end with -epo.fif, -epo.fif.gz, _epo.fif or _epo.fif.gz\n",
      "  epochs = mne.read_epochs(examples_dir + \"\\\\\"+ i + \"_prerprocessed.fif\");\n"
     ]
    },
    {
     "name": "stdout",
     "output_type": "stream",
     "text": [
      "Not setting metadata\n",
      "Not setting metadata\n",
      "280 matching events found\n",
      "Applying baseline correction (mode: mean)\n",
      "Created an SSP operator (subspace dimension = 1)\n",
      "1 projection items activated\n",
      "Not setting metadata\n",
      "Not setting metadata\n",
      "Not setting metadata\n",
      "Reading D:\\PhD\\PDM_data\\eeg_outside-MRT\\sub-004\\sourcedata-eeg_outside-MRT\\eeg\\sub-004_prerprocessed.fif ...\n",
      "    Read a total of 1 projection items:\n",
      "        Average EEG reference (1 x 62) active\n",
      "    Found the data of interest:\n",
      "        t =    -101.56 ...    1601.56 ms\n",
      "        0 CTF compensation matrices available\n"
     ]
    },
    {
     "name": "stderr",
     "output_type": "stream",
     "text": [
      "<ipython-input-148-cf799d4369f9>:13: RuntimeWarning: This filename (D:\\PhD\\PDM_data\\eeg_outside-MRT\\sub-004\\sourcedata-eeg_outside-MRT\\eeg\\sub-004_prerprocessed.fif) does not conform to MNE naming conventions. All epochs files should end with -epo.fif, -epo.fif.gz, _epo.fif or _epo.fif.gz\n",
      "  epochs = mne.read_epochs(examples_dir + \"\\\\\"+ i + \"_prerprocessed.fif\");\n"
     ]
    },
    {
     "name": "stdout",
     "output_type": "stream",
     "text": [
      "Not setting metadata\n",
      "Not setting metadata\n",
      "261 matching events found\n",
      "Applying baseline correction (mode: mean)\n",
      "Created an SSP operator (subspace dimension = 1)\n",
      "1 projection items activated\n",
      "Not setting metadata\n",
      "Not setting metadata\n",
      "Not setting metadata\n",
      "Reading D:\\PhD\\PDM_data\\eeg_outside-MRT\\sub-005\\sourcedata-eeg_outside-MRT\\eeg\\sub-005_prerprocessed.fif ...\n",
      "    Read a total of 1 projection items:\n",
      "        Average EEG reference (1 x 62) active\n",
      "    Found the data of interest:\n",
      "        t =    -101.56 ...    1601.56 ms\n",
      "        0 CTF compensation matrices available\n",
      "Not setting metadata\n"
     ]
    },
    {
     "name": "stderr",
     "output_type": "stream",
     "text": [
      "<ipython-input-148-cf799d4369f9>:13: RuntimeWarning: This filename (D:\\PhD\\PDM_data\\eeg_outside-MRT\\sub-005\\sourcedata-eeg_outside-MRT\\eeg\\sub-005_prerprocessed.fif) does not conform to MNE naming conventions. All epochs files should end with -epo.fif, -epo.fif.gz, _epo.fif or _epo.fif.gz\n",
      "  epochs = mne.read_epochs(examples_dir + \"\\\\\"+ i + \"_prerprocessed.fif\");\n"
     ]
    },
    {
     "name": "stdout",
     "output_type": "stream",
     "text": [
      "Not setting metadata\n",
      "237 matching events found\n",
      "Applying baseline correction (mode: mean)\n",
      "Created an SSP operator (subspace dimension = 1)\n",
      "1 projection items activated\n",
      "Not setting metadata\n",
      "Not setting metadata\n",
      "Not setting metadata\n",
      "Reading D:\\PhD\\PDM_data\\eeg_outside-MRT\\sub-006\\sourcedata-eeg_outside-MRT\\eeg\\sub-006_prerprocessed.fif ...\n",
      "    Read a total of 1 projection items:\n",
      "        Average EEG reference (1 x 62) active\n",
      "    Found the data of interest:\n",
      "        t =    -101.56 ...    1601.56 ms\n",
      "        0 CTF compensation matrices available\n"
     ]
    },
    {
     "name": "stderr",
     "output_type": "stream",
     "text": [
      "<ipython-input-148-cf799d4369f9>:13: RuntimeWarning: This filename (D:\\PhD\\PDM_data\\eeg_outside-MRT\\sub-006\\sourcedata-eeg_outside-MRT\\eeg\\sub-006_prerprocessed.fif) does not conform to MNE naming conventions. All epochs files should end with -epo.fif, -epo.fif.gz, _epo.fif or _epo.fif.gz\n",
      "  epochs = mne.read_epochs(examples_dir + \"\\\\\"+ i + \"_prerprocessed.fif\");\n"
     ]
    },
    {
     "name": "stdout",
     "output_type": "stream",
     "text": [
      "Not setting metadata\n",
      "Not setting metadata\n",
      "271 matching events found\n",
      "Applying baseline correction (mode: mean)\n",
      "Created an SSP operator (subspace dimension = 1)\n",
      "1 projection items activated\n",
      "Not setting metadata\n",
      "Not setting metadata\n",
      "Not setting metadata\n",
      "Reading D:\\PhD\\PDM_data\\eeg_outside-MRT\\sub-008\\sourcedata-eeg_outside-MRT\\eeg\\sub-008_prerprocessed.fif ...\n",
      "    Read a total of 1 projection items:\n",
      "        Average EEG reference (1 x 62) active\n",
      "    Found the data of interest:\n",
      "        t =    -101.56 ...    1601.56 ms\n",
      "        0 CTF compensation matrices available\n"
     ]
    },
    {
     "name": "stderr",
     "output_type": "stream",
     "text": [
      "<ipython-input-148-cf799d4369f9>:13: RuntimeWarning: This filename (D:\\PhD\\PDM_data\\eeg_outside-MRT\\sub-008\\sourcedata-eeg_outside-MRT\\eeg\\sub-008_prerprocessed.fif) does not conform to MNE naming conventions. All epochs files should end with -epo.fif, -epo.fif.gz, _epo.fif or _epo.fif.gz\n",
      "  epochs = mne.read_epochs(examples_dir + \"\\\\\"+ i + \"_prerprocessed.fif\");\n"
     ]
    },
    {
     "name": "stdout",
     "output_type": "stream",
     "text": [
      "Not setting metadata\n",
      "Not setting metadata\n",
      "273 matching events found\n",
      "Applying baseline correction (mode: mean)\n",
      "Created an SSP operator (subspace dimension = 1)\n",
      "1 projection items activated\n",
      "Not setting metadata\n",
      "Not setting metadata\n",
      "Not setting metadata\n",
      "Reading D:\\PhD\\PDM_data\\eeg_outside-MRT\\sub-009\\sourcedata-eeg_outside-MRT\\eeg\\sub-009_prerprocessed.fif ...\n",
      "    Read a total of 1 projection items:\n",
      "        Average EEG reference (1 x 62) active\n",
      "    Found the data of interest:\n",
      "        t =    -101.56 ...    1601.56 ms\n",
      "        0 CTF compensation matrices available\n",
      "Not setting metadata\n",
      "Not setting metadata\n",
      "251 matching events found\n",
      "Applying baseline correction (mode: mean)\n"
     ]
    },
    {
     "name": "stderr",
     "output_type": "stream",
     "text": [
      "<ipython-input-148-cf799d4369f9>:13: RuntimeWarning: This filename (D:\\PhD\\PDM_data\\eeg_outside-MRT\\sub-009\\sourcedata-eeg_outside-MRT\\eeg\\sub-009_prerprocessed.fif) does not conform to MNE naming conventions. All epochs files should end with -epo.fif, -epo.fif.gz, _epo.fif or _epo.fif.gz\n",
      "  epochs = mne.read_epochs(examples_dir + \"\\\\\"+ i + \"_prerprocessed.fif\");\n"
     ]
    },
    {
     "name": "stdout",
     "output_type": "stream",
     "text": [
      "Created an SSP operator (subspace dimension = 1)\n",
      "1 projection items activated\n",
      "Not setting metadata\n",
      "Not setting metadata\n",
      "Not setting metadata\n",
      "Reading D:\\PhD\\PDM_data\\eeg_outside-MRT\\sub-010\\sourcedata-eeg_outside-MRT\\eeg\\sub-010_prerprocessed.fif ...\n",
      "    Read a total of 1 projection items:\n",
      "        Average EEG reference (1 x 62) active\n",
      "    Found the data of interest:\n",
      "        t =    -101.56 ...    1601.56 ms\n",
      "        0 CTF compensation matrices available\n"
     ]
    },
    {
     "name": "stderr",
     "output_type": "stream",
     "text": [
      "<ipython-input-148-cf799d4369f9>:13: RuntimeWarning: This filename (D:\\PhD\\PDM_data\\eeg_outside-MRT\\sub-010\\sourcedata-eeg_outside-MRT\\eeg\\sub-010_prerprocessed.fif) does not conform to MNE naming conventions. All epochs files should end with -epo.fif, -epo.fif.gz, _epo.fif or _epo.fif.gz\n",
      "  epochs = mne.read_epochs(examples_dir + \"\\\\\"+ i + \"_prerprocessed.fif\");\n"
     ]
    },
    {
     "name": "stdout",
     "output_type": "stream",
     "text": [
      "Not setting metadata\n",
      "Not setting metadata\n",
      "275 matching events found\n",
      "Applying baseline correction (mode: mean)\n",
      "Created an SSP operator (subspace dimension = 1)\n",
      "1 projection items activated\n",
      "Not setting metadata\n",
      "Not setting metadata\n",
      "Not setting metadata\n",
      "Reading D:\\PhD\\PDM_data\\eeg_outside-MRT\\sub-012\\sourcedata-eeg_outside-MRT\\eeg\\sub-012_prerprocessed.fif ...\n",
      "    Read a total of 1 projection items:\n",
      "        Average EEG reference (1 x 62) active\n",
      "    Found the data of interest:\n",
      "        t =    -101.56 ...    1601.56 ms\n",
      "        0 CTF compensation matrices available\n"
     ]
    },
    {
     "name": "stderr",
     "output_type": "stream",
     "text": [
      "<ipython-input-148-cf799d4369f9>:13: RuntimeWarning: This filename (D:\\PhD\\PDM_data\\eeg_outside-MRT\\sub-012\\sourcedata-eeg_outside-MRT\\eeg\\sub-012_prerprocessed.fif) does not conform to MNE naming conventions. All epochs files should end with -epo.fif, -epo.fif.gz, _epo.fif or _epo.fif.gz\n",
      "  epochs = mne.read_epochs(examples_dir + \"\\\\\"+ i + \"_prerprocessed.fif\");\n"
     ]
    },
    {
     "name": "stdout",
     "output_type": "stream",
     "text": [
      "Not setting metadata\n",
      "Not setting metadata\n",
      "273 matching events found\n",
      "Applying baseline correction (mode: mean)\n",
      "Created an SSP operator (subspace dimension = 1)\n",
      "1 projection items activated\n",
      "Not setting metadata\n",
      "Not setting metadata\n",
      "Not setting metadata\n",
      "Reading D:\\PhD\\PDM_data\\eeg_outside-MRT\\sub-013\\sourcedata-eeg_outside-MRT\\eeg\\sub-013_prerprocessed.fif ...\n",
      "    Read a total of 1 projection items:\n",
      "        Average EEG reference (1 x 62) active\n",
      "    Found the data of interest:\n",
      "        t =    -101.56 ...    1601.56 ms\n",
      "        0 CTF compensation matrices available\n",
      "Not setting metadata\n"
     ]
    },
    {
     "name": "stderr",
     "output_type": "stream",
     "text": [
      "<ipython-input-148-cf799d4369f9>:13: RuntimeWarning: This filename (D:\\PhD\\PDM_data\\eeg_outside-MRT\\sub-013\\sourcedata-eeg_outside-MRT\\eeg\\sub-013_prerprocessed.fif) does not conform to MNE naming conventions. All epochs files should end with -epo.fif, -epo.fif.gz, _epo.fif or _epo.fif.gz\n",
      "  epochs = mne.read_epochs(examples_dir + \"\\\\\"+ i + \"_prerprocessed.fif\");\n"
     ]
    },
    {
     "name": "stdout",
     "output_type": "stream",
     "text": [
      "Not setting metadata\n",
      "244 matching events found\n",
      "Applying baseline correction (mode: mean)\n",
      "Created an SSP operator (subspace dimension = 1)\n",
      "1 projection items activated\n",
      "Not setting metadata\n",
      "Not setting metadata\n",
      "Not setting metadata\n",
      "Reading D:\\PhD\\PDM_data\\eeg_outside-MRT\\sub-014\\sourcedata-eeg_outside-MRT\\eeg\\sub-014_prerprocessed.fif ...\n",
      "    Read a total of 1 projection items:\n",
      "        Average EEG reference (1 x 62) active\n",
      "    Found the data of interest:\n",
      "        t =    -101.56 ...    1601.56 ms\n",
      "        0 CTF compensation matrices available\n"
     ]
    },
    {
     "name": "stderr",
     "output_type": "stream",
     "text": [
      "<ipython-input-148-cf799d4369f9>:13: RuntimeWarning: This filename (D:\\PhD\\PDM_data\\eeg_outside-MRT\\sub-014\\sourcedata-eeg_outside-MRT\\eeg\\sub-014_prerprocessed.fif) does not conform to MNE naming conventions. All epochs files should end with -epo.fif, -epo.fif.gz, _epo.fif or _epo.fif.gz\n",
      "  epochs = mne.read_epochs(examples_dir + \"\\\\\"+ i + \"_prerprocessed.fif\");\n"
     ]
    },
    {
     "name": "stdout",
     "output_type": "stream",
     "text": [
      "Not setting metadata\n",
      "Not setting metadata\n",
      "263 matching events found\n",
      "Applying baseline correction (mode: mean)\n",
      "Created an SSP operator (subspace dimension = 1)\n",
      "1 projection items activated\n",
      "Not setting metadata\n",
      "Not setting metadata\n",
      "Not setting metadata\n",
      "Reading D:\\PhD\\PDM_data\\eeg_outside-MRT\\sub-015\\sourcedata-eeg_outside-MRT\\eeg\\sub-015_prerprocessed.fif ...\n",
      "    Read a total of 1 projection items:\n",
      "        Average EEG reference (1 x 62) active\n",
      "    Found the data of interest:\n",
      "        t =    -101.56 ...    1601.56 ms\n",
      "        0 CTF compensation matrices available\n",
      "Not setting metadata\n"
     ]
    },
    {
     "name": "stderr",
     "output_type": "stream",
     "text": [
      "<ipython-input-148-cf799d4369f9>:13: RuntimeWarning: This filename (D:\\PhD\\PDM_data\\eeg_outside-MRT\\sub-015\\sourcedata-eeg_outside-MRT\\eeg\\sub-015_prerprocessed.fif) does not conform to MNE naming conventions. All epochs files should end with -epo.fif, -epo.fif.gz, _epo.fif or _epo.fif.gz\n",
      "  epochs = mne.read_epochs(examples_dir + \"\\\\\"+ i + \"_prerprocessed.fif\");\n"
     ]
    },
    {
     "name": "stdout",
     "output_type": "stream",
     "text": [
      "Not setting metadata\n",
      "257 matching events found\n",
      "Applying baseline correction (mode: mean)\n",
      "Created an SSP operator (subspace dimension = 1)\n",
      "1 projection items activated\n",
      "Not setting metadata\n",
      "Not setting metadata\n",
      "Not setting metadata\n",
      "Reading D:\\PhD\\PDM_data\\eeg_outside-MRT\\sub-016\\sourcedata-eeg_outside-MRT\\eeg\\sub-016_prerprocessed.fif ...\n",
      "    Read a total of 1 projection items:\n",
      "        Average EEG reference (1 x 62) active\n",
      "    Found the data of interest:\n",
      "        t =    -101.56 ...    1601.56 ms\n",
      "        0 CTF compensation matrices available\n",
      "Not setting metadata\n",
      "Not setting metadata\n",
      "245 matching events found\n",
      "Applying baseline correction (mode: mean)\n",
      "Created an SSP operator (subspace dimension = 1)\n",
      "1 projection items activated\n"
     ]
    },
    {
     "name": "stderr",
     "output_type": "stream",
     "text": [
      "<ipython-input-148-cf799d4369f9>:13: RuntimeWarning: This filename (D:\\PhD\\PDM_data\\eeg_outside-MRT\\sub-016\\sourcedata-eeg_outside-MRT\\eeg\\sub-016_prerprocessed.fif) does not conform to MNE naming conventions. All epochs files should end with -epo.fif, -epo.fif.gz, _epo.fif or _epo.fif.gz\n",
      "  epochs = mne.read_epochs(examples_dir + \"\\\\\"+ i + \"_prerprocessed.fif\");\n"
     ]
    },
    {
     "name": "stdout",
     "output_type": "stream",
     "text": [
      "Not setting metadata\n",
      "Not setting metadata\n",
      "Not setting metadata\n",
      "Reading D:\\PhD\\PDM_data\\eeg_outside-MRT\\sub-017\\sourcedata-eeg_outside-MRT\\eeg\\sub-017_prerprocessed.fif ...\n",
      "    Read a total of 1 projection items:\n",
      "        Average EEG reference (1 x 62) active\n",
      "    Found the data of interest:\n",
      "        t =    -101.56 ...    1601.56 ms\n",
      "        0 CTF compensation matrices available\n"
     ]
    },
    {
     "name": "stderr",
     "output_type": "stream",
     "text": [
      "<ipython-input-148-cf799d4369f9>:13: RuntimeWarning: This filename (D:\\PhD\\PDM_data\\eeg_outside-MRT\\sub-017\\sourcedata-eeg_outside-MRT\\eeg\\sub-017_prerprocessed.fif) does not conform to MNE naming conventions. All epochs files should end with -epo.fif, -epo.fif.gz, _epo.fif or _epo.fif.gz\n",
      "  epochs = mne.read_epochs(examples_dir + \"\\\\\"+ i + \"_prerprocessed.fif\");\n"
     ]
    },
    {
     "name": "stdout",
     "output_type": "stream",
     "text": [
      "Not setting metadata\n",
      "Not setting metadata\n",
      "251 matching events found\n",
      "Applying baseline correction (mode: mean)\n",
      "Created an SSP operator (subspace dimension = 1)\n",
      "1 projection items activated\n",
      "Not setting metadata\n",
      "Not setting metadata\n",
      "Not setting metadata\n"
     ]
    }
   ],
   "source": [
    "list_subj = ['sub-001', 'sub-003', 'sub-004', 'sub-005', 'sub-006', 'sub-008', 'sub-009',\n",
    "             'sub-010', 'sub-012', 'sub-013', 'sub-014', 'sub-015', 'sub-016', 'sub-017']\n",
    "\n",
    "# define evoked for each condition\n",
    "# 437 points for 1700 ms\n",
    "vawelet_74 = np.zeros((14,62,n_freqs,437))\n",
    "vawelet_75 = np.zeros((14,62,n_freqs,437))\n",
    "vawelet_76 = np.zeros((14,62,n_freqs,437))\n",
    "\n",
    "idx =  0\n",
    "for i in list_subj:\n",
    "    examples_dir = \"PDM_data\\\\eeg_outside-MRT\\\\\"+i+\"\\\\sourcedata-eeg_outside-MRT\\\\eeg\";\n",
    "    epochs = mne.read_epochs(examples_dir + \"\\\\\"+ i + \"_prerprocessed.fif\");\n",
    "    #this code very important\n",
    "    epochs.info['bads'] = []\n",
    "\n",
    "    #define frequencies of interest\n",
    "    \n",
    "    #74\n",
    "    power = tfr_morlet(epochs['74'], freqs, n_cycles=n_cycles, average = False,\n",
    "                              return_itc=False)\n",
    "    power = power.average()\n",
    "    vawelet_74[idx] = power.data\n",
    "    \n",
    "    \n",
    "    #75\n",
    "    power = tfr_morlet(epochs['75'], freqs, n_cycles=n_cycles, average = False,\n",
    "                              return_itc=False)\n",
    "    power = power.average()\n",
    "    vawelet_75[idx] = power.data\n",
    "    \n",
    "    #76\n",
    "    power = tfr_morlet(epochs['76'], freqs, n_cycles=n_cycles, average = False,\n",
    "                              return_itc=False)\n",
    "    power = power.average()\n",
    "    vawelet_76[idx] = power.data\n",
    "    \n",
    "    \n",
    "    idx = idx + 1"
   ]
  },
  {
   "cell_type": "code",
   "execution_count": 211,
   "metadata": {},
   "outputs": [],
   "source": [
    "power_74 = vawelet_74.mean(axis=0)[:,4:9,:].mean(axis = 1)\n",
    "power_75 = vawelet_75.mean(axis=0)[:,4:9,:].mean(axis = 1)\n",
    "power_76 = vawelet_76.mean(axis=0)[:,4:9,:].mean(axis = 1)"
   ]
  },
  {
   "cell_type": "code",
   "execution_count": 212,
   "metadata": {},
   "outputs": [],
   "source": [
    "power_contra = np.zeros((62,437))\n",
    "power_neut   = np.zeros((62,437))\n",
    "power_ipsi   = np.zeros((62,437))"
   ]
  },
  {
   "cell_type": "code",
   "execution_count": 251,
   "metadata": {},
   "outputs": [],
   "source": [
    "#defining contralateral and neutral activity\n",
    "i =0\n",
    "for ch in epochs.info['ch_names']:\n",
    "    if 'z' in ch:\n",
    "        power_contra[i]  = np.array((power_74[i,:],power_75[i,:])).mean(axis = 0)\n",
    "        power_neut[i]    = power_76[i,:] \n",
    "        power_ipsi[i]  = np.array((power_74[i,:],power_75[i,:])).mean(axis = 0)\n",
    "    elif i%2==0:\n",
    "        power_contra[i]  = np.array((power_74[i+1,:],power_75[i,:])).mean(axis = 0)\n",
    "        power_neut[i]    = np.array((power_76[i,:],power_76[i+1,:])).mean(axis = 0)\n",
    "        power_ipsi[i]  = np.array((power_74[i,:],power_75[i+1,:])).mean(axis = 0)\n",
    "    elif i%2!=0:\n",
    "        power_contra[i]  = np.array((power_74[i,:],power_75[i-1,:])).mean(axis = 0)\n",
    "        power_neut[i]    = np.array((power_76[i,:],power_76[i-1,:])).mean(axis = 0)\n",
    "        power_ipsi[i]  = np.array((power_74[i-1,:],power_75[i,:])).mean(axis = 0)\n",
    "    i+=1"
   ]
  },
  {
   "cell_type": "code",
   "execution_count": null,
   "metadata": {},
   "outputs": [],
   "source": [
    "#the difference on time window\n",
    "topo_power_contra = (power_contra-power_neut)[:,342:368].mean(axis=1).reshape(62,1)"
   ]
  },
  {
   "cell_type": "code",
   "execution_count": 199,
   "metadata": {},
   "outputs": [],
   "source": [
    "#the difference on time window\n",
    "topo_power_ipsi = (power_ipsi-power_neut)[:,321:347].mean(axis=1).reshape(62,1)"
   ]
  },
  {
   "cell_type": "code",
   "execution_count": 266,
   "metadata": {},
   "outputs": [
    {
     "data": {
      "image/png": "[encoded data removed]",
      "text/plain": [
       "<Figure size 300x195 with 2 Axes>"
      ]
     },
     "execution_count": 266,
     "metadata": {},
     "output_type": "execute_result"
    }
   ],
   "source": [
    "%matplotlib qt\n",
    "evoked_topo_power_contra=mne.EvokedArray(100000*topo_power_contra, epochs.info)\n",
    "evoked_topo_power_contra.plot_topomap(0)"
   ]
  },
  {
   "cell_type": "code",
   "execution_count": 271,
   "metadata": {},
   "outputs": [
    {
     "data": {
      "image/png": "[encoded data removed]",
      "text/plain": [
       "<Figure size 300x195 with 2 Axes>"
      ]
     },
     "execution_count": 271,
     "metadata": {},
     "output_type": "execute_result"
    }
   ],
   "source": [
    "mne.EvokedArray(100000*topo_power_ipsi, epochs.info).plot_topomap(0)"
   ]
  },
  {
   "cell_type": "code",
   "execution_count": null,
   "metadata": {},
   "outputs": [],
   "source": []
  },
  {
   "cell_type": "code",
   "execution_count": null,
   "metadata": {},
   "outputs": [],
   "source": []
  }
 ],
 "metadata": {
  "kernelspec": {
   "display_name": "Python 3",
   "language": "python",
   "name": "python3"
  },
  "language_info": {
   "codemirror_mode": {
    "name": "ipython",
    "version": 3
   },
   "file_extension": ".py",
   "mimetype": "text/x-python",
   "name": "python",
   "nbconvert_exporter": "python",
   "pygments_lexer": "ipython3",
   "version": "3.7.4"
  }
 },
 "nbformat": 4,
 "nbformat_minor": 2
}
