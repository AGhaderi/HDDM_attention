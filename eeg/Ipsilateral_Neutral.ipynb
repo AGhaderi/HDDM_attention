{
 "cells": [
  {
   "cell_type": "code",
   "execution_count": 2,
   "metadata": {},
   "outputs": [
    {
     "name": "stderr",
     "output_type": "stream",
     "text": [
      "C:\\Users\\amin\\Anaconda3\\lib\\site-packages\\statsmodels\\tools\\_testing.py:19: FutureWarning: pandas.util.testing is deprecated. Use the functions in the public API at pandas.testing instead.\n",
      "  import pandas.util.testing as tm\n"
     ]
    }
   ],
   "source": [
    "%matplotlib qt\n",
    "#inline\n",
    "import os\n",
    "import os.path as op\n",
    "import mne\n",
    "import numpy as np\n",
    "import pandas as pd\n",
    "from time import time\n",
    "import matplotlib.pyplot as plt\n",
    "from mne.time_frequency import (tfr_multitaper, tfr_stockwell, tfr_morlet,\n",
    "                                tfr_array_morlet)\n",
    "from mne.stats import f_threshold_mway_rm, f_mway_rm, fdr_correction,bonferroni_correction\n",
    "from mne.channels import find_ch_adjacency\n",
    "from mne.stats import spatio_temporal_cluster_test, permutation_t_test\n",
    "import scipy.stats as stats\n",
    "import statsmodels.api as sm\n",
    "import seaborn as sns"
   ]
  },
  {
   "cell_type": "code",
   "execution_count": 4,
   "metadata": {
    "scrolled": true
   },
   "outputs": [
    {
     "name": "stderr",
     "output_type": "stream",
     "text": [
      "<ipython-input-4-207133ead15d>:13: RuntimeWarning: This filename (D:\\PhD\\PDM_data\\eeg_outside-MRT\\sub-001\\sourcedata-eeg_outside-MRT\\eeg\\sub-001_prerprocessed.fif) does not conform to MNE naming conventions. All epochs files should end with -epo.fif, -epo.fif.gz, _epo.fif or _epo.fif.gz\n",
      "  epochs = mne.read_epochs(examples_dir + \"\\\\\"+ i + \"_prerprocessed.fif\");\n"
     ]
    },
    {
     "name": "stdout",
     "output_type": "stream",
     "text": [
      "Reading D:\\PhD\\PDM_data\\eeg_outside-MRT\\sub-001\\sourcedata-eeg_outside-MRT\\eeg\\sub-001_prerprocessed.fif ...\n",
      "    Read a total of 1 projection items:\n",
      "        Average EEG reference (1 x 62) active\n",
      "    Found the data of interest:\n",
      "        t =    -101.56 ...    1601.56 ms\n",
      "        0 CTF compensation matrices available\n",
      "Not setting metadata\n",
      "Not setting metadata\n",
      "275 matching events found\n",
      "Applying baseline correction (mode: mean)\n",
      "Created an SSP operator (subspace dimension = 1)\n",
      "1 projection items activated\n",
      "Reading D:\\PhD\\PDM_data\\eeg_outside-MRT\\sub-003\\sourcedata-eeg_outside-MRT\\eeg\\sub-003_prerprocessed.fif ...\n",
      "    Read a total of 1 projection items:\n",
      "        Average EEG reference (1 x 62) active\n"
     ]
    },
    {
     "name": "stderr",
     "output_type": "stream",
     "text": [
      "<ipython-input-4-207133ead15d>:13: RuntimeWarning: This filename (D:\\PhD\\PDM_data\\eeg_outside-MRT\\sub-003\\sourcedata-eeg_outside-MRT\\eeg\\sub-003_prerprocessed.fif) does not conform to MNE naming conventions. All epochs files should end with -epo.fif, -epo.fif.gz, _epo.fif or _epo.fif.gz\n",
      "  epochs = mne.read_epochs(examples_dir + \"\\\\\"+ i + \"_prerprocessed.fif\");\n"
     ]
    },
    {
     "name": "stdout",
     "output_type": "stream",
     "text": [
      "    Found the data of interest:\n",
      "        t =    -101.56 ...    1601.56 ms\n",
      "        0 CTF compensation matrices available\n",
      "Not setting metadata\n",
      "Not setting metadata\n",
      "280 matching events found\n",
      "Applying baseline correction (mode: mean)\n",
      "Created an SSP operator (subspace dimension = 1)\n",
      "1 projection items activated\n",
      "Reading D:\\PhD\\PDM_data\\eeg_outside-MRT\\sub-004\\sourcedata-eeg_outside-MRT\\eeg\\sub-004_prerprocessed.fif ...\n",
      "    Read a total of 1 projection items:\n",
      "        Average EEG reference (1 x 62) active\n",
      "    Found the data of interest:\n",
      "        t =    -101.56 ...    1601.56 ms\n",
      "        0 CTF compensation matrices available\n"
     ]
    },
    {
     "name": "stderr",
     "output_type": "stream",
     "text": [
      "<ipython-input-4-207133ead15d>:13: RuntimeWarning: This filename (D:\\PhD\\PDM_data\\eeg_outside-MRT\\sub-004\\sourcedata-eeg_outside-MRT\\eeg\\sub-004_prerprocessed.fif) does not conform to MNE naming conventions. All epochs files should end with -epo.fif, -epo.fif.gz, _epo.fif or _epo.fif.gz\n",
      "  epochs = mne.read_epochs(examples_dir + \"\\\\\"+ i + \"_prerprocessed.fif\");\n"
     ]
    },
    {
     "name": "stdout",
     "output_type": "stream",
     "text": [
      "Not setting metadata\n",
      "Not setting metadata\n",
      "261 matching events found\n",
      "Applying baseline correction (mode: mean)\n",
      "Created an SSP operator (subspace dimension = 1)\n",
      "1 projection items activated\n",
      "Reading D:\\PhD\\PDM_data\\eeg_outside-MRT\\sub-005\\sourcedata-eeg_outside-MRT\\eeg\\sub-005_prerprocessed.fif ...\n",
      "    Read a total of 1 projection items:\n",
      "        Average EEG reference (1 x 62) active\n",
      "    Found the data of interest:\n",
      "        t =    -101.56 ...    1601.56 ms\n",
      "        0 CTF compensation matrices available\n",
      "Not setting metadata\n",
      "Not setting metadata\n",
      "237 matching events found\n",
      "Applying baseline correction (mode: mean)\n",
      "Created an SSP operator (subspace dimension = 1)\n"
     ]
    },
    {
     "name": "stderr",
     "output_type": "stream",
     "text": [
      "<ipython-input-4-207133ead15d>:13: RuntimeWarning: This filename (D:\\PhD\\PDM_data\\eeg_outside-MRT\\sub-005\\sourcedata-eeg_outside-MRT\\eeg\\sub-005_prerprocessed.fif) does not conform to MNE naming conventions. All epochs files should end with -epo.fif, -epo.fif.gz, _epo.fif or _epo.fif.gz\n",
      "  epochs = mne.read_epochs(examples_dir + \"\\\\\"+ i + \"_prerprocessed.fif\");\n"
     ]
    },
    {
     "name": "stdout",
     "output_type": "stream",
     "text": [
      "1 projection items activated\n",
      "Reading D:\\PhD\\PDM_data\\eeg_outside-MRT\\sub-006\\sourcedata-eeg_outside-MRT\\eeg\\sub-006_prerprocessed.fif ...\n",
      "    Read a total of 1 projection items:\n",
      "        Average EEG reference (1 x 62) active\n",
      "    Found the data of interest:\n",
      "        t =    -101.56 ...    1601.56 ms\n",
      "        0 CTF compensation matrices available\n",
      "Not setting metadata\n",
      "Not setting metadata\n",
      "271 matching events found\n",
      "Applying baseline correction (mode: mean)\n",
      "Created an SSP operator (subspace dimension = 1)\n",
      "1 projection items activated\n"
     ]
    },
    {
     "name": "stderr",
     "output_type": "stream",
     "text": [
      "<ipython-input-4-207133ead15d>:13: RuntimeWarning: This filename (D:\\PhD\\PDM_data\\eeg_outside-MRT\\sub-006\\sourcedata-eeg_outside-MRT\\eeg\\sub-006_prerprocessed.fif) does not conform to MNE naming conventions. All epochs files should end with -epo.fif, -epo.fif.gz, _epo.fif or _epo.fif.gz\n",
      "  epochs = mne.read_epochs(examples_dir + \"\\\\\"+ i + \"_prerprocessed.fif\");\n"
     ]
    },
    {
     "name": "stdout",
     "output_type": "stream",
     "text": [
      "Reading D:\\PhD\\PDM_data\\eeg_outside-MRT\\sub-008\\sourcedata-eeg_outside-MRT\\eeg\\sub-008_prerprocessed.fif ...\n",
      "    Read a total of 1 projection items:\n",
      "        Average EEG reference (1 x 62) active\n",
      "    Found the data of interest:\n",
      "        t =    -101.56 ...    1601.56 ms\n",
      "        0 CTF compensation matrices available\n",
      "Not setting metadata\n",
      "Not setting metadata\n",
      "273 matching events found\n",
      "Applying baseline correction (mode: mean)\n",
      "Created an SSP operator (subspace dimension = 1)\n",
      "1 projection items activated\n"
     ]
    },
    {
     "name": "stderr",
     "output_type": "stream",
     "text": [
      "<ipython-input-4-207133ead15d>:13: RuntimeWarning: This filename (D:\\PhD\\PDM_data\\eeg_outside-MRT\\sub-008\\sourcedata-eeg_outside-MRT\\eeg\\sub-008_prerprocessed.fif) does not conform to MNE naming conventions. All epochs files should end with -epo.fif, -epo.fif.gz, _epo.fif or _epo.fif.gz\n",
      "  epochs = mne.read_epochs(examples_dir + \"\\\\\"+ i + \"_prerprocessed.fif\");\n"
     ]
    },
    {
     "name": "stdout",
     "output_type": "stream",
     "text": [
      "Reading D:\\PhD\\PDM_data\\eeg_outside-MRT\\sub-009\\sourcedata-eeg_outside-MRT\\eeg\\sub-009_prerprocessed.fif ...\n",
      "    Read a total of 1 projection items:\n",
      "        Average EEG reference (1 x 62) active\n",
      "    Found the data of interest:\n",
      "        t =    -101.56 ...    1601.56 ms\n",
      "        0 CTF compensation matrices available\n",
      "Not setting metadata\n",
      "Not setting metadata\n",
      "251 matching events found\n",
      "Applying baseline correction (mode: mean)\n",
      "Created an SSP operator (subspace dimension = 1)\n",
      "1 projection items activated\n"
     ]
    },
    {
     "name": "stderr",
     "output_type": "stream",
     "text": [
      "<ipython-input-4-207133ead15d>:13: RuntimeWarning: This filename (D:\\PhD\\PDM_data\\eeg_outside-MRT\\sub-009\\sourcedata-eeg_outside-MRT\\eeg\\sub-009_prerprocessed.fif) does not conform to MNE naming conventions. All epochs files should end with -epo.fif, -epo.fif.gz, _epo.fif or _epo.fif.gz\n",
      "  epochs = mne.read_epochs(examples_dir + \"\\\\\"+ i + \"_prerprocessed.fif\");\n"
     ]
    },
    {
     "name": "stdout",
     "output_type": "stream",
     "text": [
      "Reading D:\\PhD\\PDM_data\\eeg_outside-MRT\\sub-010\\sourcedata-eeg_outside-MRT\\eeg\\sub-010_prerprocessed.fif ...\n",
      "    Read a total of 1 projection items:\n",
      "        Average EEG reference (1 x 62) active\n",
      "    Found the data of interest:\n",
      "        t =    -101.56 ...    1601.56 ms\n",
      "        0 CTF compensation matrices available\n",
      "Not setting metadata\n",
      "Not setting metadata\n",
      "275 matching events found\n",
      "Applying baseline correction (mode: mean)\n"
     ]
    },
    {
     "name": "stderr",
     "output_type": "stream",
     "text": [
      "<ipython-input-4-207133ead15d>:13: RuntimeWarning: This filename (D:\\PhD\\PDM_data\\eeg_outside-MRT\\sub-010\\sourcedata-eeg_outside-MRT\\eeg\\sub-010_prerprocessed.fif) does not conform to MNE naming conventions. All epochs files should end with -epo.fif, -epo.fif.gz, _epo.fif or _epo.fif.gz\n",
      "  epochs = mne.read_epochs(examples_dir + \"\\\\\"+ i + \"_prerprocessed.fif\");\n"
     ]
    },
    {
     "name": "stdout",
     "output_type": "stream",
     "text": [
      "Created an SSP operator (subspace dimension = 1)\n",
      "1 projection items activated\n",
      "Reading D:\\PhD\\PDM_data\\eeg_outside-MRT\\sub-012\\sourcedata-eeg_outside-MRT\\eeg\\sub-012_prerprocessed.fif ...\n",
      "    Read a total of 1 projection items:\n",
      "        Average EEG reference (1 x 62) active\n",
      "    Found the data of interest:\n",
      "        t =    -101.56 ...    1601.56 ms\n",
      "        0 CTF compensation matrices available\n"
     ]
    },
    {
     "name": "stderr",
     "output_type": "stream",
     "text": [
      "<ipython-input-4-207133ead15d>:13: RuntimeWarning: This filename (D:\\PhD\\PDM_data\\eeg_outside-MRT\\sub-012\\sourcedata-eeg_outside-MRT\\eeg\\sub-012_prerprocessed.fif) does not conform to MNE naming conventions. All epochs files should end with -epo.fif, -epo.fif.gz, _epo.fif or _epo.fif.gz\n",
      "  epochs = mne.read_epochs(examples_dir + \"\\\\\"+ i + \"_prerprocessed.fif\");\n"
     ]
    },
    {
     "name": "stdout",
     "output_type": "stream",
     "text": [
      "Not setting metadata\n",
      "Not setting metadata\n",
      "273 matching events found\n",
      "Applying baseline correction (mode: mean)\n",
      "Created an SSP operator (subspace dimension = 1)\n",
      "1 projection items activated\n",
      "Reading D:\\PhD\\PDM_data\\eeg_outside-MRT\\sub-013\\sourcedata-eeg_outside-MRT\\eeg\\sub-013_prerprocessed.fif ...\n",
      "    Read a total of 1 projection items:\n",
      "        Average EEG reference (1 x 62) active\n",
      "    Found the data of interest:\n",
      "        t =    -101.56 ...    1601.56 ms\n",
      "        0 CTF compensation matrices available\n",
      "Not setting metadata\n",
      "Not setting metadata\n",
      "244 matching events found\n",
      "Applying baseline correction (mode: mean)\n",
      "Created an SSP operator (subspace dimension = 1)\n",
      "1 projection items activated\n"
     ]
    },
    {
     "name": "stderr",
     "output_type": "stream",
     "text": [
      "<ipython-input-4-207133ead15d>:13: RuntimeWarning: This filename (D:\\PhD\\PDM_data\\eeg_outside-MRT\\sub-013\\sourcedata-eeg_outside-MRT\\eeg\\sub-013_prerprocessed.fif) does not conform to MNE naming conventions. All epochs files should end with -epo.fif, -epo.fif.gz, _epo.fif or _epo.fif.gz\n",
      "  epochs = mne.read_epochs(examples_dir + \"\\\\\"+ i + \"_prerprocessed.fif\");\n"
     ]
    },
    {
     "name": "stdout",
     "output_type": "stream",
     "text": [
      "Reading D:\\PhD\\PDM_data\\eeg_outside-MRT\\sub-014\\sourcedata-eeg_outside-MRT\\eeg\\sub-014_prerprocessed.fif ...\n",
      "    Read a total of 1 projection items:\n",
      "        Average EEG reference (1 x 62) active\n",
      "    Found the data of interest:\n",
      "        t =    -101.56 ...    1601.56 ms\n",
      "        0 CTF compensation matrices available\n",
      "Not setting metadata\n"
     ]
    },
    {
     "name": "stderr",
     "output_type": "stream",
     "text": [
      "<ipython-input-4-207133ead15d>:13: RuntimeWarning: This filename (D:\\PhD\\PDM_data\\eeg_outside-MRT\\sub-014\\sourcedata-eeg_outside-MRT\\eeg\\sub-014_prerprocessed.fif) does not conform to MNE naming conventions. All epochs files should end with -epo.fif, -epo.fif.gz, _epo.fif or _epo.fif.gz\n",
      "  epochs = mne.read_epochs(examples_dir + \"\\\\\"+ i + \"_prerprocessed.fif\");\n"
     ]
    },
    {
     "name": "stdout",
     "output_type": "stream",
     "text": [
      "Not setting metadata\n",
      "263 matching events found\n",
      "Applying baseline correction (mode: mean)\n",
      "Created an SSP operator (subspace dimension = 1)\n",
      "1 projection items activated\n",
      "Reading D:\\PhD\\PDM_data\\eeg_outside-MRT\\sub-015\\sourcedata-eeg_outside-MRT\\eeg\\sub-015_prerprocessed.fif ...\n",
      "    Read a total of 1 projection items:\n",
      "        Average EEG reference (1 x 62) active\n",
      "    Found the data of interest:\n",
      "        t =    -101.56 ...    1601.56 ms\n",
      "        0 CTF compensation matrices available\n",
      "Not setting metadata\n",
      "Not setting metadata\n",
      "257 matching events found\n",
      "Applying baseline correction (mode: mean)\n",
      "Created an SSP operator (subspace dimension = 1)\n",
      "1 projection items activated\n"
     ]
    },
    {
     "name": "stderr",
     "output_type": "stream",
     "text": [
      "<ipython-input-4-207133ead15d>:13: RuntimeWarning: This filename (D:\\PhD\\PDM_data\\eeg_outside-MRT\\sub-015\\sourcedata-eeg_outside-MRT\\eeg\\sub-015_prerprocessed.fif) does not conform to MNE naming conventions. All epochs files should end with -epo.fif, -epo.fif.gz, _epo.fif or _epo.fif.gz\n",
      "  epochs = mne.read_epochs(examples_dir + \"\\\\\"+ i + \"_prerprocessed.fif\");\n"
     ]
    },
    {
     "name": "stdout",
     "output_type": "stream",
     "text": [
      "Reading D:\\PhD\\PDM_data\\eeg_outside-MRT\\sub-016\\sourcedata-eeg_outside-MRT\\eeg\\sub-016_prerprocessed.fif ...\n",
      "    Read a total of 1 projection items:\n",
      "        Average EEG reference (1 x 62) active\n",
      "    Found the data of interest:\n",
      "        t =    -101.56 ...    1601.56 ms\n",
      "        0 CTF compensation matrices available\n",
      "Not setting metadata\n",
      "Not setting metadata\n",
      "245 matching events found\n",
      "Applying baseline correction (mode: mean)\n",
      "Created an SSP operator (subspace dimension = 1)\n",
      "1 projection items activated\n"
     ]
    },
    {
     "name": "stderr",
     "output_type": "stream",
     "text": [
      "<ipython-input-4-207133ead15d>:13: RuntimeWarning: This filename (D:\\PhD\\PDM_data\\eeg_outside-MRT\\sub-016\\sourcedata-eeg_outside-MRT\\eeg\\sub-016_prerprocessed.fif) does not conform to MNE naming conventions. All epochs files should end with -epo.fif, -epo.fif.gz, _epo.fif or _epo.fif.gz\n",
      "  epochs = mne.read_epochs(examples_dir + \"\\\\\"+ i + \"_prerprocessed.fif\");\n"
     ]
    },
    {
     "name": "stdout",
     "output_type": "stream",
     "text": [
      "Reading D:\\PhD\\PDM_data\\eeg_outside-MRT\\sub-017\\sourcedata-eeg_outside-MRT\\eeg\\sub-017_prerprocessed.fif ...\n",
      "    Read a total of 1 projection items:\n",
      "        Average EEG reference (1 x 62) active\n",
      "    Found the data of interest:\n",
      "        t =    -101.56 ...    1601.56 ms\n",
      "        0 CTF compensation matrices available\n",
      "Not setting metadata\n",
      "Not setting metadata\n",
      "251 matching events found\n",
      "Applying baseline correction (mode: mean)\n"
     ]
    },
    {
     "name": "stderr",
     "output_type": "stream",
     "text": [
      "<ipython-input-4-207133ead15d>:13: RuntimeWarning: This filename (D:\\PhD\\PDM_data\\eeg_outside-MRT\\sub-017\\sourcedata-eeg_outside-MRT\\eeg\\sub-017_prerprocessed.fif) does not conform to MNE naming conventions. All epochs files should end with -epo.fif, -epo.fif.gz, _epo.fif or _epo.fif.gz\n",
      "  epochs = mne.read_epochs(examples_dir + \"\\\\\"+ i + \"_prerprocessed.fif\");\n"
     ]
    },
    {
     "name": "stdout",
     "output_type": "stream",
     "text": [
      "Created an SSP operator (subspace dimension = 1)\n",
      "1 projection items activated\n"
     ]
    }
   ],
   "source": [
    "#leading preprocessed eeg\n",
    "list_subj = ['sub-001', 'sub-003', 'sub-004', 'sub-005', 'sub-006', 'sub-008', 'sub-009',\n",
    "             'sub-010', 'sub-012', 'sub-013', 'sub-014', 'sub-015', 'sub-016', 'sub-017']\n",
    "\n",
    "# define evoked for each condition\n",
    "# 437 points for 1700 ms\n",
    "evoked_74 = np.zeros((14,62,437))\n",
    "evoked_75 = np.zeros((14,62,437))\n",
    "evoked_76 = np.zeros((14,62,437))\n",
    "idx =  0\n",
    "for i in list_subj:\n",
    "    examples_dir = \"PDM_data\\\\\"+i+\"\\\\sourcedata-eeg_outside-MRT\\\\eeg\";\n",
    "    epochs = mne.read_epochs(examples_dir + \"\\\\\"+ i + \"_prerprocessed.fif\");\n",
    "    epochs.info['bads'] = []\n",
    "    #resample epochs.resample(128)\n",
    "    evoked_74[idx] = epochs['74'].average().data\n",
    "    evoked_75[idx] = epochs['75'].average().data\n",
    "    evoked_76[idx] = epochs['76'].average().data\n",
    "    \n",
    "    idx = idx + 1"
   ]
  },
  {
   "cell_type": "markdown",
   "metadata": {},
   "source": [
    "# Amplitude at Central electrods"
   ]
  },
  {
   "cell_type": "code",
   "execution_count": 5,
   "metadata": {},
   "outputs": [],
   "source": [
    "#selected channels from centrals sites\n",
    "ch_name_C1 ='C1'\n",
    "ch_name_C2 ='C2'\n",
    "channel_indices_C1 = mne.pick_channels(epochs.info['ch_names'], [ch_name_C1])[0]\n",
    "channel_indices_C2 = mne.pick_channels(epochs.info['ch_names'], [ch_name_C2])[0]\n",
    "\n",
    "ch_name_C3 ='C3'\n",
    "ch_name_C4 ='C4'\n",
    "channel_indices_C3 = mne.pick_channels(epochs.info['ch_names'], [ch_name_C3])[0]\n",
    "channel_indices_C4 = mne.pick_channels(epochs.info['ch_names'], [ch_name_C4])[0]\n",
    "\n",
    "\n",
    "# setting times\n",
    "times = epochs.times"
   ]
  },
  {
   "cell_type": "code",
   "execution_count": 6,
   "metadata": {},
   "outputs": [],
   "source": [
    "#defining ipislateral and neutral activity\n",
    "ipsilateral_amplitude   = np.array((evoked_74[:,channel_indices_C1,:],evoked_75[:,channel_indices_C2,:],\n",
    "                                    evoked_74[:,channel_indices_C3,:],evoked_75[:,channel_indices_C4,:])).mean(axis = 0)\n",
    "\n",
    "neutral_amplitude       = np.array((evoked_76[:,channel_indices_C1,:],evoked_76[:,channel_indices_C2,:],\n",
    "                                    evoked_76[:,channel_indices_C3,:],evoked_76[:,channel_indices_C4,:])).mean(axis = 0)"
   ]
  },
  {
   "cell_type": "code",
   "execution_count": 9,
   "metadata": {},
   "outputs": [
    {
     "data": {
      "text/plain": [
       "<matplotlib.lines.Line2D at 0x1e6ff39b7c8>"
      ]
     },
     "execution_count": 9,
     "metadata": {},
     "output_type": "execute_result"
    }
   ],
   "source": [
    "#plot contalateral and neutral\n",
    "\n",
    "plt.figure()\n",
    "\n",
    "plt.plot(times*1000,ipsilateral_amplitude.mean(axis=0),\n",
    "         label='Ipsi')\n",
    "error = ipsilateral_amplitude.std(axis=0)/np.sqrt(14)\n",
    "plt.fill_between(times*1000, ipsilateral_amplitude.mean(axis=0) -error, ipsilateral_amplitude.mean(axis=0) +error,\n",
    "    alpha=0.3)\n",
    "\n",
    "\n",
    "plt.plot(times*1000,neutral_amplitude.mean(axis=0),\n",
    "          label='Neut')\n",
    "error = neutral_amplitude.std(axis=0)/np.sqrt(14)\n",
    "\n",
    "plt.fill_between(times*1000, neutral_amplitude.mean(axis=0) -error, neutral_amplitude.mean(axis=0) +error,\n",
    "    alpha=0.3)\n",
    "\n",
    "\n",
    "plt.plot(times*1000,ipsilateral_amplitude.mean(axis=0) - neutral_amplitude.mean(axis=0),\n",
    "         'k--', label='Ipsi - Neut')\n",
    "\n",
    "plt.plot(times*1000,np.zeros(len(times)),'y') \n",
    "\n",
    "plt.legend()\n",
    "plt.show()\n",
    "sns.despine(offset=10, trim=True)  # <-- only show the right spine\n",
    "\n",
    "plt.axvline(x=0, color='black')\n",
    "plt.axvline(x=1000, color='black')"
   ]
  },
  {
   "cell_type": "code",
   "execution_count": 10,
   "metadata": {},
   "outputs": [],
   "source": [
    "#setting time window\n",
    "win_low = int((100 + 1150)/3.9)\n",
    "win_up  = int((100 + 1500)/3.9)"
   ]
  },
  {
   "cell_type": "code",
   "execution_count": 11,
   "metadata": {},
   "outputs": [
    {
     "data": {
      "text/plain": [
       "(320, 410)"
      ]
     },
     "execution_count": 11,
     "metadata": {},
     "output_type": "execute_result"
    }
   ],
   "source": [
    "win_low,win_up"
   ]
  },
  {
   "cell_type": "code",
   "execution_count": 12,
   "metadata": {},
   "outputs": [],
   "source": [
    "#### ttest and fdr correction\n",
    "T, pval = stats.ttest_rel(ipsilateral_amplitude[:,win_low:win_up], neutral_amplitude[:,win_low:win_up])\n",
    "alpha = 0.05\n",
    "\n",
    "reject_fdr, pval_fdr = fdr_correction(pval, alpha=alpha, method='indep')"
   ]
  },
  {
   "cell_type": "code",
   "execution_count": 13,
   "metadata": {},
   "outputs": [
    {
     "data": {
      "text/plain": [
       "array([1155.8, 1159.7, 1163.6, 1167.5, 1171.4, 1210.4, 1214.3, 1218.2,\n",
       "       1222.1, 1226. , 1229.9, 1233.8, 1237.7, 1241.6, 1245.5, 1249.4,\n",
       "       1253.3, 1257.2, 1261.1, 1265. , 1268.9])"
      ]
     },
     "execution_count": 13,
     "metadata": {},
     "output_type": "execute_result"
    }
   ],
   "source": [
    "#time point in Ms which are significant based on \n",
    "3.9*np.arange(win_low,win_up)[pval_fdr<0.05]-100"
   ]
  },
  {
   "cell_type": "code",
   "execution_count": 15,
   "metadata": {},
   "outputs": [],
   "source": [
    "time_min1 = int((100 + 1210)/3.9)\n",
    "time_max1 = int((100 + 1270)/3.9)"
   ]
  },
  {
   "cell_type": "code",
   "execution_count": 16,
   "metadata": {},
   "outputs": [
    {
     "data": {
      "text/plain": [
       "<matplotlib.patches.Polygon at 0x1e68237cfc8>"
      ]
     },
     "execution_count": 16,
     "metadata": {},
     "output_type": "execute_result"
    }
   ],
   "source": [
    "#fill areas which are significant\n",
    "plt.axvspan(times[time_min1]*1000, times[time_max1]*1000, color=sns.xkcd_rgb['grey'], alpha=0.4, ymax= 0.66)"
   ]
  },
  {
   "cell_type": "code",
   "execution_count": 15,
   "metadata": {},
   "outputs": [],
   "source": [
    "#average amplitude\n",
    "ipsilateral_amplitude_mean = ipsilateral_amplitude[:,time_min1:time_max1].mean(axis = 1)\n",
    "neutral_amplitude_mean   = neutral_amplitude[:,time_min1:time_max1].mean(axis = 1)"
   ]
  },
  {
   "cell_type": "code",
   "execution_count": 16,
   "metadata": {},
   "outputs": [
    {
     "data": {
      "text/plain": [
       "Ttest_relResult(statistic=-4.712199835902783, pvalue=0.0004061744795015991)"
      ]
     },
     "execution_count": 16,
     "metadata": {},
     "output_type": "execute_result"
    }
   ],
   "source": [
    "#t-test average amplitude\n",
    "stats.ttest_rel(ipsilateral_amplitude_mean,neutral_amplitude_mean)"
   ]
  },
  {
   "cell_type": "code",
   "execution_count": 17,
   "metadata": {},
   "outputs": [],
   "source": [
    "diff_amplitude_mean = ipsilateral_amplitude_mean - neutral_amplitude_mean"
   ]
  },
  {
   "cell_type": "markdown",
   "metadata": {},
   "source": [
    "# Alpha Power at Central electrod"
   ]
  },
  {
   "cell_type": "code",
   "execution_count": 17,
   "metadata": {},
   "outputs": [],
   "source": [
    "#define frequencies of interest\n",
    "freqs = np.arange(4, 30, 1)  \n",
    "#n_cycles =freqs/2\n",
    "n_cycles =np.arange(3, 16, 0.5)\n",
    "n_freqs = len(freqs)"
   ]
  },
  {
   "cell_type": "code",
   "execution_count": 18,
   "metadata": {},
   "outputs": [],
   "source": [
    "#### two selected channels\n",
    "ch_name_PO3 ='PO3'\n",
    "ch_name_PO4 ='PO4'\n",
    "channel_indices_PO3 = mne.pick_channels(epochs.info['ch_names'], [ch_name_PO3])[0]\n",
    "channel_indices_PO4 = mne.pick_channels(epochs.info['ch_names'], [ch_name_PO4])[0]\n",
    "\n",
    "ch_name_PO7 ='PO7'\n",
    "ch_name_PO8 ='PO8'\n",
    "channel_indices_PO7 = mne.pick_channels(epochs.info['ch_names'], [ch_name_PO7])[0]\n",
    "channel_indices_PO8 = mne.pick_channels(epochs.info['ch_names'], [ch_name_PO8])[0]\n",
    "\n",
    "\n",
    "# setting times\n",
    "times = epochs.times"
   ]
  },
  {
   "cell_type": "code",
   "execution_count": 19,
   "metadata": {
    "scrolled": true
   },
   "outputs": [
    {
     "name": "stdout",
     "output_type": "stream",
     "text": [
      "Reading D:\\PhD\\PDM_data\\eeg_outside-MRT\\sub-001\\sourcedata-eeg_outside-MRT\\eeg\\sub-001_prerprocessed.fif ...\n",
      "    Read a total of 1 projection items:\n",
      "        Average EEG reference (1 x 62) active\n",
      "    Found the data of interest:\n",
      "        t =    -101.56 ...    1601.56 ms\n",
      "        0 CTF compensation matrices available\n"
     ]
    },
    {
     "name": "stderr",
     "output_type": "stream",
     "text": [
      "<ipython-input-19-26a0662b98ab>:25: RuntimeWarning: This filename (D:\\PhD\\PDM_data\\eeg_outside-MRT\\sub-001\\sourcedata-eeg_outside-MRT\\eeg\\sub-001_prerprocessed.fif) does not conform to MNE naming conventions. All epochs files should end with -epo.fif, -epo.fif.gz, _epo.fif or _epo.fif.gz\n",
      "  epochs = mne.read_epochs(examples_dir + \"\\\\\"+ i + \"_prerprocessed.fif\");\n"
     ]
    },
    {
     "name": "stdout",
     "output_type": "stream",
     "text": [
      "Not setting metadata\n",
      "Not setting metadata\n",
      "275 matching events found\n",
      "Applying baseline correction (mode: mean)\n",
      "Created an SSP operator (subspace dimension = 1)\n",
      "1 projection items activated\n",
      "Not setting metadata\n",
      "Not setting metadata\n",
      "Not setting metadata\n",
      "Reading D:\\PhD\\PDM_data\\eeg_outside-MRT\\sub-003\\sourcedata-eeg_outside-MRT\\eeg\\sub-003_prerprocessed.fif ...\n"
     ]
    },
    {
     "name": "stderr",
     "output_type": "stream",
     "text": [
      "<ipython-input-19-26a0662b98ab>:25: RuntimeWarning: This filename (D:\\PhD\\PDM_data\\eeg_outside-MRT\\sub-003\\sourcedata-eeg_outside-MRT\\eeg\\sub-003_prerprocessed.fif) does not conform to MNE naming conventions. All epochs files should end with -epo.fif, -epo.fif.gz, _epo.fif or _epo.fif.gz\n",
      "  epochs = mne.read_epochs(examples_dir + \"\\\\\"+ i + \"_prerprocessed.fif\");\n"
     ]
    },
    {
     "name": "stdout",
     "output_type": "stream",
     "text": [
      "    Read a total of 1 projection items:\n",
      "        Average EEG reference (1 x 62) active\n",
      "    Found the data of interest:\n",
      "        t =    -101.56 ...    1601.56 ms\n",
      "        0 CTF compensation matrices available\n",
      "Not setting metadata\n",
      "Not setting metadata\n",
      "280 matching events found\n",
      "Applying baseline correction (mode: mean)\n",
      "Created an SSP operator (subspace dimension = 1)\n",
      "1 projection items activated\n",
      "Not setting metadata\n",
      "Not setting metadata\n",
      "Not setting metadata\n",
      "Reading D:\\PhD\\PDM_data\\eeg_outside-MRT\\sub-004\\sourcedata-eeg_outside-MRT\\eeg\\sub-004_prerprocessed.fif ...\n"
     ]
    },
    {
     "name": "stderr",
     "output_type": "stream",
     "text": [
      "<ipython-input-19-26a0662b98ab>:25: RuntimeWarning: This filename (D:\\PhD\\PDM_data\\eeg_outside-MRT\\sub-004\\sourcedata-eeg_outside-MRT\\eeg\\sub-004_prerprocessed.fif) does not conform to MNE naming conventions. All epochs files should end with -epo.fif, -epo.fif.gz, _epo.fif or _epo.fif.gz\n",
      "  epochs = mne.read_epochs(examples_dir + \"\\\\\"+ i + \"_prerprocessed.fif\");\n"
     ]
    },
    {
     "name": "stdout",
     "output_type": "stream",
     "text": [
      "    Read a total of 1 projection items:\n",
      "        Average EEG reference (1 x 62) active\n",
      "    Found the data of interest:\n",
      "        t =    -101.56 ...    1601.56 ms\n",
      "        0 CTF compensation matrices available\n",
      "Not setting metadata\n",
      "Not setting metadata\n",
      "261 matching events found\n",
      "Applying baseline correction (mode: mean)\n",
      "Created an SSP operator (subspace dimension = 1)\n",
      "1 projection items activated\n",
      "Not setting metadata\n",
      "Not setting metadata\n",
      "Not setting metadata\n",
      "Reading D:\\PhD\\PDM_data\\eeg_outside-MRT\\sub-005\\sourcedata-eeg_outside-MRT\\eeg\\sub-005_prerprocessed.fif ...\n"
     ]
    },
    {
     "name": "stderr",
     "output_type": "stream",
     "text": [
      "<ipython-input-19-26a0662b98ab>:25: RuntimeWarning: This filename (D:\\PhD\\PDM_data\\eeg_outside-MRT\\sub-005\\sourcedata-eeg_outside-MRT\\eeg\\sub-005_prerprocessed.fif) does not conform to MNE naming conventions. All epochs files should end with -epo.fif, -epo.fif.gz, _epo.fif or _epo.fif.gz\n",
      "  epochs = mne.read_epochs(examples_dir + \"\\\\\"+ i + \"_prerprocessed.fif\");\n"
     ]
    },
    {
     "name": "stdout",
     "output_type": "stream",
     "text": [
      "    Read a total of 1 projection items:\n",
      "        Average EEG reference (1 x 62) active\n",
      "    Found the data of interest:\n",
      "        t =    -101.56 ...    1601.56 ms\n",
      "        0 CTF compensation matrices available\n",
      "Not setting metadata\n",
      "Not setting metadata\n",
      "237 matching events found\n",
      "Applying baseline correction (mode: mean)\n",
      "Created an SSP operator (subspace dimension = 1)\n",
      "1 projection items activated\n",
      "Not setting metadata\n",
      "Not setting metadata\n",
      "Not setting metadata\n",
      "Reading D:\\PhD\\PDM_data\\eeg_outside-MRT\\sub-006\\sourcedata-eeg_outside-MRT\\eeg\\sub-006_prerprocessed.fif ...\n"
     ]
    },
    {
     "name": "stderr",
     "output_type": "stream",
     "text": [
      "<ipython-input-19-26a0662b98ab>:25: RuntimeWarning: This filename (D:\\PhD\\PDM_data\\eeg_outside-MRT\\sub-006\\sourcedata-eeg_outside-MRT\\eeg\\sub-006_prerprocessed.fif) does not conform to MNE naming conventions. All epochs files should end with -epo.fif, -epo.fif.gz, _epo.fif or _epo.fif.gz\n",
      "  epochs = mne.read_epochs(examples_dir + \"\\\\\"+ i + \"_prerprocessed.fif\");\n"
     ]
    },
    {
     "name": "stdout",
     "output_type": "stream",
     "text": [
      "    Read a total of 1 projection items:\n",
      "        Average EEG reference (1 x 62) active\n",
      "    Found the data of interest:\n",
      "        t =    -101.56 ...    1601.56 ms\n",
      "        0 CTF compensation matrices available\n",
      "Not setting metadata\n",
      "Not setting metadata\n",
      "271 matching events found\n",
      "Applying baseline correction (mode: mean)\n",
      "Created an SSP operator (subspace dimension = 1)\n",
      "1 projection items activated\n",
      "Not setting metadata\n",
      "Not setting metadata\n",
      "Not setting metadata\n",
      "Reading D:\\PhD\\PDM_data\\eeg_outside-MRT\\sub-008\\sourcedata-eeg_outside-MRT\\eeg\\sub-008_prerprocessed.fif ...\n"
     ]
    },
    {
     "name": "stderr",
     "output_type": "stream",
     "text": [
      "<ipython-input-19-26a0662b98ab>:25: RuntimeWarning: This filename (D:\\PhD\\PDM_data\\eeg_outside-MRT\\sub-008\\sourcedata-eeg_outside-MRT\\eeg\\sub-008_prerprocessed.fif) does not conform to MNE naming conventions. All epochs files should end with -epo.fif, -epo.fif.gz, _epo.fif or _epo.fif.gz\n",
      "  epochs = mne.read_epochs(examples_dir + \"\\\\\"+ i + \"_prerprocessed.fif\");\n"
     ]
    },
    {
     "name": "stdout",
     "output_type": "stream",
     "text": [
      "    Read a total of 1 projection items:\n",
      "        Average EEG reference (1 x 62) active\n",
      "    Found the data of interest:\n",
      "        t =    -101.56 ...    1601.56 ms\n",
      "        0 CTF compensation matrices available\n",
      "Not setting metadata\n",
      "Not setting metadata\n",
      "273 matching events found\n",
      "Applying baseline correction (mode: mean)\n",
      "Created an SSP operator (subspace dimension = 1)\n",
      "1 projection items activated\n",
      "Not setting metadata\n",
      "Not setting metadata\n",
      "Not setting metadata\n",
      "Reading D:\\PhD\\PDM_data\\eeg_outside-MRT\\sub-009\\sourcedata-eeg_outside-MRT\\eeg\\sub-009_prerprocessed.fif ...\n"
     ]
    },
    {
     "name": "stderr",
     "output_type": "stream",
     "text": [
      "<ipython-input-19-26a0662b98ab>:25: RuntimeWarning: This filename (D:\\PhD\\PDM_data\\eeg_outside-MRT\\sub-009\\sourcedata-eeg_outside-MRT\\eeg\\sub-009_prerprocessed.fif) does not conform to MNE naming conventions. All epochs files should end with -epo.fif, -epo.fif.gz, _epo.fif or _epo.fif.gz\n",
      "  epochs = mne.read_epochs(examples_dir + \"\\\\\"+ i + \"_prerprocessed.fif\");\n"
     ]
    },
    {
     "name": "stdout",
     "output_type": "stream",
     "text": [
      "    Read a total of 1 projection items:\n",
      "        Average EEG reference (1 x 62) active\n",
      "    Found the data of interest:\n",
      "        t =    -101.56 ...    1601.56 ms\n",
      "        0 CTF compensation matrices available\n",
      "Not setting metadata\n",
      "Not setting metadata\n",
      "251 matching events found\n",
      "Applying baseline correction (mode: mean)\n",
      "Created an SSP operator (subspace dimension = 1)\n",
      "1 projection items activated\n",
      "Not setting metadata\n",
      "Not setting metadata\n",
      "Not setting metadata\n",
      "Reading D:\\PhD\\PDM_data\\eeg_outside-MRT\\sub-010\\sourcedata-eeg_outside-MRT\\eeg\\sub-010_prerprocessed.fif ...\n"
     ]
    },
    {
     "name": "stderr",
     "output_type": "stream",
     "text": [
      "<ipython-input-19-26a0662b98ab>:25: RuntimeWarning: This filename (D:\\PhD\\PDM_data\\eeg_outside-MRT\\sub-010\\sourcedata-eeg_outside-MRT\\eeg\\sub-010_prerprocessed.fif) does not conform to MNE naming conventions. All epochs files should end with -epo.fif, -epo.fif.gz, _epo.fif or _epo.fif.gz\n",
      "  epochs = mne.read_epochs(examples_dir + \"\\\\\"+ i + \"_prerprocessed.fif\");\n"
     ]
    },
    {
     "name": "stdout",
     "output_type": "stream",
     "text": [
      "    Read a total of 1 projection items:\n",
      "        Average EEG reference (1 x 62) active\n",
      "    Found the data of interest:\n",
      "        t =    -101.56 ...    1601.56 ms\n",
      "        0 CTF compensation matrices available\n",
      "Not setting metadata\n",
      "Not setting metadata\n",
      "275 matching events found\n",
      "Applying baseline correction (mode: mean)\n",
      "Created an SSP operator (subspace dimension = 1)\n",
      "1 projection items activated\n",
      "Not setting metadata\n",
      "Not setting metadata\n",
      "Not setting metadata\n",
      "Reading D:\\PhD\\PDM_data\\eeg_outside-MRT\\sub-012\\sourcedata-eeg_outside-MRT\\eeg\\sub-012_prerprocessed.fif ...\n"
     ]
    },
    {
     "name": "stderr",
     "output_type": "stream",
     "text": [
      "<ipython-input-19-26a0662b98ab>:25: RuntimeWarning: This filename (D:\\PhD\\PDM_data\\eeg_outside-MRT\\sub-012\\sourcedata-eeg_outside-MRT\\eeg\\sub-012_prerprocessed.fif) does not conform to MNE naming conventions. All epochs files should end with -epo.fif, -epo.fif.gz, _epo.fif or _epo.fif.gz\n",
      "  epochs = mne.read_epochs(examples_dir + \"\\\\\"+ i + \"_prerprocessed.fif\");\n"
     ]
    },
    {
     "name": "stdout",
     "output_type": "stream",
     "text": [
      "    Read a total of 1 projection items:\n",
      "        Average EEG reference (1 x 62) active\n",
      "    Found the data of interest:\n",
      "        t =    -101.56 ...    1601.56 ms\n",
      "        0 CTF compensation matrices available\n",
      "Not setting metadata\n",
      "Not setting metadata\n",
      "273 matching events found\n",
      "Applying baseline correction (mode: mean)\n",
      "Created an SSP operator (subspace dimension = 1)\n",
      "1 projection items activated\n",
      "Not setting metadata\n",
      "Not setting metadata\n",
      "Not setting metadata\n",
      "Reading D:\\PhD\\PDM_data\\eeg_outside-MRT\\sub-013\\sourcedata-eeg_outside-MRT\\eeg\\sub-013_prerprocessed.fif ...\n"
     ]
    },
    {
     "name": "stderr",
     "output_type": "stream",
     "text": [
      "<ipython-input-19-26a0662b98ab>:25: RuntimeWarning: This filename (D:\\PhD\\PDM_data\\eeg_outside-MRT\\sub-013\\sourcedata-eeg_outside-MRT\\eeg\\sub-013_prerprocessed.fif) does not conform to MNE naming conventions. All epochs files should end with -epo.fif, -epo.fif.gz, _epo.fif or _epo.fif.gz\n",
      "  epochs = mne.read_epochs(examples_dir + \"\\\\\"+ i + \"_prerprocessed.fif\");\n"
     ]
    },
    {
     "name": "stdout",
     "output_type": "stream",
     "text": [
      "    Read a total of 1 projection items:\n",
      "        Average EEG reference (1 x 62) active\n",
      "    Found the data of interest:\n",
      "        t =    -101.56 ...    1601.56 ms\n",
      "        0 CTF compensation matrices available\n",
      "Not setting metadata\n",
      "Not setting metadata\n",
      "244 matching events found\n",
      "Applying baseline correction (mode: mean)\n",
      "Created an SSP operator (subspace dimension = 1)\n",
      "1 projection items activated\n",
      "Not setting metadata\n",
      "Not setting metadata\n",
      "Not setting metadata\n",
      "Reading D:\\PhD\\PDM_data\\eeg_outside-MRT\\sub-014\\sourcedata-eeg_outside-MRT\\eeg\\sub-014_prerprocessed.fif ...\n"
     ]
    },
    {
     "name": "stderr",
     "output_type": "stream",
     "text": [
      "<ipython-input-19-26a0662b98ab>:25: RuntimeWarning: This filename (D:\\PhD\\PDM_data\\eeg_outside-MRT\\sub-014\\sourcedata-eeg_outside-MRT\\eeg\\sub-014_prerprocessed.fif) does not conform to MNE naming conventions. All epochs files should end with -epo.fif, -epo.fif.gz, _epo.fif or _epo.fif.gz\n",
      "  epochs = mne.read_epochs(examples_dir + \"\\\\\"+ i + \"_prerprocessed.fif\");\n"
     ]
    },
    {
     "name": "stdout",
     "output_type": "stream",
     "text": [
      "    Read a total of 1 projection items:\n",
      "        Average EEG reference (1 x 62) active\n",
      "    Found the data of interest:\n",
      "        t =    -101.56 ...    1601.56 ms\n",
      "        0 CTF compensation matrices available\n",
      "Not setting metadata\n",
      "Not setting metadata\n",
      "263 matching events found\n",
      "Applying baseline correction (mode: mean)\n",
      "Created an SSP operator (subspace dimension = 1)\n",
      "1 projection items activated\n",
      "Not setting metadata\n",
      "Not setting metadata\n",
      "Not setting metadata\n",
      "Reading D:\\PhD\\PDM_data\\eeg_outside-MRT\\sub-015\\sourcedata-eeg_outside-MRT\\eeg\\sub-015_prerprocessed.fif ...\n"
     ]
    },
    {
     "name": "stderr",
     "output_type": "stream",
     "text": [
      "<ipython-input-19-26a0662b98ab>:25: RuntimeWarning: This filename (D:\\PhD\\PDM_data\\eeg_outside-MRT\\sub-015\\sourcedata-eeg_outside-MRT\\eeg\\sub-015_prerprocessed.fif) does not conform to MNE naming conventions. All epochs files should end with -epo.fif, -epo.fif.gz, _epo.fif or _epo.fif.gz\n",
      "  epochs = mne.read_epochs(examples_dir + \"\\\\\"+ i + \"_prerprocessed.fif\");\n"
     ]
    },
    {
     "name": "stdout",
     "output_type": "stream",
     "text": [
      "    Read a total of 1 projection items:\n",
      "        Average EEG reference (1 x 62) active\n",
      "    Found the data of interest:\n",
      "        t =    -101.56 ...    1601.56 ms\n",
      "        0 CTF compensation matrices available\n",
      "Not setting metadata\n",
      "Not setting metadata\n",
      "257 matching events found\n",
      "Applying baseline correction (mode: mean)\n",
      "Created an SSP operator (subspace dimension = 1)\n",
      "1 projection items activated\n",
      "Not setting metadata\n",
      "Not setting metadata\n",
      "Not setting metadata\n",
      "Reading D:\\PhD\\PDM_data\\eeg_outside-MRT\\sub-016\\sourcedata-eeg_outside-MRT\\eeg\\sub-016_prerprocessed.fif ...\n"
     ]
    },
    {
     "name": "stderr",
     "output_type": "stream",
     "text": [
      "<ipython-input-19-26a0662b98ab>:25: RuntimeWarning: This filename (D:\\PhD\\PDM_data\\eeg_outside-MRT\\sub-016\\sourcedata-eeg_outside-MRT\\eeg\\sub-016_prerprocessed.fif) does not conform to MNE naming conventions. All epochs files should end with -epo.fif, -epo.fif.gz, _epo.fif or _epo.fif.gz\n",
      "  epochs = mne.read_epochs(examples_dir + \"\\\\\"+ i + \"_prerprocessed.fif\");\n"
     ]
    },
    {
     "name": "stdout",
     "output_type": "stream",
     "text": [
      "    Read a total of 1 projection items:\n",
      "        Average EEG reference (1 x 62) active\n",
      "    Found the data of interest:\n",
      "        t =    -101.56 ...    1601.56 ms\n",
      "        0 CTF compensation matrices available\n",
      "Not setting metadata\n",
      "Not setting metadata\n",
      "245 matching events found\n",
      "Applying baseline correction (mode: mean)\n",
      "Created an SSP operator (subspace dimension = 1)\n",
      "1 projection items activated\n",
      "Not setting metadata\n",
      "Not setting metadata\n",
      "Not setting metadata\n",
      "Reading D:\\PhD\\PDM_data\\eeg_outside-MRT\\sub-017\\sourcedata-eeg_outside-MRT\\eeg\\sub-017_prerprocessed.fif ...\n"
     ]
    },
    {
     "name": "stderr",
     "output_type": "stream",
     "text": [
      "<ipython-input-19-26a0662b98ab>:25: RuntimeWarning: This filename (D:\\PhD\\PDM_data\\eeg_outside-MRT\\sub-017\\sourcedata-eeg_outside-MRT\\eeg\\sub-017_prerprocessed.fif) does not conform to MNE naming conventions. All epochs files should end with -epo.fif, -epo.fif.gz, _epo.fif or _epo.fif.gz\n",
      "  epochs = mne.read_epochs(examples_dir + \"\\\\\"+ i + \"_prerprocessed.fif\");\n"
     ]
    },
    {
     "name": "stdout",
     "output_type": "stream",
     "text": [
      "    Read a total of 1 projection items:\n",
      "        Average EEG reference (1 x 62) active\n",
      "    Found the data of interest:\n",
      "        t =    -101.56 ...    1601.56 ms\n",
      "        0 CTF compensation matrices available\n",
      "Not setting metadata\n",
      "Not setting metadata\n",
      "251 matching events found\n",
      "Applying baseline correction (mode: mean)\n",
      "Created an SSP operator (subspace dimension = 1)\n",
      "1 projection items activated\n",
      "Not setting metadata\n",
      "Not setting metadata\n",
      "Not setting metadata\n"
     ]
    }
   ],
   "source": [
    "#single trial wavelet\n",
    "list_subj = ['sub-001', 'sub-003', 'sub-004', 'sub-005', 'sub-006', 'sub-008', 'sub-009',\n",
    "             'sub-010', 'sub-012', 'sub-013', 'sub-014', 'sub-015', 'sub-016', 'sub-017']\n",
    "\n",
    "# define evoked for each condition\n",
    "# 437 points for 1700 ms\n",
    "vawelet_74_PO3 = np.zeros((14,n_freqs,437))\n",
    "vawelet_74_PO4 = np.zeros((14,n_freqs,437))\n",
    "vawelet_75_PO3 = np.zeros((14,n_freqs,437))\n",
    "vawelet_75_PO4 = np.zeros((14,n_freqs,437))\n",
    "vawelet_76_PO3 = np.zeros((14,n_freqs,437))\n",
    "vawelet_76_PO4 = np.zeros((14,n_freqs,437))\n",
    "\n",
    "\n",
    "\n",
    "vawelet_74_PO7 = np.zeros((14,n_freqs,437))\n",
    "vawelet_74_PO8 = np.zeros((14,n_freqs,437))\n",
    "vawelet_75_PO7 = np.zeros((14,n_freqs,437))\n",
    "vawelet_75_PO8 = np.zeros((14,n_freqs,437))\n",
    "vawelet_76_PO7 = np.zeros((14,n_freqs,437))\n",
    "vawelet_76_PO8 = np.zeros((14,n_freqs,437))\n",
    "\n",
    "idx =  0\n",
    "for i in list_subj:\n",
    "    examples_dir = \"PDM_data\\\\\"+i+\"\\\\sourcedata-eeg_outside-MRT\\\\eeg\";\n",
    "    epochs = mne.read_epochs(examples_dir + \"\\\\\"+ i + \"_prerprocessed.fif\");\n",
    "    #this code very important\n",
    "    epochs.info['bads'] = []\n",
    "\n",
    "    #define frequencies of interest\n",
    "    \n",
    "    #74\n",
    "    power = tfr_morlet(epochs['74'], freqs, n_cycles=n_cycles, average = False,\n",
    "                              return_itc=False)  \n",
    "    power = power.average()\n",
    "    vawelet_74_PO3[idx] = power.data[channel_indices_PO3, :, :]\n",
    "    vawelet_74_PO4[idx] = power.data[channel_indices_PO4, :, :]\n",
    "    \n",
    "    vawelet_74_PO7[idx] = power.data[channel_indices_PO7, :, :]\n",
    "    vawelet_74_PO8[idx] = power.data[channel_indices_PO8, :, :]\n",
    "    \n",
    "    #75\n",
    "    power = tfr_morlet(epochs['75'], freqs, n_cycles=n_cycles, average = False,\n",
    "                              return_itc=False)  \n",
    "    power = power.average()\n",
    "    vawelet_75_PO3[idx] = power.data[channel_indices_PO3, :, :]\n",
    "    vawelet_75_PO4[idx] = power.data[channel_indices_PO4, :, :]\n",
    "    \n",
    "    \n",
    "    vawelet_75_PO7[idx] = power.data[channel_indices_PO7, :, :]\n",
    "    vawelet_75_PO8[idx] = power.data[channel_indices_PO8, :, :]\n",
    "       \n",
    "    #76\n",
    "    power = tfr_morlet(epochs['76'], freqs, n_cycles=n_cycles, average = False,\n",
    "                              return_itc=False) \n",
    "    power = power.average() \n",
    "    vawelet_76_PO3[idx] = power.data[channel_indices_PO3, :, :]\n",
    "    vawelet_76_PO4[idx] = power.data[channel_indices_PO4, :, :]\n",
    "    \n",
    "    \n",
    "    vawelet_76_PO7[idx] = power.data[channel_indices_PO7, :, :]\n",
    "    vawelet_76_PO8[idx] = power.data[channel_indices_PO8, :, :]\n",
    "    \n",
    "    idx = idx + 1"
   ]
  },
  {
   "cell_type": "code",
   "execution_count": 20,
   "metadata": {},
   "outputs": [],
   "source": [
    "#make a mean of alpha power from 8 Hz to 13 Hz\n",
    "vawelet_74_PO3_alpha = vawelet_74_PO3[:,4:9,:].mean(axis = 1)\n",
    "vawelet_74_PO4_alpha = vawelet_74_PO4[:,4:9,:].mean(axis = 1)\n",
    "vawelet_75_PO3_alpha = vawelet_75_PO3[:,4:9,:].mean(axis = 1)\n",
    "vawelet_75_PO4_alpha = vawelet_75_PO4[:,4:9,:].mean(axis = 1)\n",
    "vawelet_76_PO3_alpha = vawelet_76_PO3[:,4:9,:].mean(axis = 1)\n",
    "vawelet_76_PO4_alpha = vawelet_76_PO4[:,4:9,:].mean(axis = 1)\n",
    "\n",
    "#make a mean of alpha power from 8 Hz to 13 Hz\n",
    "vawelet_74_PO7_alpha = vawelet_74_PO7[:,4:9,:].mean(axis = 1)\n",
    "vawelet_74_PO8_alpha = vawelet_74_PO8[:,4:9,:].mean(axis = 1)\n",
    "vawelet_75_PO7_alpha = vawelet_75_PO7[:,4:9,:].mean(axis = 1)\n",
    "vawelet_75_PO8_alpha = vawelet_75_PO8[:,4:9,:].mean(axis = 1)\n",
    "vawelet_76_PO7_alpha = vawelet_76_PO7[:,4:9,:].mean(axis = 1)\n",
    "vawelet_76_PO8_alpha = vawelet_76_PO8[:,4:9,:].mean(axis = 1)"
   ]
  },
  {
   "cell_type": "code",
   "execution_count": 21,
   "metadata": {},
   "outputs": [],
   "source": [
    "#defining ipsilateral and neutral power\n",
    "ipsilateral_power   = np.array((vawelet_74_PO3_alpha ,vawelet_75_PO4_alpha,\n",
    "                                vawelet_74_PO7_alpha ,vawelet_75_PO8_alpha)).mean(axis = 0)\n",
    "\n",
    "\n",
    "neutral_power       = np.array((vawelet_76_PO3_alpha ,vawelet_76_PO4_alpha,\n",
    "                                vawelet_76_PO7_alpha ,vawelet_76_PO8_alpha)).mean(axis = 0)"
   ]
  },
  {
   "cell_type": "code",
   "execution_count": 54,
   "metadata": {},
   "outputs": [],
   "source": [
    "#plot ipsilateral and neutral\n",
    "plt.figure()\n",
    "\n",
    "plt.plot(times*1000,ipsilateral_power.mean(axis=0),\n",
    "          label='IpsiIpsi')\n",
    "error = ipsilateral_power.std(axis=0)/np.sqrt(14)\n",
    "plt.fill_between(times*1000, ipsilateral_power.mean(axis=0) -error, ipsilateral_power.mean(axis=0) +error,\n",
    "    alpha=0.2)\n",
    "\n",
    "\n",
    "\n",
    "plt.plot(times*1000,neutral_power.mean(axis=0),\n",
    "          label='Neut')\n",
    "error = neutral_power.std(axis=0)/np.sqrt(14)\n",
    "plt.fill_between(times*1000, neutral_power.mean(axis=0) -error, neutral_power.mean(axis=0) +error,\n",
    "    alpha=0.2)\n",
    "\n",
    "\n",
    "plt.plot(times*1000,ipsilateral_power.mean(axis=0) - neutral_power.mean(axis=0),\n",
    "         'k-.', label='Ani')\n",
    "\n",
    "plt.plot(times*1000,np.zeros(len(times)),'y') \n",
    "sns.despine(offset=10, trim=True)  # <-- only show the right spine\n",
    "\n",
    "plt.axvline(x=0, color='black')\n",
    "plt.axvline(x=1000, color='black')\n",
    "plt.show()"
   ]
  },
  {
   "cell_type": "code",
   "execution_count": 24,
   "metadata": {},
   "outputs": [],
   "source": [
    "#Calculating FAL\n",
    "time_min1 = int((100 + 900)/3.9)\n",
    "time_max1 = int((100 + 1600)/3.9)\n",
    "half_area = (ipsilateral_power - neutral_power).mean(axis = 0)[time_min1:time_max1].sum()/2"
   ]
  },
  {
   "cell_type": "code",
   "execution_count": 25,
   "metadata": {},
   "outputs": [],
   "source": [
    "#50% of FAL\n",
    "time_min1 = int((100 + 900)/3.9)\n",
    "time_max1 = int((100 + 1205)/3.9)\n",
    "new_area = (ipsilateral_power - neutral_power).mean(axis = 0)[time_min1:time_max1].sum()"
   ]
  },
  {
   "cell_type": "code",
   "execution_count": 26,
   "metadata": {},
   "outputs": [
    {
     "data": {
      "text/plain": [
       "0.011544955743264751"
      ]
     },
     "execution_count": 26,
     "metadata": {},
     "output_type": "execute_result"
    }
   ],
   "source": [
    "1e9*half_area - 1e9*new_area"
   ]
  },
  {
   "cell_type": "code",
   "execution_count": 27,
   "metadata": {},
   "outputs": [
    {
     "data": {
      "text/plain": [
       "(1155, 1255)"
      ]
     },
     "execution_count": 27,
     "metadata": {},
     "output_type": "execute_result"
    }
   ],
   "source": [
    "1205-50, 1205+50"
   ]
  },
  {
   "cell_type": "code",
   "execution_count": 4,
   "metadata": {},
   "outputs": [],
   "source": [
    "#setting time window\n",
    "time_min1 = int((100 + 1205-50)/3.9)\n",
    "time_max1  = int((100 + 1205+50)/3.9)"
   ]
  },
  {
   "cell_type": "code",
   "execution_count": 5,
   "metadata": {},
   "outputs": [
    {
     "data": {
      "text/plain": [
       "(321, 347)"
      ]
     },
     "execution_count": 5,
     "metadata": {},
     "output_type": "execute_result"
    }
   ],
   "source": [
    "time_min1,time_max1"
   ]
  },
  {
   "cell_type": "code",
   "execution_count": 51,
   "metadata": {},
   "outputs": [
    {
     "data": {
      "text/plain": [
       "<matplotlib.patches.Polygon at 0x1e686468e88>"
      ]
     },
     "execution_count": 51,
     "metadata": {},
     "output_type": "execute_result"
    }
   ],
   "source": [
    "plt.axvspan(times[time_min1]*1000, times[time_max1]*1000, color='gray', alpha=0.4, ymin= 0.12)"
   ]
  },
  {
   "cell_type": "code",
   "execution_count": 30,
   "metadata": {},
   "outputs": [],
   "source": [
    "#averaging power from 1100 to 1200 ms\n",
    "ipsilateral_power_mean = ipsilateral_power[:,time_min1:time_max1].mean(axis = 1)\n",
    "neutral_power_mean       = neutral_power[:,time_min1:time_max1].mean(axis = 1)"
   ]
  },
  {
   "cell_type": "code",
   "execution_count": 17,
   "metadata": {},
   "outputs": [
    {
     "data": {
      "text/plain": [
       "Ttest_relResult(statistic=2.2726215472852087, pvalue=0.040670724568188876)"
      ]
     },
     "execution_count": 17,
     "metadata": {},
     "output_type": "execute_result"
    }
   ],
   "source": [
    "#t-test of averaging\n",
    "stats.ttest_rel(ipsilateral_power_mean,neutral_power_mean)"
   ]
  },
  {
   "cell_type": "code",
   "execution_count": 18,
   "metadata": {},
   "outputs": [],
   "source": [
    "#difference contralaterla and ipsilateral \n",
    "diff_power_mean = (ipsilateral_power_mean - neutral_power_mean)"
   ]
  },
  {
   "cell_type": "code",
   "execution_count": 19,
   "metadata": {},
   "outputs": [
    {
     "data": {
      "text/plain": [
       "array([-2.60308331e-11,  3.52896500e-12,  1.24066196e-10,  6.26648163e-11,\n",
       "        3.57662275e-11,  7.15530239e-11,  9.72277218e-11,  8.74521739e-11,\n",
       "        1.07909579e-11,  2.91667456e-11, -3.91592323e-11, -1.99011880e-11,\n",
       "        2.93344731e-10, -4.29100206e-12])"
      ]
     },
     "execution_count": 19,
     "metadata": {},
     "output_type": "execute_result"
    }
   ],
   "source": [
    "diff_power_mean"
   ]
  },
  {
   "cell_type": "code",
   "execution_count": 53,
   "metadata": {},
   "outputs": [],
   "source": [
    "#plot time frequency ipsilateral and neutral power\n",
    "ipsilateral_power_imshow   = np.array((vawelet_74_PO3 ,vawelet_75_PO4,\n",
    "                                vawelet_74_PO7 ,vawelet_75_PO8)).mean(axis = 0)\n",
    "\n",
    "\n",
    "neutral_power_imshow        = np.array((vawelet_76_PO3 ,vawelet_76_PO4,\n",
    "                                vawelet_76_PO7 ,vawelet_76_PO8)).mean(axis = 0)\n",
    "\n",
    "plt.figure()\n",
    "diff = (ipsilateral_power_imshow-neutral_power_imshow).mean(axis = 0)\n",
    "vmax = np.max(diff)\n",
    "vmin = -vmax\n",
    "plt.imshow(diff, cmap=plt.cm.RdBu_r,\n",
    "           extent=[times[0]*1000, times[-1]*1000, freqs[0], freqs[-1]],\n",
    "           aspect='auto', origin='lower', vmin=vmin, vmax=vmax)\n",
    "plt.colorbar()\n",
    "\n",
    "plt.axvline(x=0, color='black')\n",
    "plt.axvline(x=1000, color='black')\n",
    "sns.despine(offset=10)  # <-- only show the right spine\n"
   ]
  },
  {
   "cell_type": "markdown",
   "metadata": {},
   "source": [
    "# DDM model"
   ]
  },
  {
   "cell_type": "code",
   "execution_count": 18,
   "metadata": {},
   "outputs": [],
   "source": [
    "#loading modelt csv(non-decision time)\n",
    "model = pd.read_csv('..\\\\modelt\\\\modelt.csv')"
   ]
  },
  {
   "cell_type": "code",
   "execution_count": 19,
   "metadata": {},
   "outputs": [],
   "source": [
    "#difference of prioritized minus non-prioritized non-decision time\n",
    "par_yes = model.filter(regex=(\"t_subj\\(Yes\\).*\")).to_numpy()[0]\n",
    "par_no  = model.filter(regex=(\"t_subj\\(No\\).*\")).to_numpy()[0]\n",
    "par_t   =  par_yes-par_no"
   ]
  },
  {
   "cell_type": "code",
   "execution_count": 22,
   "metadata": {},
   "outputs": [],
   "source": [
    "reg_independent_diff   = pd.DataFrame({'erp'   : diff_amplitude_mean,\n",
    "                                       'alpha' : diff_power_mean})"
   ]
  },
  {
   "cell_type": "code",
   "execution_count": 21,
   "metadata": {},
   "outputs": [],
   "source": [
    "diff_power_mean = np.array([-2.603083e-11,3.528965e-12,1.240662e-10,6.266482e-11,3.576623e-11,\n",
    "                           7.155302e-11,9.722772e-11,8.745217e-11,1.079096e-11,2.916675e-11,\n",
    "                           -3.915923e-11, -1.990119e-11, 2.933447e-10, -4.291002e-12])"
   ]
  },
  {
   "cell_type": "code",
   "execution_count": 141,
   "metadata": {},
   "outputs": [
    {
     "data": {
      "text/html": [
       "<table class=\"simpletable\">\n",
       "<caption>OLS Regression Results</caption>\n",
       "<tr>\n",
       "  <th>Dep. Variable:</th>            <td>y</td>        <th>  R-squared:         </th> <td>   0.012</td>\n",
       "</tr>\n",
       "<tr>\n",
       "  <th>Model:</th>                   <td>OLS</td>       <th>  Adj. R-squared:    </th> <td>  -0.168</td>\n",
       "</tr>\n",
       "<tr>\n",
       "  <th>Method:</th>             <td>Least Squares</td>  <th>  F-statistic:       </th> <td> 0.06743</td>\n",
       "</tr>\n",
       "<tr>\n",
       "  <th>Date:</th>             <td>Sun, 14 Mar 2021</td> <th>  Prob (F-statistic):</th>  <td> 0.935</td> \n",
       "</tr>\n",
       "<tr>\n",
       "  <th>Time:</th>                 <td>10:26:49</td>     <th>  Log-Likelihood:    </th> <td>  31.947</td>\n",
       "</tr>\n",
       "<tr>\n",
       "  <th>No. Observations:</th>      <td>    14</td>      <th>  AIC:               </th> <td>  -57.89</td>\n",
       "</tr>\n",
       "<tr>\n",
       "  <th>Df Residuals:</th>          <td>    11</td>      <th>  BIC:               </th> <td>  -55.98</td>\n",
       "</tr>\n",
       "<tr>\n",
       "  <th>Df Model:</th>              <td>     2</td>      <th>                     </th>     <td> </td>   \n",
       "</tr>\n",
       "<tr>\n",
       "  <th>Covariance Type:</th>      <td>nonrobust</td>    <th>                     </th>     <td> </td>   \n",
       "</tr>\n",
       "</table>\n",
       "<table class=\"simpletable\">\n",
       "<tr>\n",
       "    <td></td>       <th>coef</th>     <th>std err</th>      <th>t</th>      <th>P>|t|</th>  <th>[0.025</th>    <th>0.975]</th>  \n",
       "</tr>\n",
       "<tr>\n",
       "  <th>const</th> <td>   -0.0194</td> <td>    0.013</td> <td>   -1.548</td> <td> 0.150</td> <td>   -0.047</td> <td>    0.008</td>\n",
       "</tr>\n",
       "<tr>\n",
       "  <th>erp</th>   <td> 8286.7188</td> <td> 2.52e+04</td> <td>    0.329</td> <td> 0.748</td> <td>-4.71e+04</td> <td> 6.36e+04</td>\n",
       "</tr>\n",
       "<tr>\n",
       "  <th>alpha</th> <td> 1.225e+07</td> <td> 1.22e+08</td> <td>    0.100</td> <td> 0.922</td> <td>-2.56e+08</td> <td> 2.81e+08</td>\n",
       "</tr>\n",
       "</table>\n",
       "<table class=\"simpletable\">\n",
       "<tr>\n",
       "  <th>Omnibus:</th>       <td> 0.947</td> <th>  Durbin-Watson:     </th> <td>   2.563</td>\n",
       "</tr>\n",
       "<tr>\n",
       "  <th>Prob(Omnibus):</th> <td> 0.623</td> <th>  Jarque-Bera (JB):  </th> <td>   0.718</td>\n",
       "</tr>\n",
       "<tr>\n",
       "  <th>Skew:</th>          <td> 0.496</td> <th>  Prob(JB):          </th> <td>   0.698</td>\n",
       "</tr>\n",
       "<tr>\n",
       "  <th>Kurtosis:</th>      <td> 2.504</td> <th>  Cond. No.          </th> <td>1.64e+10</td>\n",
       "</tr>\n",
       "</table><br/><br/>Warnings:<br/>[1] Standard Errors assume that the covariance matrix of the errors is correctly specified.<br/>[2] The smallest eigenvalue is 5.22e-20. This might indicate that there are<br/>strong multicollinearity problems or that the design matrix is singular."
      ],
      "text/plain": [
       "<class 'statsmodels.iolib.summary.Summary'>\n",
       "\"\"\"\n",
       "                            OLS Regression Results                            \n",
       "==============================================================================\n",
       "Dep. Variable:                      y   R-squared:                       0.012\n",
       "Model:                            OLS   Adj. R-squared:                 -0.168\n",
       "Method:                 Least Squares   F-statistic:                   0.06743\n",
       "Date:                Sun, 14 Mar 2021   Prob (F-statistic):              0.935\n",
       "Time:                        10:26:49   Log-Likelihood:                 31.947\n",
       "No. Observations:                  14   AIC:                            -57.89\n",
       "Df Residuals:                      11   BIC:                            -55.98\n",
       "Df Model:                           2                                         \n",
       "Covariance Type:            nonrobust                                         \n",
       "==============================================================================\n",
       "                 coef    std err          t      P>|t|      [0.025      0.975]\n",
       "------------------------------------------------------------------------------\n",
       "const         -0.0194      0.013     -1.548      0.150      -0.047       0.008\n",
       "erp         8286.7188   2.52e+04      0.329      0.748   -4.71e+04    6.36e+04\n",
       "alpha       1.225e+07   1.22e+08      0.100      0.922   -2.56e+08    2.81e+08\n",
       "==============================================================================\n",
       "Omnibus:                        0.947   Durbin-Watson:                   2.563\n",
       "Prob(Omnibus):                  0.623   Jarque-Bera (JB):                0.718\n",
       "Skew:                           0.496   Prob(JB):                        0.698\n",
       "Kurtosis:                       2.504   Cond. No.                     1.64e+10\n",
       "==============================================================================\n",
       "\n",
       "Warnings:\n",
       "[1] Standard Errors assume that the covariance matrix of the errors is correctly specified.\n",
       "[2] The smallest eigenvalue is 5.22e-20. This might indicate that there are\n",
       "strong multicollinearity problems or that the design matrix is singular.\n",
       "\"\"\""
      ]
     },
     "execution_count": 141,
     "metadata": {},
     "output_type": "execute_result"
    }
   ],
   "source": [
    "# linear regression non-decision time\n",
    "y = par_t\n",
    "X = reg_independent_diff\n",
    "X = sm.add_constant(X)\n",
    "# Note the difference in argument order\n",
    "model_t = sm.OLS(y, X).fit()\n",
    "predictions = model_t.predict(X) # make the predictions by the model\n",
    "# Print out the statistics\n",
    "model_t.summary()"
   ]
  },
  {
   "cell_type": "code",
   "execution_count": 142,
   "metadata": {},
   "outputs": [],
   "source": [
    "#plot main effect, ccp\n",
    "fig = sm.graphics.plot_ccpr(model_t, \"erp\")\n",
    "fig.tight_layout(pad=1.0)"
   ]
  },
  {
   "cell_type": "code",
   "execution_count": 144,
   "metadata": {},
   "outputs": [
    {
     "name": "stderr",
     "output_type": "stream",
     "text": [
      "No handles with labels found to put in legend.\n"
     ]
    }
   ],
   "source": [
    "fig = sm.graphics.plot_ccpr(model_t, \"alpha\")\n",
    "fig.tight_layout(pad=1.0)"
   ]
  },
  {
   "cell_type": "code",
   "execution_count": 23,
   "metadata": {},
   "outputs": [],
   "source": [
    "#defference reaction time and accuracy\n",
    "diff_acc = np.array([ 0.02428127,  2.28873239, -0.91701287,  0.03399378,  0.70921986,\n",
    "         1.43307397, -0.63936064,  8.36698513,  2.13729932, -0.85513078,\n",
    "        -2.2713258 , -2.77777778,  3.54082537,  4.38426821])\n",
    "diff_rt = np.array([ -19.75610227,  -24.30786221,   17.97791128,  -15.82163545,\n",
    "         -36.99108643,  -25.74826506,  -34.93650585,  -17.63462144,\n",
    "         -20.26893915,   -8.51105231,  -28.80825474,  -16.5348064 ,\n",
    "        -103.9004591 ,   -7.49084192])"
   ]
  },
  {
   "cell_type": "code",
   "execution_count": 24,
   "metadata": {},
   "outputs": [
    {
     "name": "stderr",
     "output_type": "stream",
     "text": [
      "C:\\Users\\amin\\Anaconda3\\lib\\site-packages\\numpy\\core\\fromnumeric.py:2389: FutureWarning: Method .ptp is deprecated and will be removed in a future version. Use numpy.ptp instead.\n",
      "  return ptp(axis=axis, out=out, **kwargs)\n",
      "C:\\Users\\amin\\Anaconda3\\lib\\site-packages\\scipy\\stats\\stats.py:1450: UserWarning: kurtosistest only valid for n>=20 ... continuing anyway, n=14\n",
      "  \"anyway, n=%i\" % int(n))\n"
     ]
    },
    {
     "data": {
      "text/html": [
       "<table class=\"simpletable\">\n",
       "<caption>OLS Regression Results</caption>\n",
       "<tr>\n",
       "  <th>Dep. Variable:</th>            <td>y</td>        <th>  R-squared:         </th> <td>   0.387</td>\n",
       "</tr>\n",
       "<tr>\n",
       "  <th>Model:</th>                   <td>OLS</td>       <th>  Adj. R-squared:    </th> <td>   0.275</td>\n",
       "</tr>\n",
       "<tr>\n",
       "  <th>Method:</th>             <td>Least Squares</td>  <th>  F-statistic:       </th> <td>   3.469</td>\n",
       "</tr>\n",
       "<tr>\n",
       "  <th>Date:</th>             <td>Mon, 15 Mar 2021</td> <th>  Prob (F-statistic):</th>  <td>0.0679</td> \n",
       "</tr>\n",
       "<tr>\n",
       "  <th>Time:</th>                 <td>18:35:30</td>     <th>  Log-Likelihood:    </th> <td> -61.830</td>\n",
       "</tr>\n",
       "<tr>\n",
       "  <th>No. Observations:</th>      <td>    14</td>      <th>  AIC:               </th> <td>   129.7</td>\n",
       "</tr>\n",
       "<tr>\n",
       "  <th>Df Residuals:</th>          <td>    11</td>      <th>  BIC:               </th> <td>   131.6</td>\n",
       "</tr>\n",
       "<tr>\n",
       "  <th>Df Model:</th>              <td>     2</td>      <th>                     </th>     <td> </td>   \n",
       "</tr>\n",
       "<tr>\n",
       "  <th>Covariance Type:</th>      <td>nonrobust</td>    <th>                     </th>     <td> </td>   \n",
       "</tr>\n",
       "</table>\n",
       "<table class=\"simpletable\">\n",
       "<tr>\n",
       "    <td></td>       <th>coef</th>     <th>std err</th>      <th>t</th>      <th>P>|t|</th>  <th>[0.025</th>    <th>0.975]</th>  \n",
       "</tr>\n",
       "<tr>\n",
       "  <th>const</th> <td>  -11.6572</td> <td>   10.140</td> <td>   -1.150</td> <td> 0.275</td> <td>  -33.976</td> <td>   10.662</td>\n",
       "</tr>\n",
       "<tr>\n",
       "  <th>erp</th>   <td> 8.253e+06</td> <td> 2.04e+07</td> <td>    0.405</td> <td> 0.694</td> <td>-3.66e+07</td> <td> 5.32e+07</td>\n",
       "</tr>\n",
       "<tr>\n",
       "  <th>alpha</th> <td>-1.643e+11</td> <td> 9.89e+10</td> <td>   -1.661</td> <td> 0.125</td> <td>-3.82e+11</td> <td> 5.35e+10</td>\n",
       "</tr>\n",
       "</table>\n",
       "<table class=\"simpletable\">\n",
       "<tr>\n",
       "  <th>Omnibus:</th>       <td>11.862</td> <th>  Durbin-Watson:     </th> <td>   2.216</td>\n",
       "</tr>\n",
       "<tr>\n",
       "  <th>Prob(Omnibus):</th> <td> 0.003</td> <th>  Jarque-Bera (JB):  </th> <td>   7.870</td>\n",
       "</tr>\n",
       "<tr>\n",
       "  <th>Skew:</th>          <td> 1.351</td> <th>  Prob(JB):          </th> <td>  0.0195</td>\n",
       "</tr>\n",
       "<tr>\n",
       "  <th>Kurtosis:</th>      <td> 5.489</td> <th>  Cond. No.          </th> <td>1.64e+10</td>\n",
       "</tr>\n",
       "</table><br/><br/>Warnings:<br/>[1] Standard Errors assume that the covariance matrix of the errors is correctly specified.<br/>[2] The smallest eigenvalue is 5.22e-20. This might indicate that there are<br/>strong multicollinearity problems or that the design matrix is singular."
      ],
      "text/plain": [
       "<class 'statsmodels.iolib.summary.Summary'>\n",
       "\"\"\"\n",
       "                            OLS Regression Results                            \n",
       "==============================================================================\n",
       "Dep. Variable:                      y   R-squared:                       0.387\n",
       "Model:                            OLS   Adj. R-squared:                  0.275\n",
       "Method:                 Least Squares   F-statistic:                     3.469\n",
       "Date:                Mon, 15 Mar 2021   Prob (F-statistic):             0.0679\n",
       "Time:                        18:35:30   Log-Likelihood:                -61.830\n",
       "No. Observations:                  14   AIC:                             129.7\n",
       "Df Residuals:                      11   BIC:                             131.6\n",
       "Df Model:                           2                                         \n",
       "Covariance Type:            nonrobust                                         \n",
       "==============================================================================\n",
       "                 coef    std err          t      P>|t|      [0.025      0.975]\n",
       "------------------------------------------------------------------------------\n",
       "const        -11.6572     10.140     -1.150      0.275     -33.976      10.662\n",
       "erp         8.253e+06   2.04e+07      0.405      0.694   -3.66e+07    5.32e+07\n",
       "alpha      -1.643e+11   9.89e+10     -1.661      0.125   -3.82e+11    5.35e+10\n",
       "==============================================================================\n",
       "Omnibus:                       11.862   Durbin-Watson:                   2.216\n",
       "Prob(Omnibus):                  0.003   Jarque-Bera (JB):                7.870\n",
       "Skew:                           1.351   Prob(JB):                       0.0195\n",
       "Kurtosis:                       5.489   Cond. No.                     1.64e+10\n",
       "==============================================================================\n",
       "\n",
       "Warnings:\n",
       "[1] Standard Errors assume that the covariance matrix of the errors is correctly specified.\n",
       "[2] The smallest eigenvalue is 5.22e-20. This might indicate that there are\n",
       "strong multicollinearity problems or that the design matrix is singular.\n",
       "\"\"\""
      ]
     },
     "execution_count": 24,
     "metadata": {},
     "output_type": "execute_result"
    }
   ],
   "source": [
    "#response time regression response time \n",
    "y = diff_rt\n",
    "X = reg_independent_diff\n",
    "X = sm.add_constant(X)\n",
    "# Note the difference in argument order\n",
    "model_per = sm.OLS(y, X).fit()\n",
    "predictions = model_per.predict(X) # make the predictions by the model\n",
    "# Print out the statistics\n",
    "model_per.summary()"
   ]
  },
  {
   "cell_type": "code",
   "execution_count": 25,
   "metadata": {},
   "outputs": [],
   "source": [
    "fig = sm.graphics.plot_ccpr(model_per, \"erp\")\n",
    "fig.tight_layout(pad=1.0)"
   ]
  },
  {
   "cell_type": "code",
   "execution_count": 26,
   "metadata": {},
   "outputs": [],
   "source": [
    "fig = sm.graphics.plot_ccpr(model_per, \"alpha\")\n",
    "fig.tight_layout(pad=1.0)"
   ]
  },
  {
   "cell_type": "code",
   "execution_count": 138,
   "metadata": {},
   "outputs": [
    {
     "data": {
      "text/html": [
       "<table class=\"simpletable\">\n",
       "<caption>OLS Regression Results</caption>\n",
       "<tr>\n",
       "  <th>Dep. Variable:</th>            <td>y</td>        <th>  R-squared:         </th> <td>   0.141</td>\n",
       "</tr>\n",
       "<tr>\n",
       "  <th>Model:</th>                   <td>OLS</td>       <th>  Adj. R-squared:    </th> <td>  -0.015</td>\n",
       "</tr>\n",
       "<tr>\n",
       "  <th>Method:</th>             <td>Least Squares</td>  <th>  F-statistic:       </th> <td>  0.9025</td>\n",
       "</tr>\n",
       "<tr>\n",
       "  <th>Date:</th>             <td>Sun, 14 Mar 2021</td> <th>  Prob (F-statistic):</th>  <td> 0.434</td> \n",
       "</tr>\n",
       "<tr>\n",
       "  <th>Time:</th>                 <td>08:40:28</td>     <th>  Log-Likelihood:    </th> <td> -33.353</td>\n",
       "</tr>\n",
       "<tr>\n",
       "  <th>No. Observations:</th>      <td>    14</td>      <th>  AIC:               </th> <td>   72.71</td>\n",
       "</tr>\n",
       "<tr>\n",
       "  <th>Df Residuals:</th>          <td>    11</td>      <th>  BIC:               </th> <td>   74.62</td>\n",
       "</tr>\n",
       "<tr>\n",
       "  <th>Df Model:</th>              <td>     2</td>      <th>                     </th>     <td> </td>   \n",
       "</tr>\n",
       "<tr>\n",
       "  <th>Covariance Type:</th>      <td>nonrobust</td>    <th>                     </th>     <td> </td>   \n",
       "</tr>\n",
       "</table>\n",
       "<table class=\"simpletable\">\n",
       "<tr>\n",
       "    <td></td>       <th>coef</th>     <th>std err</th>      <th>t</th>      <th>P>|t|</th>  <th>[0.025</th>    <th>0.975]</th>  \n",
       "</tr>\n",
       "<tr>\n",
       "  <th>const</th> <td>    1.1700</td> <td>    1.326</td> <td>    0.882</td> <td> 0.397</td> <td>   -1.749</td> <td>    4.089</td>\n",
       "</tr>\n",
       "<tr>\n",
       "  <th>erp</th>   <td>  1.82e+06</td> <td> 2.67e+06</td> <td>    0.682</td> <td> 0.509</td> <td>-4.05e+06</td> <td> 7.69e+06</td>\n",
       "</tr>\n",
       "<tr>\n",
       "  <th>alpha</th> <td> 1.703e+10</td> <td> 1.29e+10</td> <td>    1.316</td> <td> 0.215</td> <td>-1.14e+10</td> <td> 4.55e+10</td>\n",
       "</tr>\n",
       "</table>\n",
       "<table class=\"simpletable\">\n",
       "<tr>\n",
       "  <th>Omnibus:</th>       <td> 7.717</td> <th>  Durbin-Watson:     </th> <td>   2.056</td>\n",
       "</tr>\n",
       "<tr>\n",
       "  <th>Prob(Omnibus):</th> <td> 0.021</td> <th>  Jarque-Bera (JB):  </th> <td>   4.263</td>\n",
       "</tr>\n",
       "<tr>\n",
       "  <th>Skew:</th>          <td> 1.266</td> <th>  Prob(JB):          </th> <td>   0.119</td>\n",
       "</tr>\n",
       "<tr>\n",
       "  <th>Kurtosis:</th>      <td> 3.945</td> <th>  Cond. No.          </th> <td>1.64e+10</td>\n",
       "</tr>\n",
       "</table><br/><br/>Warnings:<br/>[1] Standard Errors assume that the covariance matrix of the errors is correctly specified.<br/>[2] The smallest eigenvalue is 5.22e-20. This might indicate that there are<br/>strong multicollinearity problems or that the design matrix is singular."
      ],
      "text/plain": [
       "<class 'statsmodels.iolib.summary.Summary'>\n",
       "\"\"\"\n",
       "                            OLS Regression Results                            \n",
       "==============================================================================\n",
       "Dep. Variable:                      y   R-squared:                       0.141\n",
       "Model:                            OLS   Adj. R-squared:                 -0.015\n",
       "Method:                 Least Squares   F-statistic:                    0.9025\n",
       "Date:                Sun, 14 Mar 2021   Prob (F-statistic):              0.434\n",
       "Time:                        08:40:28   Log-Likelihood:                -33.353\n",
       "No. Observations:                  14   AIC:                             72.71\n",
       "Df Residuals:                      11   BIC:                             74.62\n",
       "Df Model:                           2                                         \n",
       "Covariance Type:            nonrobust                                         \n",
       "==============================================================================\n",
       "                 coef    std err          t      P>|t|      [0.025      0.975]\n",
       "------------------------------------------------------------------------------\n",
       "const          1.1700      1.326      0.882      0.397      -1.749       4.089\n",
       "erp          1.82e+06   2.67e+06      0.682      0.509   -4.05e+06    7.69e+06\n",
       "alpha       1.703e+10   1.29e+10      1.316      0.215   -1.14e+10    4.55e+10\n",
       "==============================================================================\n",
       "Omnibus:                        7.717   Durbin-Watson:                   2.056\n",
       "Prob(Omnibus):                  0.021   Jarque-Bera (JB):                4.263\n",
       "Skew:                           1.266   Prob(JB):                        0.119\n",
       "Kurtosis:                       3.945   Cond. No.                     1.64e+10\n",
       "==============================================================================\n",
       "\n",
       "Warnings:\n",
       "[1] Standard Errors assume that the covariance matrix of the errors is correctly specified.\n",
       "[2] The smallest eigenvalue is 5.22e-20. This might indicate that there are\n",
       "strong multicollinearity problems or that the design matrix is singular.\n",
       "\"\"\""
      ]
     },
     "execution_count": 138,
     "metadata": {},
     "output_type": "execute_result"
    }
   ],
   "source": [
    "#response time regression accuracy\n",
    "y = diff_acc\n",
    "X = reg_independent_diff\n",
    "X = sm.add_constant(X)\n",
    "# Note the difference in argument order\n",
    "model_per = sm.OLS(y, X).fit()\n",
    "predictions = model_per.predict(X) # make the predictions by the model\n",
    "# Print out the statistics\n",
    "model_per.summary()"
   ]
  },
  {
   "cell_type": "code",
   "execution_count": null,
   "metadata": {},
   "outputs": [],
   "source": []
  }
 ],
 "metadata": {
  "kernelspec": {
   "display_name": "Python 3",
   "language": "python",
   "name": "python3"
  },
  "language_info": {
   "codemirror_mode": {
    "name": "ipython",
    "version": 3
   },
   "file_extension": ".py",
   "mimetype": "text/x-python",
   "name": "python",
   "nbconvert_exporter": "python",
   "pygments_lexer": "ipython3",
   "version": "3.7.4"
  }
 },
 "nbformat": 4,
 "nbformat_minor": 2
}
